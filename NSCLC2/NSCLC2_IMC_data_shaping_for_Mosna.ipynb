{
 "cells": [
  {
   "cell_type": "code",
   "execution_count": 2,
   "metadata": {
    "id": "JKhcAxA5hV3e"
   },
   "outputs": [],
   "source": [
    "import pandas as pd\n",
    "import os\n",
    "from pathlib import Path\n",
    "import numpy as np"
   ]
  },
  {
   "cell_type": "markdown",
   "metadata": {},
   "source": [
    "# Prepare input data for Mosna analysis"
   ]
  },
  {
   "cell_type": "markdown",
   "metadata": {},
   "source": [
    "Mosna require an input file with cells coordinates, marker levels (expression as counts or protein levels) and both a column with cell type for each cell and a set of columns one hot encoded for celltypes\n",
    "\n",
    "In IMMUCAN, IMC files for NSCLC2 are composed of two separate files:\n",
    "- raw count files with protein levels \n",
    "- cell metadata files with celltypes, coordinates and lot more.\n",
    "\n",
    "Moreover, Mosna suppose to start with one sigle file with all the samples and patients inside. In later steps, this initial file will be processed into single nodes and edges files with .parquet extention"
   ]
  },
  {
   "cell_type": "code",
   "execution_count": 3,
   "metadata": {},
   "outputs": [],
   "source": [
    "raw_counts_path = Path(\"../../IMMUCAN_data/NSCLC2/01_Imaging/IMC/01_raw_counts\")\n",
    "cell_metadata_path = Path(\"../../IMMUCAN_data/NSCLC2/01_Imaging/IMC/01_cell_metadata\")\n",
    "\n",
    "output_folder = Path(\"../../IMMUCAN_data/NSCLC2/01_Imaging/IMC/02_combined_files\")"
   ]
  },
  {
   "cell_type": "code",
   "execution_count": 4,
   "metadata": {},
   "outputs": [],
   "source": [
    "raw_files = os.listdir(raw_counts_path)\n",
    "metadata_files = os.listdir(cell_metadata_path)"
   ]
  },
  {
   "cell_type": "code",
   "execution_count": 11,
   "metadata": {},
   "outputs": [
    {
     "name": "stdout",
     "output_type": "stream",
     "text": [
      "['LUNG-NSCLC2-0552-FIXT-01-IMC1-01_#_IMMUcan_panel_1_1.10', 'LUNG-NSCLC2-0553-FIXT-01-IMC1-01_#_IMMUcan_panel_1_1.10', 'LUNG-NSCLC2-0554-FIXT-01-IMC1-01_#_IMMUcan_panel_1_1.10', 'LUNG-NSCLC2-0555-FIXT-01-IMC1-01_#_IMMUcan_panel_1_1.10', 'LUNG-NSCLC2-0556-FIXT-01-IMC1-01_#_IMMUcan_panel_1_1.10', 'LUNG-NSCLC2-0557-FIXT-01-IMC1-01_#_IMMUcan_panel_1_1.10', 'LUNG-NSCLC2-0558-FIXT-01-IMC1-01_#_IMMUcan_panel_1_1.10', 'LUNG-NSCLC2-0559-FIXT-01-IMC1-01_#_IMMUcan_panel_1_1.10', 'LUNG-NSCLC2-0560-FIXT-01-IMC1-01_#_IMMUcan_panel_1_1.10', 'LUNG-NSCLC2-0561-FIXT-01-IMC1-01_#_IMMUcan_panel_1_1.10', 'LUNG-NSCLC2-0562-FIXT-01-IMC1-01_#_IMMUcan_panel_1_1.10', 'LUNG-NSCLC2-0563-FIXT-01-IMC1-01_#_IMMUcan_panel_1_1.10', 'LUNG-NSCLC2-0564-FIXT-01-IMC1-01_#_IMMUcan_panel_1_1.10', 'LUNG-NSCLC2-0565-FIXT-01-IMC1-01_#_IMMUcan_panel_1_1.10', 'LUNG-NSCLC2-0566-FIXT-01-IMC1-01_#_IMMUcan_panel_1_1.10', 'LUNG-NSCLC2-0567-FIXT-01-IMC1-01_#_IMMUcan_panel_1_1.10', 'LUNG-NSCLC2-0568-FIXT-01-IMC1-01_#_IMMUcan_panel_1_1.10', 'LUNG-NSCLC2-0569-FIXT-01-IMC1-01_#_IMMUcan_panel_1_1.10', 'LUNG-NSCLC2-0570-FIXT-01-IMC1-01_#_IMMUcan_panel_1_1.10', 'LUNG-NSCLC2-0571-FIXT-01-IMC1-01_#_IMMUcan_panel_1_1.10', 'LUNG-NSCLC2-0572-FIXT-01-IMC1-01_#_IMMUcan_panel_1_1.10', 'LUNG-NSCLC2-0573-FIXT-01-IMC1-01_#_IMMUcan_panel_1_1.10', 'LUNG-NSCLC2-0574-FIXT-01-IMC1-01_#_IMMUcan_panel_1_1.10', 'LUNG-NSCLC2-0575-FIXT-01-IMC1-01_#_IMMUcan_panel_1_1.10', 'LUNG-NSCLC2-0576-FIXT-01-IMC1-01_#_IMMUcan_panel_1_1.10', 'LUNG-NSCLC2-0577-FIXT-01-IMC1-01_#_IMMUcan_panel_1_1.10', 'LUNG-NSCLC2-0578-FIXT-01-IMC1-01_#_IMMUcan_panel_1_1.10', 'LUNG-NSCLC2-0579-FIXT-01-IMC1-01_#_IMMUcan_panel_1_1.10', 'LUNG-NSCLC2-0580-FIXT-01-IMC1-01_#_IMMUcan_panel_1_1.10', 'LUNG-NSCLC2-0581-FIXT-01-IMC1-01_#_IMMUcan_panel_1_1.10', 'LUNG-NSCLC2-0582-FIXT-01-IMC1-01_#_IMMUcan_panel_1_1.10', 'LUNG-NSCLC2-0583-FIXT-01-IMC1-01_#_IMMUcan_panel_1_1.10', 'LUNG-NSCLC2-0584-FIXT-01-IMC1-01_#_IMMUcan_panel_1_1.10', 'LUNG-NSCLC2-0585-FIXT-01-IMC1-01_#_IMMUcan_panel_1_1.10', 'LUNG-NSCLC2-0586-FIXT-01-IMC1-01_#_IMMUcan_panel_1_1.10', 'LUNG-NSCLC2-0587-FIXT-01-IMC1-01_#_IMMUcan_panel_1_1.10', 'LUNG-NSCLC2-0588-FIXT-01-IMC1-01_#_IMMUcan_panel_1_1.10', 'LUNG-NSCLC2-0589-FIXT-01-IMC1-01_#_IMMUcan_panel_1_1.10', 'LUNG-NSCLC2-0590-FIXT-01-IMC1-01_#_IMMUcan_panel_1_1.10', 'LUNG-NSCLC2-0591-FIXT-01-IMC1-01_#_IMMUcan_panel_1_1.10', 'LUNG-NSCLC2-0592-FIXT-01-IMC1-01_#_IMMUcan_panel_1_1.10', 'LUNG-NSCLC2-0593-FIXT-01-IMC1-01_#_IMMUcan_panel_1_1.10', 'LUNG-NSCLC2-0594-FIXT-01-IMC1-01_#_IMMUcan_panel_1_1.10', 'LUNG-NSCLC2-0595-FIXT-01-IMC1-01_#_IMMUcan_panel_1_1.10', 'LUNG-NSCLC2-0596-FIXT-01-IMC1-01_#_IMMUcan_panel_1_1.10', 'LUNG-NSCLC2-0597-FIXT-01-IMC1-01_#_IMMUcan_panel_1_1.10', 'LUNG-NSCLC2-0598-FIXT-01-IMC1-01_#_IMMUcan_panel_1_1.10', 'LUNG-NSCLC2-0598-FIXT-02-IMC1-01_#_IMMUcan_panel_1_1.10', 'LUNG-NSCLC2-0599-FIXT-01-IMC1-01_#_IMMUcan_panel_1_1.10', 'LUNG-NSCLC2-0600-FIXT-01-IMC1-01_#_IMMUcan_panel_1_1.10', 'LUNG-NSCLC2-0601-FIXT-01-IMC1-01_#_IMMUcan_panel_1_1.10', 'LUNG-NSCLC2-0602-FIXT-01-IMC1-01_#_IMMUcan_panel_1_1.10', 'LUNG-NSCLC2-0603-FIXT-01-IMC1-01_#_IMMUcan_panel_1_1.10', 'LUNG-NSCLC2-0604-FIXT-01-IMC1-01_#_IMMUcan_panel_1_1.10', 'LUNG-NSCLC2-0605-FIXT-01-IMC1-01_#_IMMUcan_panel_1_1.10', 'LUNG-NSCLC2-0606-FIXT-01-IMC1-01_#_IMMUcan_panel_1_1.10', 'LUNG-NSCLC2-0607-FIXT-01-IMC1-01_#_IMMUcan_panel_1_1.10', 'LUNG-NSCLC2-0608-FIXT-01-IMC1-01_#_IMMUcan_panel_1_1.10', 'LUNG-NSCLC2-0609-FIXT-01-IMC1-01_#_IMMUcan_panel_1_1.10', 'LUNG-NSCLC2-0610-FIXT-01-IMC1-01_#_IMMUcan_panel_1_1.10', 'LUNG-NSCLC2-0611-FIXT-01-IMC1-01_#_IMMUcan_panel_1_1.10', 'LUNG-NSCLC2-0612-FIXT-01-IMC1-01_#_IMMUcan_panel_1_1.10', 'LUNG-NSCLC2-0613-FIXT-01-IMC1-01_#_IMMUcan_panel_1_1.10', 'LUNG-NSCLC2-0614-FIXT-01-IMC1-01_#_IMMUcan_panel_1_1.10', 'LUNG-NSCLC2-0615-FIXT-01-IMC1-01_#_IMMUcan_panel_1_1.10', 'LUNG-NSCLC2-0616-FIXT-01-IMC1-01_#_IMMUcan_panel_1_1.10', 'LUNG-NSCLC2-0617-FIXT-01-IMC1-01_#_IMMUcan_panel_1_1.10', 'LUNG-NSCLC2-0618-FIXT-01-IMC1-01_#_IMMUcan_panel_1_1.10', 'LUNG-NSCLC2-0619-FIXT-01-IMC1-01_#_IMMUcan_panel_1_1.10', 'LUNG-NSCLC2-0620-FIXT-01-IMC1-01_#_IMMUcan_panel_1_1.10', 'LUNG-NSCLC2-0621-FIXT-01-IMC1-01_#_IMMUcan_panel_1_1.10', 'LUNG-NSCLC2-0622-FIXT-01-IMC1-01_#_IMMUcan_panel_1_1.10', 'LUNG-NSCLC2-0623-FIXT-01-IMC1-01_#_IMMUcan_panel_1_1.10', 'LUNG-NSCLC2-0624-FIXT-01-IMC1-01_#_IMMUcan_panel_1_1.10', 'LUNG-NSCLC2-0625-FIXT-01-IMC1-01_#_IMMUcan_panel_1_1.10', 'LUNG-NSCLC2-0626-FIXT-01-IMC1-01_#_IMMUcan_panel_1_1.10', 'LUNG-NSCLC2-0627-FIXT-01-IMC1-01_#_IMMUcan_panel_1_1.10', 'LUNG-NSCLC2-0628-FIXT-01-IMC1-01_#_IMMUcan_panel_1_1.10', 'LUNG-NSCLC2-0629-FIXT-01-IMC1-01_#_IMMUcan_panel_1_1.10', 'LUNG-NSCLC2-0630-FIXT-01-IMC1-01_#_IMMUcan_panel_1_1.10', 'LUNG-NSCLC2-0631-FIXT-01-IMC1-01_#_IMMUcan_panel_1_1.10', 'LUNG-NSCLC2-0632-FIXT-01-IMC1-01_#_IMMUcan_panel_1_1.10', 'LUNG-NSCLC2-0633-FIXT-01-IMC1-01_#_IMMUcan_panel_1_1.10', 'LUNG-NSCLC2-0634-FIXT-01-IMC1-01_#_IMMUcan_panel_1_1.10', 'LUNG-NSCLC2-0635-FIXT-01-IMC1-01_#_IMMUcan_panel_1_1.10', 'LUNG-NSCLC2-0636-FIXT-01-IMC1-01_#_IMMUcan_panel_1_1.10', 'LUNG-NSCLC2-0637-FIXT-01-IMC1-01_#_IMMUcan_panel_1_1.10', 'LUNG-NSCLC2-0639-FIXT-01-IMC1-01_#_IMMUcan_panel_1_1.10', 'LUNG-NSCLC2-0640-FIXT-01-IMC1-01_#_IMMUcan_panel_1_1.10', 'LUNG-NSCLC2-0641-FIXT-01-IMC1-01_#_IMMUcan_panel_1_1.10', 'LUNG-NSCLC2-0642-FIXT-01-IMC1-01_#_IMMUcan_panel_1_1.10', 'LUNG-NSCLC2-0643-FIXT-01-IMC1-01_#_IMMUcan_panel_1_1.10', 'LUNG-NSCLC2-0644-FIXT-01-IMC1-01_#_IMMUcan_panel_1_1.10', 'LUNG-NSCLC2-0645-FIXT-01-IMC1-01_#_IMMUcan_panel_1_1.10', 'LUNG-NSCLC2-0646-FIXT-01-IMC1-01_#_IMMUcan_panel_1_1.10', 'LUNG-NSCLC2-0647-FIXT-01-IMC1-01_#_IMMUcan_panel_1_1.10', 'LUNG-NSCLC2-0648-FIXT-01-IMC1-01_#_IMMUcan_panel_1_1.10', 'LUNG-NSCLC2-0649-FIXT-01-IMC1-01_#_IMMUcan_panel_1_1.10', 'LUNG-NSCLC2-0650-FIXT-01-IMC1-01_#_IMMUcan_panel_1_1.10', 'LUNG-NSCLC2-0651-FIXT-01-IMC1-01_#_IMMUcan_panel_1_1.10', 'LUNG-NSCLC2-0652-FIXT-01-IMC1-01_#_IMMUcan_panel_1_1.10', 'LUNG-NSCLC2-0653-FIXT-01-IMC1-01_#_IMMUcan_panel_1_1.10', 'LUNG-NSCLC2-0654-FIXT-01-IMC1-01_#_IMMUcan_panel_1_1.10', 'LUNG-NSCLC2-0655-FIXT-01-IMC1-01_#_IMMUcan_panel_1_1.10', 'LUNG-NSCLC2-0656-FIXT-01-IMC1-01_#_IMMUcan_panel_1_1.10', 'LUNG-NSCLC2-0657-FIXT-01-IMC1-01_#_IMMUcan_panel_1_1.10', 'LUNG-NSCLC2-0658-FIXT-01-IMC1-01_#_IMMUcan_panel_1_1.10', 'LUNG-NSCLC2-0659-FIXT-01-IMC1-01_#_IMMUcan_panel_1_1.10', 'LUNG-NSCLC2-0660-FIXT-01-IMC1-01_#_IMMUcan_panel_1_1.10', 'LUNG-NSCLC2-0661-FIXT-01-IMC1-01_#_IMMUcan_panel_1_1.10', 'LUNG-NSCLC2-0662-FIXT-01-IMC1-01_#_IMMUcan_panel_1_1.10', 'LUNG-NSCLC2-0663-FIXT-01-IMC1-01_#_IMMUcan_panel_1_1.10', 'LUNG-NSCLC2-0664-FIXT-01-IMC1-01_#_IMMUcan_panel_1_1.10', 'LUNG-NSCLC2-0665-FIXT-01-IMC1-01_#_IMMUcan_panel_1_1.10', 'LUNG-NSCLC2-0666-FIXT-01-IMC1-01_#_IMMUcan_panel_1_1.10', 'LUNG-NSCLC2-0667-FIXT-01-IMC1-01_#_IMMUcan_panel_1_1.10', 'LUNG-NSCLC2-0668-FIXT-01-IMC1-01_#_IMMUcan_panel_1_1.10', 'LUNG-NSCLC2-0669-FIXT-01-IMC1-01_#_IMMUcan_panel_1_1.10', 'LUNG-NSCLC2-0670-FIXT-01-IMC1-01_#_IMMUcan_panel_1_1.10', 'LUNG-NSCLC2-0671-FIXT-01-IMC1-01_#_IMMUcan_panel_1_1.10', 'LUNG-NSCLC2-0672-FIXT-01-IMC1-01_#_IMMUcan_panel_1_1.10', 'LUNG-NSCLC2-0673-FIXT-01-IMC1-01_#_IMMUcan_panel_1_1.10', 'LUNG-NSCLC2-0674-FIXT-01-IMC1-01_#_IMMUcan_panel_1_1.10', 'LUNG-NSCLC2-0675-FIXT-01-IMC1-01_#_IMMUcan_panel_1_1.10', 'LUNG-NSCLC2-0676-FIXT-01-IMC1-01_#_IMMUcan_panel_1_1.10', 'LUNG-NSCLC2-0677-FIXT-01-IMC1-01_#_IMMUcan_panel_1_1.10', 'LUNG-NSCLC2-0678-FIXT-01-IMC1-01_#_IMMUcan_panel_1_1.10', 'LUNG-NSCLC2-0679-FIXT-01-IMC1-01_#_IMMUcan_panel_1_1.10', 'LUNG-NSCLC2-0680-FIXT-01-IMC1-01_#_IMMUcan_panel_1_1.10', 'LUNG-NSCLC2-0681-FIXT-01-IMC1-01_#_IMMUcan_panel_1_1.10', 'LUNG-NSCLC2-0682-FIXT-01-IMC1-01_#_IMMUcan_panel_1_1.10', 'LUNG-NSCLC2-0683-FIXT-01-IMC1-01_#_IMMUcan_panel_1_1.10', 'LUNG-NSCLC2-0684-FIXT-01-IMC1-01_#_IMMUcan_panel_1_1.10', 'LUNG-NSCLC2-0685-FIXT-01-IMC1-01_#_IMMUcan_panel_1_1.10', 'LUNG-NSCLC2-0686-FIXT-01-IMC1-01_#_IMMUcan_panel_1_1.10', 'LUNG-NSCLC2-0687-FIXT-01-IMC1-01_#_IMMUcan_panel_1_1.10', 'LUNG-NSCLC2-0688-FIXT-01-IMC1-01_#_IMMUcan_panel_1_1.10', 'LUNG-NSCLC2-0689-FIXT-01-IMC1-01_#_IMMUcan_panel_1_1.10', 'LUNG-NSCLC2-0690-FIXT-01-IMC1-01_#_IMMUcan_panel_1_1.10', 'LUNG-NSCLC2-0691-FIXT-01-IMC1-01_#_IMMUcan_panel_1_1.10', 'LUNG-NSCLC2-0692-FIXT-01-IMC1-01_#_IMMUcan_panel_1_1.10', 'LUNG-NSCLC2-0693-FIXT-01-IMC1-01_#_IMMUcan_panel_1_1.10', 'LUNG-NSCLC2-0694-FIXT-01-IMC1-01_#_IMMUcan_panel_1_1.10', 'LUNG-NSCLC2-0695-FIXT-01-IMC1-01_#_IMMUcan_panel_1_1.10', 'LUNG-NSCLC2-0696-FIXT-01-IMC1-01_#_IMMUcan_panel_1_1.10', 'LUNG-NSCLC2-0697-FIXT-01-IMC1-01_#_IMMUcan_panel_1_1.10', 'LUNG-NSCLC2-0698-FIXT-01-IMC1-01_#_IMMUcan_panel_1_1.10', 'LUNG-NSCLC2-0699-FIXT-01-IMC1-01_#_IMMUcan_panel_1_1.10', 'LUNG-NSCLC2-0700-FIXT-01-IMC1-01_#_IMMUcan_panel_1_1.10', 'LUNG-NSCLC2-0701-FIXT-01-IMC1-01_#_IMMUcan_panel_1_1.10', 'LUNG-NSCLC2-0702-FIXT-01-IMC1-01_#_IMMUcan_panel_1_1.10', 'LUNG-NSCLC2-0703-FIXT-01-IMC1-01_#_IMMUcan_panel_1_1.10', 'LUNG-NSCLC2-0704-FIXT-01-IMC1-01_#_IMMUcan_panel_1_1.10', 'LUNG-NSCLC2-0705-FIXT-01-IMC1-01_#_IMMUcan_panel_1_1.10', 'LUNG-NSCLC2-0706-FIXT-01-IMC1-01_#_IMMUcan_panel_1_1.10', 'LUNG-NSCLC2-0707-FIXT-01-IMC1-01_#_IMMUcan_panel_1_1.10', 'LUNG-NSCLC2-0708-FIXT-01-IMC1-01_#_IMMUcan_panel_1_1.10', 'LUNG-NSCLC2-0709-FIXT-01-IMC1-01_#_IMMUcan_panel_1_1.10', 'LUNG-NSCLC2-0710-FIXT-01-IMC1-01_#_IMMUcan_panel_1_1.10', 'LUNG-NSCLC2-0711-FIXT-01-IMC1-01_#_IMMUcan_panel_1_1.10', 'LUNG-NSCLC2-0712-FIXT-01-IMC1-01_#_IMMUcan_panel_1_1.10', 'LUNG-NSCLC2-0713-FIXT-01-IMC1-01_#_IMMUcan_panel_1_1.10', 'LUNG-NSCLC2-0714-FIXT-01-IMC1-01_#_IMMUcan_panel_1_1.10', 'LUNG-NSCLC2-0715-FIXT-01-IMC1-01_#_IMMUcan_panel_1_1.10', 'LUNG-NSCLC2-0716-FIXT-01-IMC1-01_#_IMMUcan_panel_1_1.10', 'LUNG-NSCLC2-0717-FIXT-01-IMC1-01_#_IMMUcan_panel_1_1.10', 'LUNG-NSCLC2-0718-FIXT-01-IMC1-01_#_IMMUcan_panel_1_1.10', 'LUNG-NSCLC2-0719-FIXT-01-IMC1-01_#_IMMUcan_panel_1_1.10', 'LUNG-NSCLC2-0720-FIXT-01-IMC1-01_#_IMMUcan_panel_1_1.10', 'LUNG-NSCLC2-0721-FIXT-01-IMC1-01_#_IMMUcan_panel_1_1.10', 'LUNG-NSCLC2-0722-FIXT-01-IMC1-01_#_IMMUcan_panel_1_1.10', 'LUNG-NSCLC2-0723-FIXT-01-IMC1-01_#_IMMUcan_panel_1_1.10', 'LUNG-NSCLC2-0724-FIXT-01-IMC1-01_#_IMMUcan_panel_1_1.10', 'LUNG-NSCLC2-0725-FIXT-01-IMC1-01_#_IMMUcan_panel_1_1.10', 'LUNG-NSCLC2-0726-FIXT-01-IMC1-01_#_IMMUcan_panel_1_1.10', 'LUNG-NSCLC2-0727-FIXT-01-IMC1-01_#_IMMUcan_panel_1_1.10', 'LUNG-NSCLC2-0728-FIXT-01-IMC1-01_#_IMMUcan_panel_1_1.10', 'LUNG-NSCLC2-0729-FIXT-01-IMC1-01_#_IMMUcan_panel_1_1.10', 'LUNG-NSCLC2-0730-FIXT-01-IMC1-01_#_IMMUcan_panel_1_1.10', 'LUNG-NSCLC2-0731-FIXT-01-IMC1-01_#_IMMUcan_panel_1_1.10', 'LUNG-NSCLC2-0732-FIXT-01-IMC1-01_#_IMMUcan_panel_1_1.10', 'LUNG-NSCLC2-0733-FIXT-01-IMC1-01_#_IMMUcan_panel_1_1.10', 'LUNG-NSCLC2-0734-FIXT-01-IMC1-01_#_IMMUcan_panel_1_1.10', 'LUNG-NSCLC2-0735-FIXT-01-IMC1-01_#_IMMUcan_panel_1_1.10', 'LUNG-NSCLC2-0736-FIXT-01-IMC1-01_#_IMMUcan_panel_1_1.10', 'LUNG-NSCLC2-0737-FIXT-01-IMC1-01_#_IMMUcan_panel_1_1.10', 'LUNG-NSCLC2-0738-FIXT-01-IMC1-01_#_IMMUcan_panel_1_1.10', 'LUNG-NSCLC2-0739-FIXT-01-IMC1-01_#_IMMUcan_panel_1_1.10', 'LUNG-NSCLC2-0740-FIXT-01-IMC1-01_#_IMMUcan_panel_1_1.10', 'LUNG-NSCLC2-0741-FIXT-01-IMC1-01_#_IMMUcan_panel_1_1.10', 'LUNG-NSCLC2-0742-FIXT-01-IMC1-01_#_IMMUcan_panel_1_1.10', 'LUNG-NSCLC2-0743-FIXT-01-IMC1-01_#_IMMUcan_panel_1_1.10']\n",
      "['LUNG-NSCLC2-0552-FIXT-01-IMC1-01_#_IMMUcan_panel_1_1.10', 'LUNG-NSCLC2-0553-FIXT-01-IMC1-01_#_IMMUcan_panel_1_1.10', 'LUNG-NSCLC2-0554-FIXT-01-IMC1-01_#_IMMUcan_panel_1_1.10', 'LUNG-NSCLC2-0555-FIXT-01-IMC1-01_#_IMMUcan_panel_1_1.10', 'LUNG-NSCLC2-0556-FIXT-01-IMC1-01_#_IMMUcan_panel_1_1.10', 'LUNG-NSCLC2-0557-FIXT-01-IMC1-01_#_IMMUcan_panel_1_1.10', 'LUNG-NSCLC2-0558-FIXT-01-IMC1-01_#_IMMUcan_panel_1_1.10', 'LUNG-NSCLC2-0559-FIXT-01-IMC1-01_#_IMMUcan_panel_1_1.10', 'LUNG-NSCLC2-0560-FIXT-01-IMC1-01_#_IMMUcan_panel_1_1.10', 'LUNG-NSCLC2-0561-FIXT-01-IMC1-01_#_IMMUcan_panel_1_1.10', 'LUNG-NSCLC2-0562-FIXT-01-IMC1-01_#_IMMUcan_panel_1_1.10', 'LUNG-NSCLC2-0563-FIXT-01-IMC1-01_#_IMMUcan_panel_1_1.10', 'LUNG-NSCLC2-0564-FIXT-01-IMC1-01_#_IMMUcan_panel_1_1.10', 'LUNG-NSCLC2-0565-FIXT-01-IMC1-01_#_IMMUcan_panel_1_1.10', 'LUNG-NSCLC2-0566-FIXT-01-IMC1-01_#_IMMUcan_panel_1_1.10', 'LUNG-NSCLC2-0567-FIXT-01-IMC1-01_#_IMMUcan_panel_1_1.10', 'LUNG-NSCLC2-0568-FIXT-01-IMC1-01_#_IMMUcan_panel_1_1.10', 'LUNG-NSCLC2-0569-FIXT-01-IMC1-01_#_IMMUcan_panel_1_1.10', 'LUNG-NSCLC2-0570-FIXT-01-IMC1-01_#_IMMUcan_panel_1_1.10', 'LUNG-NSCLC2-0571-FIXT-01-IMC1-01_#_IMMUcan_panel_1_1.10', 'LUNG-NSCLC2-0572-FIXT-01-IMC1-01_#_IMMUcan_panel_1_1.10', 'LUNG-NSCLC2-0573-FIXT-01-IMC1-01_#_IMMUcan_panel_1_1.10', 'LUNG-NSCLC2-0574-FIXT-01-IMC1-01_#_IMMUcan_panel_1_1.10', 'LUNG-NSCLC2-0575-FIXT-01-IMC1-01_#_IMMUcan_panel_1_1.10', 'LUNG-NSCLC2-0576-FIXT-01-IMC1-01_#_IMMUcan_panel_1_1.10', 'LUNG-NSCLC2-0577-FIXT-01-IMC1-01_#_IMMUcan_panel_1_1.10', 'LUNG-NSCLC2-0578-FIXT-01-IMC1-01_#_IMMUcan_panel_1_1.10', 'LUNG-NSCLC2-0579-FIXT-01-IMC1-01_#_IMMUcan_panel_1_1.10', 'LUNG-NSCLC2-0580-FIXT-01-IMC1-01_#_IMMUcan_panel_1_1.10', 'LUNG-NSCLC2-0581-FIXT-01-IMC1-01_#_IMMUcan_panel_1_1.10', 'LUNG-NSCLC2-0582-FIXT-01-IMC1-01_#_IMMUcan_panel_1_1.10', 'LUNG-NSCLC2-0583-FIXT-01-IMC1-01_#_IMMUcan_panel_1_1.10', 'LUNG-NSCLC2-0584-FIXT-01-IMC1-01_#_IMMUcan_panel_1_1.10', 'LUNG-NSCLC2-0585-FIXT-01-IMC1-01_#_IMMUcan_panel_1_1.10', 'LUNG-NSCLC2-0586-FIXT-01-IMC1-01_#_IMMUcan_panel_1_1.10', 'LUNG-NSCLC2-0587-FIXT-01-IMC1-01_#_IMMUcan_panel_1_1.10', 'LUNG-NSCLC2-0588-FIXT-01-IMC1-01_#_IMMUcan_panel_1_1.10', 'LUNG-NSCLC2-0589-FIXT-01-IMC1-01_#_IMMUcan_panel_1_1.10', 'LUNG-NSCLC2-0590-FIXT-01-IMC1-01_#_IMMUcan_panel_1_1.10', 'LUNG-NSCLC2-0591-FIXT-01-IMC1-01_#_IMMUcan_panel_1_1.10', 'LUNG-NSCLC2-0592-FIXT-01-IMC1-01_#_IMMUcan_panel_1_1.10', 'LUNG-NSCLC2-0593-FIXT-01-IMC1-01_#_IMMUcan_panel_1_1.10', 'LUNG-NSCLC2-0594-FIXT-01-IMC1-01_#_IMMUcan_panel_1_1.10', 'LUNG-NSCLC2-0595-FIXT-01-IMC1-01_#_IMMUcan_panel_1_1.10', 'LUNG-NSCLC2-0596-FIXT-01-IMC1-01_#_IMMUcan_panel_1_1.10', 'LUNG-NSCLC2-0597-FIXT-01-IMC1-01_#_IMMUcan_panel_1_1.10', 'LUNG-NSCLC2-0598-FIXT-01-IMC1-01_#_IMMUcan_panel_1_1.10', 'LUNG-NSCLC2-0598-FIXT-02-IMC1-01_#_IMMUcan_panel_1_1.10', 'LUNG-NSCLC2-0599-FIXT-01-IMC1-01_#_IMMUcan_panel_1_1.10', 'LUNG-NSCLC2-0600-FIXT-01-IMC1-01_#_IMMUcan_panel_1_1.10', 'LUNG-NSCLC2-0601-FIXT-01-IMC1-01_#_IMMUcan_panel_1_1.10', 'LUNG-NSCLC2-0602-FIXT-01-IMC1-01_#_IMMUcan_panel_1_1.10', 'LUNG-NSCLC2-0603-FIXT-01-IMC1-01_#_IMMUcan_panel_1_1.10', 'LUNG-NSCLC2-0604-FIXT-01-IMC1-01_#_IMMUcan_panel_1_1.10', 'LUNG-NSCLC2-0605-FIXT-01-IMC1-01_#_IMMUcan_panel_1_1.10', 'LUNG-NSCLC2-0606-FIXT-01-IMC1-01_#_IMMUcan_panel_1_1.10', 'LUNG-NSCLC2-0607-FIXT-01-IMC1-01_#_IMMUcan_panel_1_1.10', 'LUNG-NSCLC2-0608-FIXT-01-IMC1-01_#_IMMUcan_panel_1_1.10', 'LUNG-NSCLC2-0609-FIXT-01-IMC1-01_#_IMMUcan_panel_1_1.10', 'LUNG-NSCLC2-0610-FIXT-01-IMC1-01_#_IMMUcan_panel_1_1.10', 'LUNG-NSCLC2-0611-FIXT-01-IMC1-01_#_IMMUcan_panel_1_1.10', 'LUNG-NSCLC2-0612-FIXT-01-IMC1-01_#_IMMUcan_panel_1_1.10', 'LUNG-NSCLC2-0613-FIXT-01-IMC1-01_#_IMMUcan_panel_1_1.10', 'LUNG-NSCLC2-0614-FIXT-01-IMC1-01_#_IMMUcan_panel_1_1.10', 'LUNG-NSCLC2-0615-FIXT-01-IMC1-01_#_IMMUcan_panel_1_1.10', 'LUNG-NSCLC2-0616-FIXT-01-IMC1-01_#_IMMUcan_panel_1_1.10', 'LUNG-NSCLC2-0617-FIXT-01-IMC1-01_#_IMMUcan_panel_1_1.10', 'LUNG-NSCLC2-0618-FIXT-01-IMC1-01_#_IMMUcan_panel_1_1.10', 'LUNG-NSCLC2-0619-FIXT-01-IMC1-01_#_IMMUcan_panel_1_1.10', 'LUNG-NSCLC2-0620-FIXT-01-IMC1-01_#_IMMUcan_panel_1_1.10', 'LUNG-NSCLC2-0621-FIXT-01-IMC1-01_#_IMMUcan_panel_1_1.10', 'LUNG-NSCLC2-0622-FIXT-01-IMC1-01_#_IMMUcan_panel_1_1.10', 'LUNG-NSCLC2-0623-FIXT-01-IMC1-01_#_IMMUcan_panel_1_1.10', 'LUNG-NSCLC2-0624-FIXT-01-IMC1-01_#_IMMUcan_panel_1_1.10', 'LUNG-NSCLC2-0625-FIXT-01-IMC1-01_#_IMMUcan_panel_1_1.10', 'LUNG-NSCLC2-0626-FIXT-01-IMC1-01_#_IMMUcan_panel_1_1.10', 'LUNG-NSCLC2-0627-FIXT-01-IMC1-01_#_IMMUcan_panel_1_1.10', 'LUNG-NSCLC2-0628-FIXT-01-IMC1-01_#_IMMUcan_panel_1_1.10', 'LUNG-NSCLC2-0629-FIXT-01-IMC1-01_#_IMMUcan_panel_1_1.10', 'LUNG-NSCLC2-0630-FIXT-01-IMC1-01_#_IMMUcan_panel_1_1.10', 'LUNG-NSCLC2-0631-FIXT-01-IMC1-01_#_IMMUcan_panel_1_1.10', 'LUNG-NSCLC2-0632-FIXT-01-IMC1-01_#_IMMUcan_panel_1_1.10', 'LUNG-NSCLC2-0633-FIXT-01-IMC1-01_#_IMMUcan_panel_1_1.10', 'LUNG-NSCLC2-0634-FIXT-01-IMC1-01_#_IMMUcan_panel_1_1.10', 'LUNG-NSCLC2-0635-FIXT-01-IMC1-01_#_IMMUcan_panel_1_1.10', 'LUNG-NSCLC2-0636-FIXT-01-IMC1-01_#_IMMUcan_panel_1_1.10', 'LUNG-NSCLC2-0637-FIXT-01-IMC1-01_#_IMMUcan_panel_1_1.10', 'LUNG-NSCLC2-0639-FIXT-01-IMC1-01_#_IMMUcan_panel_1_1.10', 'LUNG-NSCLC2-0640-FIXT-01-IMC1-01_#_IMMUcan_panel_1_1.10', 'LUNG-NSCLC2-0641-FIXT-01-IMC1-01_#_IMMUcan_panel_1_1.10', 'LUNG-NSCLC2-0642-FIXT-01-IMC1-01_#_IMMUcan_panel_1_1.10', 'LUNG-NSCLC2-0643-FIXT-01-IMC1-01_#_IMMUcan_panel_1_1.10', 'LUNG-NSCLC2-0644-FIXT-01-IMC1-01_#_IMMUcan_panel_1_1.10', 'LUNG-NSCLC2-0645-FIXT-01-IMC1-01_#_IMMUcan_panel_1_1.10', 'LUNG-NSCLC2-0646-FIXT-01-IMC1-01_#_IMMUcan_panel_1_1.10', 'LUNG-NSCLC2-0647-FIXT-01-IMC1-01_#_IMMUcan_panel_1_1.10', 'LUNG-NSCLC2-0648-FIXT-01-IMC1-01_#_IMMUcan_panel_1_1.10', 'LUNG-NSCLC2-0649-FIXT-01-IMC1-01_#_IMMUcan_panel_1_1.10', 'LUNG-NSCLC2-0650-FIXT-01-IMC1-01_#_IMMUcan_panel_1_1.10', 'LUNG-NSCLC2-0651-FIXT-01-IMC1-01_#_IMMUcan_panel_1_1.10', 'LUNG-NSCLC2-0652-FIXT-01-IMC1-01_#_IMMUcan_panel_1_1.10', 'LUNG-NSCLC2-0653-FIXT-01-IMC1-01_#_IMMUcan_panel_1_1.10', 'LUNG-NSCLC2-0654-FIXT-01-IMC1-01_#_IMMUcan_panel_1_1.10', 'LUNG-NSCLC2-0655-FIXT-01-IMC1-01_#_IMMUcan_panel_1_1.10', 'LUNG-NSCLC2-0656-FIXT-01-IMC1-01_#_IMMUcan_panel_1_1.10', 'LUNG-NSCLC2-0657-FIXT-01-IMC1-01_#_IMMUcan_panel_1_1.10', 'LUNG-NSCLC2-0658-FIXT-01-IMC1-01_#_IMMUcan_panel_1_1.10', 'LUNG-NSCLC2-0659-FIXT-01-IMC1-01_#_IMMUcan_panel_1_1.10', 'LUNG-NSCLC2-0660-FIXT-01-IMC1-01_#_IMMUcan_panel_1_1.10', 'LUNG-NSCLC2-0661-FIXT-01-IMC1-01_#_IMMUcan_panel_1_1.10', 'LUNG-NSCLC2-0662-FIXT-01-IMC1-01_#_IMMUcan_panel_1_1.10', 'LUNG-NSCLC2-0663-FIXT-01-IMC1-01_#_IMMUcan_panel_1_1.10', 'LUNG-NSCLC2-0664-FIXT-01-IMC1-01_#_IMMUcan_panel_1_1.10', 'LUNG-NSCLC2-0665-FIXT-01-IMC1-01_#_IMMUcan_panel_1_1.10', 'LUNG-NSCLC2-0666-FIXT-01-IMC1-01_#_IMMUcan_panel_1_1.10', 'LUNG-NSCLC2-0667-FIXT-01-IMC1-01_#_IMMUcan_panel_1_1.10', 'LUNG-NSCLC2-0668-FIXT-01-IMC1-01_#_IMMUcan_panel_1_1.10', 'LUNG-NSCLC2-0669-FIXT-01-IMC1-01_#_IMMUcan_panel_1_1.10', 'LUNG-NSCLC2-0670-FIXT-01-IMC1-01_#_IMMUcan_panel_1_1.10', 'LUNG-NSCLC2-0671-FIXT-01-IMC1-01_#_IMMUcan_panel_1_1.10', 'LUNG-NSCLC2-0672-FIXT-01-IMC1-01_#_IMMUcan_panel_1_1.10', 'LUNG-NSCLC2-0673-FIXT-01-IMC1-01_#_IMMUcan_panel_1_1.10', 'LUNG-NSCLC2-0674-FIXT-01-IMC1-01_#_IMMUcan_panel_1_1.10', 'LUNG-NSCLC2-0675-FIXT-01-IMC1-01_#_IMMUcan_panel_1_1.10', 'LUNG-NSCLC2-0676-FIXT-01-IMC1-01_#_IMMUcan_panel_1_1.10', 'LUNG-NSCLC2-0677-FIXT-01-IMC1-01_#_IMMUcan_panel_1_1.10', 'LUNG-NSCLC2-0678-FIXT-01-IMC1-01_#_IMMUcan_panel_1_1.10', 'LUNG-NSCLC2-0679-FIXT-01-IMC1-01_#_IMMUcan_panel_1_1.10', 'LUNG-NSCLC2-0680-FIXT-01-IMC1-01_#_IMMUcan_panel_1_1.10', 'LUNG-NSCLC2-0681-FIXT-01-IMC1-01_#_IMMUcan_panel_1_1.10', 'LUNG-NSCLC2-0682-FIXT-01-IMC1-01_#_IMMUcan_panel_1_1.10', 'LUNG-NSCLC2-0683-FIXT-01-IMC1-01_#_IMMUcan_panel_1_1.10', 'LUNG-NSCLC2-0684-FIXT-01-IMC1-01_#_IMMUcan_panel_1_1.10', 'LUNG-NSCLC2-0685-FIXT-01-IMC1-01_#_IMMUcan_panel_1_1.10', 'LUNG-NSCLC2-0686-FIXT-01-IMC1-01_#_IMMUcan_panel_1_1.10', 'LUNG-NSCLC2-0687-FIXT-01-IMC1-01_#_IMMUcan_panel_1_1.10', 'LUNG-NSCLC2-0688-FIXT-01-IMC1-01_#_IMMUcan_panel_1_1.10', 'LUNG-NSCLC2-0689-FIXT-01-IMC1-01_#_IMMUcan_panel_1_1.10', 'LUNG-NSCLC2-0690-FIXT-01-IMC1-01_#_IMMUcan_panel_1_1.10', 'LUNG-NSCLC2-0691-FIXT-01-IMC1-01_#_IMMUcan_panel_1_1.10', 'LUNG-NSCLC2-0692-FIXT-01-IMC1-01_#_IMMUcan_panel_1_1.10', 'LUNG-NSCLC2-0693-FIXT-01-IMC1-01_#_IMMUcan_panel_1_1.10', 'LUNG-NSCLC2-0694-FIXT-01-IMC1-01_#_IMMUcan_panel_1_1.10', 'LUNG-NSCLC2-0695-FIXT-01-IMC1-01_#_IMMUcan_panel_1_1.10', 'LUNG-NSCLC2-0696-FIXT-01-IMC1-01_#_IMMUcan_panel_1_1.10', 'LUNG-NSCLC2-0697-FIXT-01-IMC1-01_#_IMMUcan_panel_1_1.10', 'LUNG-NSCLC2-0698-FIXT-01-IMC1-01_#_IMMUcan_panel_1_1.10', 'LUNG-NSCLC2-0699-FIXT-01-IMC1-01_#_IMMUcan_panel_1_1.10', 'LUNG-NSCLC2-0700-FIXT-01-IMC1-01_#_IMMUcan_panel_1_1.10', 'LUNG-NSCLC2-0701-FIXT-01-IMC1-01_#_IMMUcan_panel_1_1.10', 'LUNG-NSCLC2-0702-FIXT-01-IMC1-01_#_IMMUcan_panel_1_1.10', 'LUNG-NSCLC2-0703-FIXT-01-IMC1-01_#_IMMUcan_panel_1_1.10', 'LUNG-NSCLC2-0704-FIXT-01-IMC1-01_#_IMMUcan_panel_1_1.10', 'LUNG-NSCLC2-0705-FIXT-01-IMC1-01_#_IMMUcan_panel_1_1.10', 'LUNG-NSCLC2-0706-FIXT-01-IMC1-01_#_IMMUcan_panel_1_1.10', 'LUNG-NSCLC2-0707-FIXT-01-IMC1-01_#_IMMUcan_panel_1_1.10', 'LUNG-NSCLC2-0708-FIXT-01-IMC1-01_#_IMMUcan_panel_1_1.10', 'LUNG-NSCLC2-0709-FIXT-01-IMC1-01_#_IMMUcan_panel_1_1.10', 'LUNG-NSCLC2-0710-FIXT-01-IMC1-01_#_IMMUcan_panel_1_1.10', 'LUNG-NSCLC2-0711-FIXT-01-IMC1-01_#_IMMUcan_panel_1_1.10', 'LUNG-NSCLC2-0712-FIXT-01-IMC1-01_#_IMMUcan_panel_1_1.10', 'LUNG-NSCLC2-0713-FIXT-01-IMC1-01_#_IMMUcan_panel_1_1.10', 'LUNG-NSCLC2-0714-FIXT-01-IMC1-01_#_IMMUcan_panel_1_1.10', 'LUNG-NSCLC2-0715-FIXT-01-IMC1-01_#_IMMUcan_panel_1_1.10', 'LUNG-NSCLC2-0716-FIXT-01-IMC1-01_#_IMMUcan_panel_1_1.10', 'LUNG-NSCLC2-0717-FIXT-01-IMC1-01_#_IMMUcan_panel_1_1.10', 'LUNG-NSCLC2-0718-FIXT-01-IMC1-01_#_IMMUcan_panel_1_1.10', 'LUNG-NSCLC2-0719-FIXT-01-IMC1-01_#_IMMUcan_panel_1_1.10', 'LUNG-NSCLC2-0720-FIXT-01-IMC1-01_#_IMMUcan_panel_1_1.10', 'LUNG-NSCLC2-0721-FIXT-01-IMC1-01_#_IMMUcan_panel_1_1.10', 'LUNG-NSCLC2-0722-FIXT-01-IMC1-01_#_IMMUcan_panel_1_1.10', 'LUNG-NSCLC2-0723-FIXT-01-IMC1-01_#_IMMUcan_panel_1_1.10', 'LUNG-NSCLC2-0724-FIXT-01-IMC1-01_#_IMMUcan_panel_1_1.10', 'LUNG-NSCLC2-0725-FIXT-01-IMC1-01_#_IMMUcan_panel_1_1.10', 'LUNG-NSCLC2-0726-FIXT-01-IMC1-01_#_IMMUcan_panel_1_1.10', 'LUNG-NSCLC2-0727-FIXT-01-IMC1-01_#_IMMUcan_panel_1_1.10', 'LUNG-NSCLC2-0728-FIXT-01-IMC1-01_#_IMMUcan_panel_1_1.10', 'LUNG-NSCLC2-0729-FIXT-01-IMC1-01_#_IMMUcan_panel_1_1.10', 'LUNG-NSCLC2-0730-FIXT-01-IMC1-01_#_IMMUcan_panel_1_1.10', 'LUNG-NSCLC2-0731-FIXT-01-IMC1-01_#_IMMUcan_panel_1_1.10', 'LUNG-NSCLC2-0732-FIXT-01-IMC1-01_#_IMMUcan_panel_1_1.10', 'LUNG-NSCLC2-0733-FIXT-01-IMC1-01_#_IMMUcan_panel_1_1.10', 'LUNG-NSCLC2-0734-FIXT-01-IMC1-01_#_IMMUcan_panel_1_1.10', 'LUNG-NSCLC2-0735-FIXT-01-IMC1-01_#_IMMUcan_panel_1_1.10', 'LUNG-NSCLC2-0736-FIXT-01-IMC1-01_#_IMMUcan_panel_1_1.10', 'LUNG-NSCLC2-0737-FIXT-01-IMC1-01_#_IMMUcan_panel_1_1.10', 'LUNG-NSCLC2-0738-FIXT-01-IMC1-01_#_IMMUcan_panel_1_1.10', 'LUNG-NSCLC2-0739-FIXT-01-IMC1-01_#_IMMUcan_panel_1_1.10', 'LUNG-NSCLC2-0740-FIXT-01-IMC1-01_#_IMMUcan_panel_1_1.10', 'LUNG-NSCLC2-0741-FIXT-01-IMC1-01_#_IMMUcan_panel_1_1.10', 'LUNG-NSCLC2-0742-FIXT-01-IMC1-01_#_IMMUcan_panel_1_1.10', 'LUNG-NSCLC2-0743-FIXT-01-IMC1-01_#_IMMUcan_panel_1_1.10']\n",
      "True\n",
      "raw: LUNG-NSCLC2-0652-FIXT-01-IMC1-01_#_IMMUcan_panel_1_1.10_#_raw_counts_#_8bec482d0f47fbbf2a8dd59e865da371.csv \n",
      "        Corresponding sample: LUNG-NSCLC2-0652-FIXT-01-IMC1-01_#_IMMUcan_panel_1_1.10\n",
      " Corresponding metadata file: LUNG-NSCLC2-0652-FIXT-01-IMC1-01_#_IMMUcan_panel_1_1.10_#_cell_metadata_#_1fbf34441c6ce56fa731d73848c29c28.csv\n"
     ]
    },
    {
     "name": "stderr",
     "output_type": "stream",
     "text": [
      "/home/francesco.massaini/.local/lib/python3.10/site-packages/pandas/core/indexes/base.py:7834: RuntimeWarning: invalid value encountered in cast\n",
      "  values = values.astype(str)\n"
     ]
    },
    {
     "name": "stdout",
     "output_type": "stream",
     "text": [
      "raw: LUNG-NSCLC2-0733-FIXT-01-IMC1-01_#_IMMUcan_panel_1_1.10_#_raw_counts_#_53a07871995741590ee6aff841d97936.csv \n",
      "        Corresponding sample: LUNG-NSCLC2-0733-FIXT-01-IMC1-01_#_IMMUcan_panel_1_1.10\n",
      " Corresponding metadata file: LUNG-NSCLC2-0733-FIXT-01-IMC1-01_#_IMMUcan_panel_1_1.10_#_cell_metadata_#_76c90531788f4a2cd39222ab51570a62.csv\n"
     ]
    },
    {
     "name": "stderr",
     "output_type": "stream",
     "text": [
      "/home/francesco.massaini/.local/lib/python3.10/site-packages/pandas/core/indexes/base.py:7834: RuntimeWarning: invalid value encountered in cast\n",
      "  values = values.astype(str)\n"
     ]
    },
    {
     "name": "stdout",
     "output_type": "stream",
     "text": [
      "raw: LUNG-NSCLC2-0662-FIXT-01-IMC1-01_#_IMMUcan_panel_1_1.10_#_raw_counts_#_e3997182047c5f68467f1ce1957b7a6e.csv \n",
      "        Corresponding sample: LUNG-NSCLC2-0662-FIXT-01-IMC1-01_#_IMMUcan_panel_1_1.10\n",
      " Corresponding metadata file: LUNG-NSCLC2-0662-FIXT-01-IMC1-01_#_IMMUcan_panel_1_1.10_#_cell_metadata_#_3bedd3d378c66b3e36f054111b48220c.csv\n"
     ]
    },
    {
     "name": "stderr",
     "output_type": "stream",
     "text": [
      "/home/francesco.massaini/.local/lib/python3.10/site-packages/pandas/core/indexes/base.py:7834: RuntimeWarning: invalid value encountered in cast\n",
      "  values = values.astype(str)\n"
     ]
    },
    {
     "name": "stdout",
     "output_type": "stream",
     "text": [
      "raw: LUNG-NSCLC2-0628-FIXT-01-IMC1-01_#_IMMUcan_panel_1_1.10_#_raw_counts_#_1d1b434267013fd8200bac06fc8b2fb4.csv \n",
      "        Corresponding sample: LUNG-NSCLC2-0628-FIXT-01-IMC1-01_#_IMMUcan_panel_1_1.10\n",
      " Corresponding metadata file: LUNG-NSCLC2-0628-FIXT-01-IMC1-01_#_IMMUcan_panel_1_1.10_#_cell_metadata_#_0cc67989278695778178a9599a9fd587.csv\n"
     ]
    },
    {
     "name": "stderr",
     "output_type": "stream",
     "text": [
      "/home/francesco.massaini/.local/lib/python3.10/site-packages/pandas/core/indexes/base.py:7834: RuntimeWarning: invalid value encountered in cast\n",
      "  values = values.astype(str)\n"
     ]
    },
    {
     "name": "stdout",
     "output_type": "stream",
     "text": [
      "raw: LUNG-NSCLC2-0588-FIXT-01-IMC1-01_#_IMMUcan_panel_1_1.10_#_raw_counts_#_a8bd4c6fe32fbaa1d549aeb79574fde4.csv \n",
      "        Corresponding sample: LUNG-NSCLC2-0588-FIXT-01-IMC1-01_#_IMMUcan_panel_1_1.10\n",
      " Corresponding metadata file: LUNG-NSCLC2-0588-FIXT-01-IMC1-01_#_IMMUcan_panel_1_1.10_#_cell_metadata_#_0f2c98bf912ab6d88a2a6c2a8987e8e9.csv\n"
     ]
    },
    {
     "name": "stderr",
     "output_type": "stream",
     "text": [
      "/home/francesco.massaini/.local/lib/python3.10/site-packages/pandas/core/indexes/base.py:7834: RuntimeWarning: invalid value encountered in cast\n",
      "  values = values.astype(str)\n"
     ]
    },
    {
     "name": "stdout",
     "output_type": "stream",
     "text": [
      "raw: LUNG-NSCLC2-0596-FIXT-01-IMC1-01_#_IMMUcan_panel_1_1.10_#_raw_counts_#_b34c590ff059014b1c37f345670d87ca.csv \n",
      "        Corresponding sample: LUNG-NSCLC2-0596-FIXT-01-IMC1-01_#_IMMUcan_panel_1_1.10\n",
      " Corresponding metadata file: LUNG-NSCLC2-0596-FIXT-01-IMC1-01_#_IMMUcan_panel_1_1.10_#_cell_metadata_#_497fb29e9718abe8bc9fb56a08236089.csv\n"
     ]
    },
    {
     "name": "stderr",
     "output_type": "stream",
     "text": [
      "/home/francesco.massaini/.local/lib/python3.10/site-packages/pandas/core/indexes/base.py:7834: RuntimeWarning: invalid value encountered in cast\n",
      "  values = values.astype(str)\n"
     ]
    },
    {
     "name": "stdout",
     "output_type": "stream",
     "text": [
      "raw: LUNG-NSCLC2-0672-FIXT-01-IMC1-01_#_IMMUcan_panel_1_1.10_#_raw_counts_#_bf693b1596061cc582ef88bfe11d5005.csv \n",
      "        Corresponding sample: LUNG-NSCLC2-0672-FIXT-01-IMC1-01_#_IMMUcan_panel_1_1.10\n",
      " Corresponding metadata file: LUNG-NSCLC2-0672-FIXT-01-IMC1-01_#_IMMUcan_panel_1_1.10_#_cell_metadata_#_4fff48eaab54d7230d6850bf918fe110.csv\n"
     ]
    },
    {
     "name": "stderr",
     "output_type": "stream",
     "text": [
      "/home/francesco.massaini/.local/lib/python3.10/site-packages/pandas/core/indexes/base.py:7834: RuntimeWarning: invalid value encountered in cast\n",
      "  values = values.astype(str)\n"
     ]
    },
    {
     "name": "stdout",
     "output_type": "stream",
     "text": [
      "raw: LUNG-NSCLC2-0624-FIXT-01-IMC1-01_#_IMMUcan_panel_1_1.10_#_raw_counts_#_046f027cb3a239be1b1be2ae1e5a8635.csv \n",
      "        Corresponding sample: LUNG-NSCLC2-0624-FIXT-01-IMC1-01_#_IMMUcan_panel_1_1.10\n",
      " Corresponding metadata file: LUNG-NSCLC2-0624-FIXT-01-IMC1-01_#_IMMUcan_panel_1_1.10_#_cell_metadata_#_8130857599aed4831741dcaed7e168c0.csv\n"
     ]
    },
    {
     "name": "stderr",
     "output_type": "stream",
     "text": [
      "/home/francesco.massaini/.local/lib/python3.10/site-packages/pandas/core/indexes/base.py:7834: RuntimeWarning: invalid value encountered in cast\n",
      "  values = values.astype(str)\n"
     ]
    },
    {
     "name": "stdout",
     "output_type": "stream",
     "text": [
      "raw: LUNG-NSCLC2-0690-FIXT-01-IMC1-01_#_IMMUcan_panel_1_1.10_#_raw_counts_#_ff461814ca756885df79cbb80c911046.csv \n",
      "        Corresponding sample: LUNG-NSCLC2-0690-FIXT-01-IMC1-01_#_IMMUcan_panel_1_1.10\n",
      " Corresponding metadata file: LUNG-NSCLC2-0690-FIXT-01-IMC1-01_#_IMMUcan_panel_1_1.10_#_cell_metadata_#_ec092a450aada0b4f38bd1f778199ca0.csv\n"
     ]
    },
    {
     "name": "stderr",
     "output_type": "stream",
     "text": [
      "/home/francesco.massaini/.local/lib/python3.10/site-packages/pandas/core/indexes/base.py:7834: RuntimeWarning: invalid value encountered in cast\n",
      "  values = values.astype(str)\n"
     ]
    },
    {
     "name": "stdout",
     "output_type": "stream",
     "text": [
      "raw: LUNG-NSCLC2-0702-FIXT-01-IMC1-01_#_IMMUcan_panel_1_1.10_#_raw_counts_#_b5b4e1269a257e54d50c1a6e99ed6d1e.csv \n",
      "        Corresponding sample: LUNG-NSCLC2-0702-FIXT-01-IMC1-01_#_IMMUcan_panel_1_1.10\n",
      " Corresponding metadata file: LUNG-NSCLC2-0702-FIXT-01-IMC1-01_#_IMMUcan_panel_1_1.10_#_cell_metadata_#_df64948ce54fa83fae652b1dc0cdf925.csv\n"
     ]
    },
    {
     "name": "stderr",
     "output_type": "stream",
     "text": [
      "/home/francesco.massaini/.local/lib/python3.10/site-packages/pandas/core/indexes/base.py:7834: RuntimeWarning: invalid value encountered in cast\n",
      "  values = values.astype(str)\n"
     ]
    },
    {
     "name": "stdout",
     "output_type": "stream",
     "text": [
      "raw: LUNG-NSCLC2-0694-FIXT-01-IMC1-01_#_IMMUcan_panel_1_1.10_#_raw_counts_#_411f00843e0ec66172329ef9a39e6479.csv \n",
      "        Corresponding sample: LUNG-NSCLC2-0694-FIXT-01-IMC1-01_#_IMMUcan_panel_1_1.10\n",
      " Corresponding metadata file: LUNG-NSCLC2-0694-FIXT-01-IMC1-01_#_IMMUcan_panel_1_1.10_#_cell_metadata_#_3ee3397632aff38ccb36ac7a442a1aa4.csv\n"
     ]
    },
    {
     "name": "stderr",
     "output_type": "stream",
     "text": [
      "/home/francesco.massaini/.local/lib/python3.10/site-packages/pandas/core/indexes/base.py:7834: RuntimeWarning: invalid value encountered in cast\n",
      "  values = values.astype(str)\n"
     ]
    },
    {
     "name": "stdout",
     "output_type": "stream",
     "text": [
      "raw: LUNG-NSCLC2-0734-FIXT-01-IMC1-01_#_IMMUcan_panel_1_1.10_#_raw_counts_#_c74ecfc1577b83e16445bf74c8887194.csv \n",
      "        Corresponding sample: LUNG-NSCLC2-0734-FIXT-01-IMC1-01_#_IMMUcan_panel_1_1.10\n",
      " Corresponding metadata file: LUNG-NSCLC2-0734-FIXT-01-IMC1-01_#_IMMUcan_panel_1_1.10_#_cell_metadata_#_437c664883d93143266565e375f0807e.csv\n"
     ]
    },
    {
     "name": "stderr",
     "output_type": "stream",
     "text": [
      "/home/francesco.massaini/.local/lib/python3.10/site-packages/pandas/core/indexes/base.py:7834: RuntimeWarning: invalid value encountered in cast\n",
      "  values = values.astype(str)\n"
     ]
    },
    {
     "name": "stdout",
     "output_type": "stream",
     "text": [
      "raw: LUNG-NSCLC2-0574-FIXT-01-IMC1-01_#_IMMUcan_panel_1_1.10_#_raw_counts_#_c453b5f1cf82b90aacb7b9a0f65f0b84.csv \n",
      "        Corresponding sample: LUNG-NSCLC2-0574-FIXT-01-IMC1-01_#_IMMUcan_panel_1_1.10\n",
      " Corresponding metadata file: LUNG-NSCLC2-0574-FIXT-01-IMC1-01_#_IMMUcan_panel_1_1.10_#_cell_metadata_#_44054f84ec783183338a06cd15b4d92c.csv\n"
     ]
    },
    {
     "name": "stderr",
     "output_type": "stream",
     "text": [
      "/home/francesco.massaini/.local/lib/python3.10/site-packages/pandas/core/indexes/base.py:7834: RuntimeWarning: invalid value encountered in cast\n",
      "  values = values.astype(str)\n"
     ]
    },
    {
     "name": "stdout",
     "output_type": "stream",
     "text": [
      "raw: LUNG-NSCLC2-0620-FIXT-01-IMC1-01_#_IMMUcan_panel_1_1.10_#_raw_counts_#_e18fda5fdecfd4e71948936ced26c944.csv \n",
      "        Corresponding sample: LUNG-NSCLC2-0620-FIXT-01-IMC1-01_#_IMMUcan_panel_1_1.10\n",
      " Corresponding metadata file: LUNG-NSCLC2-0620-FIXT-01-IMC1-01_#_IMMUcan_panel_1_1.10_#_cell_metadata_#_c96f181b417ceedf372f4d3263a917f5.csv\n"
     ]
    },
    {
     "name": "stderr",
     "output_type": "stream",
     "text": [
      "/home/francesco.massaini/.local/lib/python3.10/site-packages/pandas/core/indexes/base.py:7834: RuntimeWarning: invalid value encountered in cast\n",
      "  values = values.astype(str)\n"
     ]
    },
    {
     "name": "stdout",
     "output_type": "stream",
     "text": [
      "raw: LUNG-NSCLC2-0660-FIXT-01-IMC1-01_#_IMMUcan_panel_1_1.10_#_raw_counts_#_6bdb4cfb18e0366c6903ca937eedb74c.csv \n",
      "        Corresponding sample: LUNG-NSCLC2-0660-FIXT-01-IMC1-01_#_IMMUcan_panel_1_1.10\n",
      " Corresponding metadata file: LUNG-NSCLC2-0660-FIXT-01-IMC1-01_#_IMMUcan_panel_1_1.10_#_cell_metadata_#_997addf91675d10b1fe842a3c294516d.csv\n"
     ]
    },
    {
     "name": "stderr",
     "output_type": "stream",
     "text": [
      "/home/francesco.massaini/.local/lib/python3.10/site-packages/pandas/core/indexes/base.py:7834: RuntimeWarning: invalid value encountered in cast\n",
      "  values = values.astype(str)\n"
     ]
    },
    {
     "name": "stdout",
     "output_type": "stream",
     "text": [
      "raw: LUNG-NSCLC2-0552-FIXT-01-IMC1-01_#_IMMUcan_panel_1_1.10_#_raw_counts_#_1825d7bc49d10b9ce66119be7cfe21ba.csv \n",
      "        Corresponding sample: LUNG-NSCLC2-0552-FIXT-01-IMC1-01_#_IMMUcan_panel_1_1.10\n",
      " Corresponding metadata file: LUNG-NSCLC2-0552-FIXT-01-IMC1-01_#_IMMUcan_panel_1_1.10_#_cell_metadata_#_c902f1fe7555216f93fc613014460f6b.csv\n"
     ]
    },
    {
     "name": "stderr",
     "output_type": "stream",
     "text": [
      "/home/francesco.massaini/.local/lib/python3.10/site-packages/pandas/core/indexes/base.py:7834: RuntimeWarning: invalid value encountered in cast\n",
      "  values = values.astype(str)\n"
     ]
    },
    {
     "name": "stdout",
     "output_type": "stream",
     "text": [
      "raw: LUNG-NSCLC2-0711-FIXT-01-IMC1-01_#_IMMUcan_panel_1_1.10_#_raw_counts_#_a226506bf89877856d34bd7639be703b.csv \n",
      "        Corresponding sample: LUNG-NSCLC2-0711-FIXT-01-IMC1-01_#_IMMUcan_panel_1_1.10\n",
      " Corresponding metadata file: LUNG-NSCLC2-0711-FIXT-01-IMC1-01_#_IMMUcan_panel_1_1.10_#_cell_metadata_#_e92e78cd2cb9eb0a3f7bb43b3c612743.csv\n"
     ]
    },
    {
     "name": "stderr",
     "output_type": "stream",
     "text": [
      "/home/francesco.massaini/.local/lib/python3.10/site-packages/pandas/core/indexes/base.py:7834: RuntimeWarning: invalid value encountered in cast\n",
      "  values = values.astype(str)\n"
     ]
    },
    {
     "name": "stdout",
     "output_type": "stream",
     "text": [
      "raw: LUNG-NSCLC2-0684-FIXT-01-IMC1-01_#_IMMUcan_panel_1_1.10_#_raw_counts_#_cb6c98f6d2417cfaa14979e7331309e3.csv \n",
      "        Corresponding sample: LUNG-NSCLC2-0684-FIXT-01-IMC1-01_#_IMMUcan_panel_1_1.10\n",
      " Corresponding metadata file: LUNG-NSCLC2-0684-FIXT-01-IMC1-01_#_IMMUcan_panel_1_1.10_#_cell_metadata_#_f1edcadc9281504722c555caa326f63b.csv\n"
     ]
    },
    {
     "name": "stderr",
     "output_type": "stream",
     "text": [
      "/home/francesco.massaini/.local/lib/python3.10/site-packages/pandas/core/indexes/base.py:7834: RuntimeWarning: invalid value encountered in cast\n",
      "  values = values.astype(str)\n"
     ]
    },
    {
     "name": "stdout",
     "output_type": "stream",
     "text": [
      "raw: LUNG-NSCLC2-0715-FIXT-01-IMC1-01_#_IMMUcan_panel_1_1.10_#_raw_counts_#_3a4f52632b099573c19b65de16ae200b.csv \n",
      "        Corresponding sample: LUNG-NSCLC2-0715-FIXT-01-IMC1-01_#_IMMUcan_panel_1_1.10\n",
      " Corresponding metadata file: LUNG-NSCLC2-0715-FIXT-01-IMC1-01_#_IMMUcan_panel_1_1.10_#_cell_metadata_#_a2006481f24ea0fdd9e0b95512c85fac.csv\n"
     ]
    },
    {
     "name": "stderr",
     "output_type": "stream",
     "text": [
      "/home/francesco.massaini/.local/lib/python3.10/site-packages/pandas/core/indexes/base.py:7834: RuntimeWarning: invalid value encountered in cast\n",
      "  values = values.astype(str)\n"
     ]
    },
    {
     "name": "stdout",
     "output_type": "stream",
     "text": [
      "raw: LUNG-NSCLC2-0719-FIXT-01-IMC1-01_#_IMMUcan_panel_1_1.10_#_raw_counts_#_fd81316f0fc62c5f948bf447bf550a29.csv \n",
      "        Corresponding sample: LUNG-NSCLC2-0719-FIXT-01-IMC1-01_#_IMMUcan_panel_1_1.10\n",
      " Corresponding metadata file: LUNG-NSCLC2-0719-FIXT-01-IMC1-01_#_IMMUcan_panel_1_1.10_#_cell_metadata_#_d6e209303f674f2165da0fe247259f50.csv\n"
     ]
    },
    {
     "name": "stderr",
     "output_type": "stream",
     "text": [
      "/home/francesco.massaini/.local/lib/python3.10/site-packages/pandas/core/indexes/base.py:7834: RuntimeWarning: invalid value encountered in cast\n",
      "  values = values.astype(str)\n"
     ]
    },
    {
     "name": "stdout",
     "output_type": "stream",
     "text": [
      "raw: LUNG-NSCLC2-0571-FIXT-01-IMC1-01_#_IMMUcan_panel_1_1.10_#_raw_counts_#_93623896507d9bf90dea02c31e357a1a.csv \n",
      "        Corresponding sample: LUNG-NSCLC2-0571-FIXT-01-IMC1-01_#_IMMUcan_panel_1_1.10\n",
      " Corresponding metadata file: LUNG-NSCLC2-0571-FIXT-01-IMC1-01_#_IMMUcan_panel_1_1.10_#_cell_metadata_#_ab377697ba4733551026e908cc85de01.csv\n"
     ]
    },
    {
     "name": "stderr",
     "output_type": "stream",
     "text": [
      "/home/francesco.massaini/.local/lib/python3.10/site-packages/pandas/core/indexes/base.py:7834: RuntimeWarning: invalid value encountered in cast\n",
      "  values = values.astype(str)\n"
     ]
    },
    {
     "name": "stdout",
     "output_type": "stream",
     "text": [
      "raw: LUNG-NSCLC2-0718-FIXT-01-IMC1-01_#_IMMUcan_panel_1_1.10_#_raw_counts_#_c390cd4a7f8b0ba4fe73a77e4709c3c8.csv \n",
      "        Corresponding sample: LUNG-NSCLC2-0718-FIXT-01-IMC1-01_#_IMMUcan_panel_1_1.10\n",
      " Corresponding metadata file: LUNG-NSCLC2-0718-FIXT-01-IMC1-01_#_IMMUcan_panel_1_1.10_#_cell_metadata_#_000444920f12151228f2cc379c5acbc3.csv\n"
     ]
    },
    {
     "name": "stderr",
     "output_type": "stream",
     "text": [
      "/home/francesco.massaini/.local/lib/python3.10/site-packages/pandas/core/indexes/base.py:7834: RuntimeWarning: invalid value encountered in cast\n",
      "  values = values.astype(str)\n"
     ]
    },
    {
     "name": "stdout",
     "output_type": "stream",
     "text": [
      "raw: LUNG-NSCLC2-0644-FIXT-01-IMC1-01_#_IMMUcan_panel_1_1.10_#_raw_counts_#_5f98a5cfceb92458c686aba01fb4a1d5.csv \n",
      "        Corresponding sample: LUNG-NSCLC2-0644-FIXT-01-IMC1-01_#_IMMUcan_panel_1_1.10\n",
      " Corresponding metadata file: LUNG-NSCLC2-0644-FIXT-01-IMC1-01_#_IMMUcan_panel_1_1.10_#_cell_metadata_#_1964df60734ee40e1d298357bf2a3c29.csv\n"
     ]
    },
    {
     "name": "stderr",
     "output_type": "stream",
     "text": [
      "/home/francesco.massaini/.local/lib/python3.10/site-packages/pandas/core/indexes/base.py:7834: RuntimeWarning: invalid value encountered in cast\n",
      "  values = values.astype(str)\n"
     ]
    },
    {
     "name": "stdout",
     "output_type": "stream",
     "text": [
      "raw: LUNG-NSCLC2-0634-FIXT-01-IMC1-01_#_IMMUcan_panel_1_1.10_#_raw_counts_#_c5d8dfca1af2cd198a8e87bab53e075e.csv \n",
      "        Corresponding sample: LUNG-NSCLC2-0634-FIXT-01-IMC1-01_#_IMMUcan_panel_1_1.10\n",
      " Corresponding metadata file: LUNG-NSCLC2-0634-FIXT-01-IMC1-01_#_IMMUcan_panel_1_1.10_#_cell_metadata_#_a86e406c6232ed0be077d6c4a273f28f.csv\n"
     ]
    },
    {
     "name": "stderr",
     "output_type": "stream",
     "text": [
      "/home/francesco.massaini/.local/lib/python3.10/site-packages/pandas/core/indexes/base.py:7834: RuntimeWarning: invalid value encountered in cast\n",
      "  values = values.astype(str)\n"
     ]
    },
    {
     "name": "stdout",
     "output_type": "stream",
     "text": [
      "raw: LUNG-NSCLC2-0629-FIXT-01-IMC1-01_#_IMMUcan_panel_1_1.10_#_raw_counts_#_be632d809dc53eeac880c5d4ec461b5a.csv \n",
      "        Corresponding sample: LUNG-NSCLC2-0629-FIXT-01-IMC1-01_#_IMMUcan_panel_1_1.10\n",
      " Corresponding metadata file: LUNG-NSCLC2-0629-FIXT-01-IMC1-01_#_IMMUcan_panel_1_1.10_#_cell_metadata_#_8d4916214fbfbf30dd877a364d63f027.csv\n"
     ]
    },
    {
     "name": "stderr",
     "output_type": "stream",
     "text": [
      "/home/francesco.massaini/.local/lib/python3.10/site-packages/pandas/core/indexes/base.py:7834: RuntimeWarning: invalid value encountered in cast\n",
      "  values = values.astype(str)\n"
     ]
    },
    {
     "name": "stdout",
     "output_type": "stream",
     "text": [
      "raw: LUNG-NSCLC2-0654-FIXT-01-IMC1-01_#_IMMUcan_panel_1_1.10_#_raw_counts_#_7dc081927735ca8105ddc4b7bed0cdc9.csv \n",
      "        Corresponding sample: LUNG-NSCLC2-0654-FIXT-01-IMC1-01_#_IMMUcan_panel_1_1.10\n",
      " Corresponding metadata file: LUNG-NSCLC2-0654-FIXT-01-IMC1-01_#_IMMUcan_panel_1_1.10_#_cell_metadata_#_38df0b46011881758ed93e5e90e40248.csv\n"
     ]
    },
    {
     "name": "stderr",
     "output_type": "stream",
     "text": [
      "/home/francesco.massaini/.local/lib/python3.10/site-packages/pandas/core/indexes/base.py:7834: RuntimeWarning: invalid value encountered in cast\n",
      "  values = values.astype(str)\n"
     ]
    },
    {
     "name": "stdout",
     "output_type": "stream",
     "text": [
      "raw: LUNG-NSCLC2-0646-FIXT-01-IMC1-01_#_IMMUcan_panel_1_1.10_#_raw_counts_#_1b2cc8263899ad82acadeb7f802f193b.csv \n",
      "        Corresponding sample: LUNG-NSCLC2-0646-FIXT-01-IMC1-01_#_IMMUcan_panel_1_1.10\n",
      " Corresponding metadata file: LUNG-NSCLC2-0646-FIXT-01-IMC1-01_#_IMMUcan_panel_1_1.10_#_cell_metadata_#_c8cf21d46b379f4abe8703b270b87336.csv\n"
     ]
    },
    {
     "name": "stderr",
     "output_type": "stream",
     "text": [
      "/home/francesco.massaini/.local/lib/python3.10/site-packages/pandas/core/indexes/base.py:7834: RuntimeWarning: invalid value encountered in cast\n",
      "  values = values.astype(str)\n"
     ]
    },
    {
     "name": "stdout",
     "output_type": "stream",
     "text": [
      "raw: LUNG-NSCLC2-0728-FIXT-01-IMC1-01_#_IMMUcan_panel_1_1.10_#_raw_counts_#_6dd4b2ba500e4f20d740c678186e0ee7.csv \n",
      "        Corresponding sample: LUNG-NSCLC2-0728-FIXT-01-IMC1-01_#_IMMUcan_panel_1_1.10\n",
      " Corresponding metadata file: LUNG-NSCLC2-0728-FIXT-01-IMC1-01_#_IMMUcan_panel_1_1.10_#_cell_metadata_#_1db4c960ba53bf3099054611610b0e19.csv\n"
     ]
    },
    {
     "name": "stderr",
     "output_type": "stream",
     "text": [
      "/home/francesco.massaini/.local/lib/python3.10/site-packages/pandas/core/indexes/base.py:7834: RuntimeWarning: invalid value encountered in cast\n",
      "  values = values.astype(str)\n"
     ]
    },
    {
     "name": "stdout",
     "output_type": "stream",
     "text": [
      "raw: LUNG-NSCLC2-0709-FIXT-01-IMC1-01_#_IMMUcan_panel_1_1.10_#_raw_counts_#_8d834aa38895fd0d99a05317e933bd92.csv \n",
      "        Corresponding sample: LUNG-NSCLC2-0709-FIXT-01-IMC1-01_#_IMMUcan_panel_1_1.10\n",
      " Corresponding metadata file: LUNG-NSCLC2-0709-FIXT-01-IMC1-01_#_IMMUcan_panel_1_1.10_#_cell_metadata_#_f43b17be168c2e47920e2881bbca8878.csv\n"
     ]
    },
    {
     "name": "stderr",
     "output_type": "stream",
     "text": [
      "/home/francesco.massaini/.local/lib/python3.10/site-packages/pandas/core/indexes/base.py:7834: RuntimeWarning: invalid value encountered in cast\n",
      "  values = values.astype(str)\n"
     ]
    },
    {
     "name": "stdout",
     "output_type": "stream",
     "text": [
      "raw: LUNG-NSCLC2-0606-FIXT-01-IMC1-01_#_IMMUcan_panel_1_1.10_#_raw_counts_#_553c90fe366fd65188794a243c13d78f.csv \n",
      "        Corresponding sample: LUNG-NSCLC2-0606-FIXT-01-IMC1-01_#_IMMUcan_panel_1_1.10\n",
      " Corresponding metadata file: LUNG-NSCLC2-0606-FIXT-01-IMC1-01_#_IMMUcan_panel_1_1.10_#_cell_metadata_#_e00438d0e83b4c134dfe8e09c443b5ae.csv\n"
     ]
    },
    {
     "name": "stderr",
     "output_type": "stream",
     "text": [
      "/home/francesco.massaini/.local/lib/python3.10/site-packages/pandas/core/indexes/base.py:7834: RuntimeWarning: invalid value encountered in cast\n",
      "  values = values.astype(str)\n"
     ]
    },
    {
     "name": "stdout",
     "output_type": "stream",
     "text": [
      "raw: LUNG-NSCLC2-0723-FIXT-01-IMC1-01_#_IMMUcan_panel_1_1.10_#_raw_counts_#_64086fcd33330e9bec9d1d4567b0a8e7.csv \n",
      "        Corresponding sample: LUNG-NSCLC2-0723-FIXT-01-IMC1-01_#_IMMUcan_panel_1_1.10\n",
      " Corresponding metadata file: LUNG-NSCLC2-0723-FIXT-01-IMC1-01_#_IMMUcan_panel_1_1.10_#_cell_metadata_#_6aa7ed13a52ba2b9faef6f45c59d591b.csv\n"
     ]
    },
    {
     "name": "stderr",
     "output_type": "stream",
     "text": [
      "/home/francesco.massaini/.local/lib/python3.10/site-packages/pandas/core/indexes/base.py:7834: RuntimeWarning: invalid value encountered in cast\n",
      "  values = values.astype(str)\n"
     ]
    },
    {
     "name": "stdout",
     "output_type": "stream",
     "text": [
      "raw: LUNG-NSCLC2-0618-FIXT-01-IMC1-01_#_IMMUcan_panel_1_1.10_#_raw_counts_#_b5270e7737f2981756e8d37df277a5a6.csv \n",
      "        Corresponding sample: LUNG-NSCLC2-0618-FIXT-01-IMC1-01_#_IMMUcan_panel_1_1.10\n",
      " Corresponding metadata file: LUNG-NSCLC2-0618-FIXT-01-IMC1-01_#_IMMUcan_panel_1_1.10_#_cell_metadata_#_6c91910b9aec3d8438b140db9c69a5a1.csv\n"
     ]
    },
    {
     "name": "stderr",
     "output_type": "stream",
     "text": [
      "/home/francesco.massaini/.local/lib/python3.10/site-packages/pandas/core/indexes/base.py:7834: RuntimeWarning: invalid value encountered in cast\n",
      "  values = values.astype(str)\n"
     ]
    },
    {
     "name": "stdout",
     "output_type": "stream",
     "text": [
      "raw: LUNG-NSCLC2-0564-FIXT-01-IMC1-01_#_IMMUcan_panel_1_1.10_#_raw_counts_#_cac337cb5b1a80e78f3776a1e51ddac1.csv \n",
      "        Corresponding sample: LUNG-NSCLC2-0564-FIXT-01-IMC1-01_#_IMMUcan_panel_1_1.10\n",
      " Corresponding metadata file: LUNG-NSCLC2-0564-FIXT-01-IMC1-01_#_IMMUcan_panel_1_1.10_#_cell_metadata_#_6c1084fcb9309ba18d69ef00b1237bea.csv\n"
     ]
    },
    {
     "name": "stderr",
     "output_type": "stream",
     "text": [
      "/home/francesco.massaini/.local/lib/python3.10/site-packages/pandas/core/indexes/base.py:7834: RuntimeWarning: invalid value encountered in cast\n",
      "  values = values.astype(str)\n"
     ]
    },
    {
     "name": "stdout",
     "output_type": "stream",
     "text": [
      "raw: LUNG-NSCLC2-0724-FIXT-01-IMC1-01_#_IMMUcan_panel_1_1.10_#_raw_counts_#_e421d9be3ddb54cf0ee6fbcc7a144672.csv \n",
      "        Corresponding sample: LUNG-NSCLC2-0724-FIXT-01-IMC1-01_#_IMMUcan_panel_1_1.10\n",
      " Corresponding metadata file: LUNG-NSCLC2-0724-FIXT-01-IMC1-01_#_IMMUcan_panel_1_1.10_#_cell_metadata_#_03a41b4247b71503d35b6d9880dd2454.csv\n"
     ]
    },
    {
     "name": "stderr",
     "output_type": "stream",
     "text": [
      "/home/francesco.massaini/.local/lib/python3.10/site-packages/pandas/core/indexes/base.py:7834: RuntimeWarning: invalid value encountered in cast\n",
      "  values = values.astype(str)\n"
     ]
    },
    {
     "name": "stdout",
     "output_type": "stream",
     "text": [
      "raw: LUNG-NSCLC2-0592-FIXT-01-IMC1-01_#_IMMUcan_panel_1_1.10_#_raw_counts_#_da3242ebcf73b8798e3d3797a372c344.csv \n",
      "        Corresponding sample: LUNG-NSCLC2-0592-FIXT-01-IMC1-01_#_IMMUcan_panel_1_1.10\n",
      " Corresponding metadata file: LUNG-NSCLC2-0592-FIXT-01-IMC1-01_#_IMMUcan_panel_1_1.10_#_cell_metadata_#_a08334f2859317dd7e18b3f9a23b0b78.csv\n"
     ]
    },
    {
     "name": "stderr",
     "output_type": "stream",
     "text": [
      "/home/francesco.massaini/.local/lib/python3.10/site-packages/pandas/core/indexes/base.py:7834: RuntimeWarning: invalid value encountered in cast\n",
      "  values = values.astype(str)\n"
     ]
    },
    {
     "name": "stdout",
     "output_type": "stream",
     "text": [
      "raw: LUNG-NSCLC2-0687-FIXT-01-IMC1-01_#_IMMUcan_panel_1_1.10_#_raw_counts_#_01d904749a9503c0edeb311dd611c378.csv \n",
      "        Corresponding sample: LUNG-NSCLC2-0687-FIXT-01-IMC1-01_#_IMMUcan_panel_1_1.10\n",
      " Corresponding metadata file: LUNG-NSCLC2-0687-FIXT-01-IMC1-01_#_IMMUcan_panel_1_1.10_#_cell_metadata_#_dc6864e96462a8b4f568f57de70bb3ad.csv\n"
     ]
    },
    {
     "name": "stderr",
     "output_type": "stream",
     "text": [
      "/home/francesco.massaini/.local/lib/python3.10/site-packages/pandas/core/indexes/base.py:7834: RuntimeWarning: invalid value encountered in cast\n",
      "  values = values.astype(str)\n"
     ]
    },
    {
     "name": "stdout",
     "output_type": "stream",
     "text": [
      "raw: LUNG-NSCLC2-0663-FIXT-01-IMC1-01_#_IMMUcan_panel_1_1.10_#_raw_counts_#_6a902c496cee3c5e6c6e900cfc632e7e.csv \n",
      "        Corresponding sample: LUNG-NSCLC2-0663-FIXT-01-IMC1-01_#_IMMUcan_panel_1_1.10\n",
      " Corresponding metadata file: LUNG-NSCLC2-0663-FIXT-01-IMC1-01_#_IMMUcan_panel_1_1.10_#_cell_metadata_#_a9c921c6bb1de365c2d986c42912909f.csv\n"
     ]
    },
    {
     "name": "stderr",
     "output_type": "stream",
     "text": [
      "/home/francesco.massaini/.local/lib/python3.10/site-packages/pandas/core/indexes/base.py:7834: RuntimeWarning: invalid value encountered in cast\n",
      "  values = values.astype(str)\n"
     ]
    },
    {
     "name": "stdout",
     "output_type": "stream",
     "text": [
      "raw: LUNG-NSCLC2-0659-FIXT-01-IMC1-01_#_IMMUcan_panel_1_1.10_#_raw_counts_#_ee5fd7393ab8d3762925ce025c3604d6.csv \n",
      "        Corresponding sample: LUNG-NSCLC2-0659-FIXT-01-IMC1-01_#_IMMUcan_panel_1_1.10\n",
      " Corresponding metadata file: LUNG-NSCLC2-0659-FIXT-01-IMC1-01_#_IMMUcan_panel_1_1.10_#_cell_metadata_#_780332bc140f0ec39d3907095b545e36.csv\n"
     ]
    },
    {
     "name": "stderr",
     "output_type": "stream",
     "text": [
      "/home/francesco.massaini/.local/lib/python3.10/site-packages/pandas/core/indexes/base.py:7834: RuntimeWarning: invalid value encountered in cast\n",
      "  values = values.astype(str)\n"
     ]
    },
    {
     "name": "stdout",
     "output_type": "stream",
     "text": [
      "raw: LUNG-NSCLC2-0730-FIXT-01-IMC1-01_#_IMMUcan_panel_1_1.10_#_raw_counts_#_9b6174c8fd9b5f48ce1beccc57bb9b40.csv \n",
      "        Corresponding sample: LUNG-NSCLC2-0730-FIXT-01-IMC1-01_#_IMMUcan_panel_1_1.10\n",
      " Corresponding metadata file: LUNG-NSCLC2-0730-FIXT-01-IMC1-01_#_IMMUcan_panel_1_1.10_#_cell_metadata_#_44999244488fdd586f98cdea0210df7e.csv\n"
     ]
    },
    {
     "name": "stderr",
     "output_type": "stream",
     "text": [
      "/home/francesco.massaini/.local/lib/python3.10/site-packages/pandas/core/indexes/base.py:7834: RuntimeWarning: invalid value encountered in cast\n",
      "  values = values.astype(str)\n"
     ]
    },
    {
     "name": "stdout",
     "output_type": "stream",
     "text": [
      "raw: LUNG-NSCLC2-0560-FIXT-01-IMC1-01_#_IMMUcan_panel_1_1.10_#_raw_counts_#_11a51587be0eeea5ef8dd6999e4df7ca.csv \n",
      "        Corresponding sample: LUNG-NSCLC2-0560-FIXT-01-IMC1-01_#_IMMUcan_panel_1_1.10\n",
      " Corresponding metadata file: LUNG-NSCLC2-0560-FIXT-01-IMC1-01_#_IMMUcan_panel_1_1.10_#_cell_metadata_#_c4c271ff640866cedf1b82c8073faae5.csv\n"
     ]
    },
    {
     "name": "stderr",
     "output_type": "stream",
     "text": [
      "/home/francesco.massaini/.local/lib/python3.10/site-packages/pandas/core/indexes/base.py:7834: RuntimeWarning: invalid value encountered in cast\n",
      "  values = values.astype(str)\n"
     ]
    },
    {
     "name": "stdout",
     "output_type": "stream",
     "text": [
      "raw: LUNG-NSCLC2-0567-FIXT-01-IMC1-01_#_IMMUcan_panel_1_1.10_#_raw_counts_#_16a43251c80c651ac0fbfdf6be1b678f.csv \n",
      "        Corresponding sample: LUNG-NSCLC2-0567-FIXT-01-IMC1-01_#_IMMUcan_panel_1_1.10\n",
      " Corresponding metadata file: LUNG-NSCLC2-0567-FIXT-01-IMC1-01_#_IMMUcan_panel_1_1.10_#_cell_metadata_#_175736d984e807422138314dbfca96d3.csv\n"
     ]
    },
    {
     "name": "stderr",
     "output_type": "stream",
     "text": [
      "/home/francesco.massaini/.local/lib/python3.10/site-packages/pandas/core/indexes/base.py:7834: RuntimeWarning: invalid value encountered in cast\n",
      "  values = values.astype(str)\n"
     ]
    },
    {
     "name": "stdout",
     "output_type": "stream",
     "text": [
      "raw: LUNG-NSCLC2-0703-FIXT-01-IMC1-01_#_IMMUcan_panel_1_1.10_#_raw_counts_#_3bdc76183b659bfc20481cd98bdae562.csv \n",
      "        Corresponding sample: LUNG-NSCLC2-0703-FIXT-01-IMC1-01_#_IMMUcan_panel_1_1.10\n",
      " Corresponding metadata file: LUNG-NSCLC2-0703-FIXT-01-IMC1-01_#_IMMUcan_panel_1_1.10_#_cell_metadata_#_17b7519b9ceef8f6534c03cfa32a97d6.csv\n"
     ]
    },
    {
     "name": "stderr",
     "output_type": "stream",
     "text": [
      "/home/francesco.massaini/.local/lib/python3.10/site-packages/pandas/core/indexes/base.py:7834: RuntimeWarning: invalid value encountered in cast\n",
      "  values = values.astype(str)\n"
     ]
    },
    {
     "name": "stdout",
     "output_type": "stream",
     "text": [
      "raw: LUNG-NSCLC2-0593-FIXT-01-IMC1-01_#_IMMUcan_panel_1_1.10_#_raw_counts_#_af47c0540b8bd573bb08a7fe61cf69b6.csv \n",
      "        Corresponding sample: LUNG-NSCLC2-0593-FIXT-01-IMC1-01_#_IMMUcan_panel_1_1.10\n",
      " Corresponding metadata file: LUNG-NSCLC2-0593-FIXT-01-IMC1-01_#_IMMUcan_panel_1_1.10_#_cell_metadata_#_fd5b197e390f8205e2d059de20b091cb.csv\n"
     ]
    },
    {
     "name": "stderr",
     "output_type": "stream",
     "text": [
      "/home/francesco.massaini/.local/lib/python3.10/site-packages/pandas/core/indexes/base.py:7834: RuntimeWarning: invalid value encountered in cast\n",
      "  values = values.astype(str)\n"
     ]
    },
    {
     "name": "stdout",
     "output_type": "stream",
     "text": [
      "raw: LUNG-NSCLC2-0591-FIXT-01-IMC1-01_#_IMMUcan_panel_1_1.10_#_raw_counts_#_59501798f4a1937acc45e758cb0c879c.csv \n",
      "        Corresponding sample: LUNG-NSCLC2-0591-FIXT-01-IMC1-01_#_IMMUcan_panel_1_1.10\n",
      " Corresponding metadata file: LUNG-NSCLC2-0591-FIXT-01-IMC1-01_#_IMMUcan_panel_1_1.10_#_cell_metadata_#_a5e0463a44658cfd21cbd54988a62003.csv\n"
     ]
    },
    {
     "name": "stderr",
     "output_type": "stream",
     "text": [
      "/home/francesco.massaini/.local/lib/python3.10/site-packages/pandas/core/indexes/base.py:7834: RuntimeWarning: invalid value encountered in cast\n",
      "  values = values.astype(str)\n"
     ]
    },
    {
     "name": "stdout",
     "output_type": "stream",
     "text": [
      "raw: LUNG-NSCLC2-0569-FIXT-01-IMC1-01_#_IMMUcan_panel_1_1.10_#_raw_counts_#_a4ca7e8aa10a33b4bcdf5778c3b663dc.csv \n",
      "        Corresponding sample: LUNG-NSCLC2-0569-FIXT-01-IMC1-01_#_IMMUcan_panel_1_1.10\n",
      " Corresponding metadata file: LUNG-NSCLC2-0569-FIXT-01-IMC1-01_#_IMMUcan_panel_1_1.10_#_cell_metadata_#_a87c1818ea8ea9fe2c3331ed03e29d43.csv\n"
     ]
    },
    {
     "name": "stderr",
     "output_type": "stream",
     "text": [
      "/home/francesco.massaini/.local/lib/python3.10/site-packages/pandas/core/indexes/base.py:7834: RuntimeWarning: invalid value encountered in cast\n",
      "  values = values.astype(str)\n"
     ]
    },
    {
     "name": "stdout",
     "output_type": "stream",
     "text": [
      "raw: LUNG-NSCLC2-0586-FIXT-01-IMC1-01_#_IMMUcan_panel_1_1.10_#_raw_counts_#_41c8f239c7abb542219123a8c7c7aad3.csv \n",
      "        Corresponding sample: LUNG-NSCLC2-0586-FIXT-01-IMC1-01_#_IMMUcan_panel_1_1.10\n",
      " Corresponding metadata file: LUNG-NSCLC2-0586-FIXT-01-IMC1-01_#_IMMUcan_panel_1_1.10_#_cell_metadata_#_1b10da8a17456d9d2823ce03491bc315.csv\n"
     ]
    },
    {
     "name": "stderr",
     "output_type": "stream",
     "text": [
      "/home/francesco.massaini/.local/lib/python3.10/site-packages/pandas/core/indexes/base.py:7834: RuntimeWarning: invalid value encountered in cast\n",
      "  values = values.astype(str)\n"
     ]
    },
    {
     "name": "stdout",
     "output_type": "stream",
     "text": [
      "raw: LUNG-NSCLC2-0695-FIXT-01-IMC1-01_#_IMMUcan_panel_1_1.10_#_raw_counts_#_e0d43b7aafd27a8cbc51760baf8de8c5.csv \n",
      "        Corresponding sample: LUNG-NSCLC2-0695-FIXT-01-IMC1-01_#_IMMUcan_panel_1_1.10\n",
      " Corresponding metadata file: LUNG-NSCLC2-0695-FIXT-01-IMC1-01_#_IMMUcan_panel_1_1.10_#_cell_metadata_#_38909ac3e3978edc2fd47cbb6d49afc8.csv\n",
      "raw: LUNG-NSCLC2-0636-FIXT-01-IMC1-01_#_IMMUcan_panel_1_1.10_#_raw_counts_#_cbe53608689d457d95ddb23dffd8dc0a.csv \n",
      "        Corresponding sample: LUNG-NSCLC2-0636-FIXT-01-IMC1-01_#_IMMUcan_panel_1_1.10\n",
      " Corresponding metadata file: LUNG-NSCLC2-0636-FIXT-01-IMC1-01_#_IMMUcan_panel_1_1.10_#_cell_metadata_#_a6c6b694fa4582e6c717529552324e3e.csv\n"
     ]
    },
    {
     "name": "stderr",
     "output_type": "stream",
     "text": [
      "/home/francesco.massaini/.local/lib/python3.10/site-packages/pandas/core/indexes/base.py:7834: RuntimeWarning: invalid value encountered in cast\n",
      "  values = values.astype(str)\n",
      "/home/francesco.massaini/.local/lib/python3.10/site-packages/pandas/core/indexes/base.py:7834: RuntimeWarning: invalid value encountered in cast\n",
      "  values = values.astype(str)\n"
     ]
    },
    {
     "name": "stdout",
     "output_type": "stream",
     "text": [
      "raw: LUNG-NSCLC2-0559-FIXT-01-IMC1-01_#_IMMUcan_panel_1_1.10_#_raw_counts_#_50f17decd377fb2de0aacf26a148368d.csv \n",
      "        Corresponding sample: LUNG-NSCLC2-0559-FIXT-01-IMC1-01_#_IMMUcan_panel_1_1.10\n",
      " Corresponding metadata file: LUNG-NSCLC2-0559-FIXT-01-IMC1-01_#_IMMUcan_panel_1_1.10_#_cell_metadata_#_ec526f49689a2ca0f5219e8810eac840.csv\n"
     ]
    },
    {
     "name": "stderr",
     "output_type": "stream",
     "text": [
      "/home/francesco.massaini/.local/lib/python3.10/site-packages/pandas/core/indexes/base.py:7834: RuntimeWarning: invalid value encountered in cast\n",
      "  values = values.astype(str)\n"
     ]
    },
    {
     "name": "stdout",
     "output_type": "stream",
     "text": [
      "raw: LUNG-NSCLC2-0701-FIXT-01-IMC1-01_#_IMMUcan_panel_1_1.10_#_raw_counts_#_b0d5dc6685f8c5dd0fa790671eb7a612.csv \n",
      "        Corresponding sample: LUNG-NSCLC2-0701-FIXT-01-IMC1-01_#_IMMUcan_panel_1_1.10\n",
      " Corresponding metadata file: LUNG-NSCLC2-0701-FIXT-01-IMC1-01_#_IMMUcan_panel_1_1.10_#_cell_metadata_#_08c4df51372c3538adace84ba70cffe7.csv\n"
     ]
    },
    {
     "name": "stderr",
     "output_type": "stream",
     "text": [
      "/home/francesco.massaini/.local/lib/python3.10/site-packages/pandas/core/indexes/base.py:7834: RuntimeWarning: invalid value encountered in cast\n",
      "  values = values.astype(str)\n"
     ]
    },
    {
     "name": "stdout",
     "output_type": "stream",
     "text": [
      "raw: LUNG-NSCLC2-0697-FIXT-01-IMC1-01_#_IMMUcan_panel_1_1.10_#_raw_counts_#_0f97a1edfa09aae0b46180f4f422a853.csv \n",
      "        Corresponding sample: LUNG-NSCLC2-0697-FIXT-01-IMC1-01_#_IMMUcan_panel_1_1.10\n",
      " Corresponding metadata file: LUNG-NSCLC2-0697-FIXT-01-IMC1-01_#_IMMUcan_panel_1_1.10_#_cell_metadata_#_4cc87f26e3318b8fea80dfcd24104c7d.csv\n"
     ]
    },
    {
     "name": "stderr",
     "output_type": "stream",
     "text": [
      "/home/francesco.massaini/.local/lib/python3.10/site-packages/pandas/core/indexes/base.py:7834: RuntimeWarning: invalid value encountered in cast\n",
      "  values = values.astype(str)\n"
     ]
    },
    {
     "name": "stdout",
     "output_type": "stream",
     "text": [
      "raw: LUNG-NSCLC2-0585-FIXT-01-IMC1-01_#_IMMUcan_panel_1_1.10_#_raw_counts_#_2baaee67f101bf3347377a54e0d8784d.csv \n",
      "        Corresponding sample: LUNG-NSCLC2-0585-FIXT-01-IMC1-01_#_IMMUcan_panel_1_1.10\n",
      " Corresponding metadata file: LUNG-NSCLC2-0585-FIXT-01-IMC1-01_#_IMMUcan_panel_1_1.10_#_cell_metadata_#_20ec4a74b74ee68523ecd1702a3b37f5.csv\n"
     ]
    },
    {
     "name": "stderr",
     "output_type": "stream",
     "text": [
      "/home/francesco.massaini/.local/lib/python3.10/site-packages/pandas/core/indexes/base.py:7834: RuntimeWarning: invalid value encountered in cast\n",
      "  values = values.astype(str)\n"
     ]
    },
    {
     "name": "stdout",
     "output_type": "stream",
     "text": [
      "raw: LUNG-NSCLC2-0706-FIXT-01-IMC1-01_#_IMMUcan_panel_1_1.10_#_raw_counts_#_4c283aa42a0ede35f5dff1f53a4198b3.csv \n",
      "        Corresponding sample: LUNG-NSCLC2-0706-FIXT-01-IMC1-01_#_IMMUcan_panel_1_1.10\n",
      " Corresponding metadata file: LUNG-NSCLC2-0706-FIXT-01-IMC1-01_#_IMMUcan_panel_1_1.10_#_cell_metadata_#_e3376fa8506d33f9756da33f0d38e07c.csv\n"
     ]
    },
    {
     "name": "stderr",
     "output_type": "stream",
     "text": [
      "/home/francesco.massaini/.local/lib/python3.10/site-packages/pandas/core/indexes/base.py:7834: RuntimeWarning: invalid value encountered in cast\n",
      "  values = values.astype(str)\n"
     ]
    },
    {
     "name": "stdout",
     "output_type": "stream",
     "text": [
      "raw: LUNG-NSCLC2-0742-FIXT-01-IMC1-01_#_IMMUcan_panel_1_1.10_#_raw_counts_#_771c13bfbb1c8a4d1b82c53781072624.csv \n",
      "        Corresponding sample: LUNG-NSCLC2-0742-FIXT-01-IMC1-01_#_IMMUcan_panel_1_1.10\n",
      " Corresponding metadata file: LUNG-NSCLC2-0742-FIXT-01-IMC1-01_#_IMMUcan_panel_1_1.10_#_cell_metadata_#_2a6f940483f5b3ec238c4bb00dbe3438.csv\n"
     ]
    },
    {
     "name": "stderr",
     "output_type": "stream",
     "text": [
      "/home/francesco.massaini/.local/lib/python3.10/site-packages/pandas/core/indexes/base.py:7834: RuntimeWarning: invalid value encountered in cast\n",
      "  values = values.astype(str)\n"
     ]
    },
    {
     "name": "stdout",
     "output_type": "stream",
     "text": [
      "raw: LUNG-NSCLC2-0714-FIXT-01-IMC1-01_#_IMMUcan_panel_1_1.10_#_raw_counts_#_baf739358a838b311f654a5f89a8708a.csv \n",
      "        Corresponding sample: LUNG-NSCLC2-0714-FIXT-01-IMC1-01_#_IMMUcan_panel_1_1.10\n",
      " Corresponding metadata file: LUNG-NSCLC2-0714-FIXT-01-IMC1-01_#_IMMUcan_panel_1_1.10_#_cell_metadata_#_f2158cd2c3c15b613d6e7c3c671d1297.csv\n"
     ]
    },
    {
     "name": "stderr",
     "output_type": "stream",
     "text": [
      "/home/francesco.massaini/.local/lib/python3.10/site-packages/pandas/core/indexes/base.py:7834: RuntimeWarning: invalid value encountered in cast\n",
      "  values = values.astype(str)\n"
     ]
    },
    {
     "name": "stdout",
     "output_type": "stream",
     "text": [
      "raw: LUNG-NSCLC2-0581-FIXT-01-IMC1-01_#_IMMUcan_panel_1_1.10_#_raw_counts_#_dc0484ed50832f7d92796d75001fe40d.csv \n",
      "        Corresponding sample: LUNG-NSCLC2-0581-FIXT-01-IMC1-01_#_IMMUcan_panel_1_1.10\n",
      " Corresponding metadata file: LUNG-NSCLC2-0581-FIXT-01-IMC1-01_#_IMMUcan_panel_1_1.10_#_cell_metadata_#_2061caefff8b551ac5b798c2c7664f6f.csv\n"
     ]
    },
    {
     "name": "stderr",
     "output_type": "stream",
     "text": [
      "/home/francesco.massaini/.local/lib/python3.10/site-packages/pandas/core/indexes/base.py:7834: RuntimeWarning: invalid value encountered in cast\n",
      "  values = values.astype(str)\n"
     ]
    },
    {
     "name": "stdout",
     "output_type": "stream",
     "text": [
      "raw: LUNG-NSCLC2-0681-FIXT-01-IMC1-01_#_IMMUcan_panel_1_1.10_#_raw_counts_#_1afe480929d7afeee822ac8afc999503.csv \n",
      "        Corresponding sample: LUNG-NSCLC2-0681-FIXT-01-IMC1-01_#_IMMUcan_panel_1_1.10\n",
      " Corresponding metadata file: LUNG-NSCLC2-0681-FIXT-01-IMC1-01_#_IMMUcan_panel_1_1.10_#_cell_metadata_#_5c336a2357b0cafa9ee76fd5aa97d3e0.csv\n"
     ]
    },
    {
     "name": "stderr",
     "output_type": "stream",
     "text": [
      "/home/francesco.massaini/.local/lib/python3.10/site-packages/pandas/core/indexes/base.py:7834: RuntimeWarning: invalid value encountered in cast\n",
      "  values = values.astype(str)\n"
     ]
    },
    {
     "name": "stdout",
     "output_type": "stream",
     "text": [
      "raw: LUNG-NSCLC2-0616-FIXT-01-IMC1-01_#_IMMUcan_panel_1_1.10_#_raw_counts_#_b01eb233555e3eb97b1442d738cbd2c4.csv \n",
      "        Corresponding sample: LUNG-NSCLC2-0616-FIXT-01-IMC1-01_#_IMMUcan_panel_1_1.10\n",
      " Corresponding metadata file: LUNG-NSCLC2-0616-FIXT-01-IMC1-01_#_IMMUcan_panel_1_1.10_#_cell_metadata_#_8cfb341f29f8f93f4d7bfeaf8de5c18c.csv\n"
     ]
    },
    {
     "name": "stderr",
     "output_type": "stream",
     "text": [
      "/home/francesco.massaini/.local/lib/python3.10/site-packages/pandas/core/indexes/base.py:7834: RuntimeWarning: invalid value encountered in cast\n",
      "  values = values.astype(str)\n"
     ]
    },
    {
     "name": "stdout",
     "output_type": "stream",
     "text": [
      "raw: LUNG-NSCLC2-0575-FIXT-01-IMC1-01_#_IMMUcan_panel_1_1.10_#_raw_counts_#_9d3f9e54c820365864941a00cc413c16.csv \n",
      "        Corresponding sample: LUNG-NSCLC2-0575-FIXT-01-IMC1-01_#_IMMUcan_panel_1_1.10\n",
      " Corresponding metadata file: LUNG-NSCLC2-0575-FIXT-01-IMC1-01_#_IMMUcan_panel_1_1.10_#_cell_metadata_#_2f298d30531e39d21c94a9142a694902.csv\n"
     ]
    },
    {
     "name": "stderr",
     "output_type": "stream",
     "text": [
      "/home/francesco.massaini/.local/lib/python3.10/site-packages/pandas/core/indexes/base.py:7834: RuntimeWarning: invalid value encountered in cast\n",
      "  values = values.astype(str)\n"
     ]
    },
    {
     "name": "stdout",
     "output_type": "stream",
     "text": [
      "raw: LUNG-NSCLC2-0696-FIXT-01-IMC1-01_#_IMMUcan_panel_1_1.10_#_raw_counts_#_b969ce0d99d7977cefda706e75ade3ed.csv \n",
      "        Corresponding sample: LUNG-NSCLC2-0696-FIXT-01-IMC1-01_#_IMMUcan_panel_1_1.10\n",
      " Corresponding metadata file: LUNG-NSCLC2-0696-FIXT-01-IMC1-01_#_IMMUcan_panel_1_1.10_#_cell_metadata_#_620a57408fc3456ebc1af2ec9b47a022.csv\n"
     ]
    },
    {
     "name": "stderr",
     "output_type": "stream",
     "text": [
      "/home/francesco.massaini/.local/lib/python3.10/site-packages/pandas/core/indexes/base.py:7834: RuntimeWarning: invalid value encountered in cast\n",
      "  values = values.astype(str)\n"
     ]
    },
    {
     "name": "stdout",
     "output_type": "stream",
     "text": [
      "raw: LUNG-NSCLC2-0679-FIXT-01-IMC1-01_#_IMMUcan_panel_1_1.10_#_raw_counts_#_4ca52ecebe1fc5c755cd8ccc0e4964b1.csv \n",
      "        Corresponding sample: LUNG-NSCLC2-0679-FIXT-01-IMC1-01_#_IMMUcan_panel_1_1.10\n",
      " Corresponding metadata file: LUNG-NSCLC2-0679-FIXT-01-IMC1-01_#_IMMUcan_panel_1_1.10_#_cell_metadata_#_467857656a596f35ff6470016dc1e84b.csv\n"
     ]
    },
    {
     "name": "stderr",
     "output_type": "stream",
     "text": [
      "/home/francesco.massaini/.local/lib/python3.10/site-packages/pandas/core/indexes/base.py:7834: RuntimeWarning: invalid value encountered in cast\n",
      "  values = values.astype(str)\n"
     ]
    },
    {
     "name": "stdout",
     "output_type": "stream",
     "text": [
      "raw: LUNG-NSCLC2-0613-FIXT-01-IMC1-01_#_IMMUcan_panel_1_1.10_#_raw_counts_#_7a20ef849347d15bccf5d39b800b0efd.csv \n",
      "        Corresponding sample: LUNG-NSCLC2-0613-FIXT-01-IMC1-01_#_IMMUcan_panel_1_1.10\n",
      " Corresponding metadata file: LUNG-NSCLC2-0613-FIXT-01-IMC1-01_#_IMMUcan_panel_1_1.10_#_cell_metadata_#_89d6d6cb6ad042d58b4632b10d8d52fe.csv\n"
     ]
    },
    {
     "name": "stderr",
     "output_type": "stream",
     "text": [
      "/home/francesco.massaini/.local/lib/python3.10/site-packages/pandas/core/indexes/base.py:7834: RuntimeWarning: invalid value encountered in cast\n",
      "  values = values.astype(str)\n"
     ]
    },
    {
     "name": "stdout",
     "output_type": "stream",
     "text": [
      "raw: LUNG-NSCLC2-0589-FIXT-01-IMC1-01_#_IMMUcan_panel_1_1.10_#_raw_counts_#_d10504a6f16aea87f5f619d9e32ea687.csv \n",
      "        Corresponding sample: LUNG-NSCLC2-0589-FIXT-01-IMC1-01_#_IMMUcan_panel_1_1.10\n",
      " Corresponding metadata file: LUNG-NSCLC2-0589-FIXT-01-IMC1-01_#_IMMUcan_panel_1_1.10_#_cell_metadata_#_8590723d14d1abb6af63bce07b1d7365.csv\n"
     ]
    },
    {
     "name": "stderr",
     "output_type": "stream",
     "text": [
      "/home/francesco.massaini/.local/lib/python3.10/site-packages/pandas/core/indexes/base.py:7834: RuntimeWarning: invalid value encountered in cast\n",
      "  values = values.astype(str)\n"
     ]
    },
    {
     "name": "stdout",
     "output_type": "stream",
     "text": [
      "raw: LUNG-NSCLC2-0590-FIXT-01-IMC1-01_#_IMMUcan_panel_1_1.10_#_raw_counts_#_6c40461c9d2429646b5943fbf8f558ab.csv \n",
      "        Corresponding sample: LUNG-NSCLC2-0590-FIXT-01-IMC1-01_#_IMMUcan_panel_1_1.10\n",
      " Corresponding metadata file: LUNG-NSCLC2-0590-FIXT-01-IMC1-01_#_IMMUcan_panel_1_1.10_#_cell_metadata_#_e15fb4434ec69c4fbd9f52c4c658cb93.csv\n"
     ]
    },
    {
     "name": "stderr",
     "output_type": "stream",
     "text": [
      "/home/francesco.massaini/.local/lib/python3.10/site-packages/pandas/core/indexes/base.py:7834: RuntimeWarning: invalid value encountered in cast\n",
      "  values = values.astype(str)\n"
     ]
    },
    {
     "name": "stdout",
     "output_type": "stream",
     "text": [
      "raw: LUNG-NSCLC2-0622-FIXT-01-IMC1-01_#_IMMUcan_panel_1_1.10_#_raw_counts_#_9c02edb7c950c47f2ace592104a19e2e.csv \n",
      "        Corresponding sample: LUNG-NSCLC2-0622-FIXT-01-IMC1-01_#_IMMUcan_panel_1_1.10\n",
      " Corresponding metadata file: LUNG-NSCLC2-0622-FIXT-01-IMC1-01_#_IMMUcan_panel_1_1.10_#_cell_metadata_#_17aeb05114c2be4576fd6da6c1d03456.csv\n"
     ]
    },
    {
     "name": "stderr",
     "output_type": "stream",
     "text": [
      "/home/francesco.massaini/.local/lib/python3.10/site-packages/pandas/core/indexes/base.py:7834: RuntimeWarning: invalid value encountered in cast\n",
      "  values = values.astype(str)\n"
     ]
    },
    {
     "name": "stdout",
     "output_type": "stream",
     "text": [
      "raw: LUNG-NSCLC2-0708-FIXT-01-IMC1-01_#_IMMUcan_panel_1_1.10_#_raw_counts_#_1fda946a4d634f02e850d1e1fd49ddaa.csv \n",
      "        Corresponding sample: LUNG-NSCLC2-0708-FIXT-01-IMC1-01_#_IMMUcan_panel_1_1.10\n",
      " Corresponding metadata file: LUNG-NSCLC2-0708-FIXT-01-IMC1-01_#_IMMUcan_panel_1_1.10_#_cell_metadata_#_e4a772fa942ed720b9dff21e769435f2.csv\n"
     ]
    },
    {
     "name": "stderr",
     "output_type": "stream",
     "text": [
      "/home/francesco.massaini/.local/lib/python3.10/site-packages/pandas/core/indexes/base.py:7834: RuntimeWarning: invalid value encountered in cast\n",
      "  values = values.astype(str)\n"
     ]
    },
    {
     "name": "stdout",
     "output_type": "stream",
     "text": [
      "raw: LUNG-NSCLC2-0639-FIXT-01-IMC1-01_#_IMMUcan_panel_1_1.10_#_raw_counts_#_bfac396830c6e265a86fd4d0e5492ad2.csv \n",
      "        Corresponding sample: LUNG-NSCLC2-0639-FIXT-01-IMC1-01_#_IMMUcan_panel_1_1.10\n",
      " Corresponding metadata file: LUNG-NSCLC2-0639-FIXT-01-IMC1-01_#_IMMUcan_panel_1_1.10_#_cell_metadata_#_b7b3cb40fa8584876234ec63cfbffa9a.csv\n"
     ]
    },
    {
     "name": "stderr",
     "output_type": "stream",
     "text": [
      "/home/francesco.massaini/.local/lib/python3.10/site-packages/pandas/core/indexes/base.py:7834: RuntimeWarning: invalid value encountered in cast\n",
      "  values = values.astype(str)\n"
     ]
    },
    {
     "name": "stdout",
     "output_type": "stream",
     "text": [
      "raw: LUNG-NSCLC2-0632-FIXT-01-IMC1-01_#_IMMUcan_panel_1_1.10_#_raw_counts_#_26ed6c84f93eb31906d943efaa28de2f.csv \n",
      "        Corresponding sample: LUNG-NSCLC2-0632-FIXT-01-IMC1-01_#_IMMUcan_panel_1_1.10\n",
      " Corresponding metadata file: LUNG-NSCLC2-0632-FIXT-01-IMC1-01_#_IMMUcan_panel_1_1.10_#_cell_metadata_#_6f6112ae900050d0856595b27a45d25d.csv\n"
     ]
    },
    {
     "name": "stderr",
     "output_type": "stream",
     "text": [
      "/home/francesco.massaini/.local/lib/python3.10/site-packages/pandas/core/indexes/base.py:7834: RuntimeWarning: invalid value encountered in cast\n",
      "  values = values.astype(str)\n"
     ]
    },
    {
     "name": "stdout",
     "output_type": "stream",
     "text": [
      "raw: LUNG-NSCLC2-0563-FIXT-01-IMC1-01_#_IMMUcan_panel_1_1.10_#_raw_counts_#_1f93587f7f6b13f94d084f1cc063b2d5.csv \n",
      "        Corresponding sample: LUNG-NSCLC2-0563-FIXT-01-IMC1-01_#_IMMUcan_panel_1_1.10\n",
      " Corresponding metadata file: LUNG-NSCLC2-0563-FIXT-01-IMC1-01_#_IMMUcan_panel_1_1.10_#_cell_metadata_#_8beccd7907e3e4bba0b3dbdbf5c659b2.csv\n"
     ]
    },
    {
     "name": "stderr",
     "output_type": "stream",
     "text": [
      "/home/francesco.massaini/.local/lib/python3.10/site-packages/pandas/core/indexes/base.py:7834: RuntimeWarning: invalid value encountered in cast\n",
      "  values = values.astype(str)\n"
     ]
    },
    {
     "name": "stdout",
     "output_type": "stream",
     "text": [
      "raw: LUNG-NSCLC2-0737-FIXT-01-IMC1-01_#_IMMUcan_panel_1_1.10_#_raw_counts_#_acd7c80402fcf66c91be2a7927997cad.csv \n",
      "        Corresponding sample: LUNG-NSCLC2-0737-FIXT-01-IMC1-01_#_IMMUcan_panel_1_1.10\n",
      " Corresponding metadata file: LUNG-NSCLC2-0737-FIXT-01-IMC1-01_#_IMMUcan_panel_1_1.10_#_cell_metadata_#_921171eb589a66567bf590401751e2ad.csv\n"
     ]
    },
    {
     "name": "stderr",
     "output_type": "stream",
     "text": [
      "/home/francesco.massaini/.local/lib/python3.10/site-packages/pandas/core/indexes/base.py:7834: RuntimeWarning: invalid value encountered in cast\n",
      "  values = values.astype(str)\n"
     ]
    },
    {
     "name": "stdout",
     "output_type": "stream",
     "text": [
      "raw: LUNG-NSCLC2-0597-FIXT-01-IMC1-01_#_IMMUcan_panel_1_1.10_#_raw_counts_#_4911f60613341017822786269ff9ab2f.csv \n",
      "        Corresponding sample: LUNG-NSCLC2-0597-FIXT-01-IMC1-01_#_IMMUcan_panel_1_1.10\n",
      " Corresponding metadata file: LUNG-NSCLC2-0597-FIXT-01-IMC1-01_#_IMMUcan_panel_1_1.10_#_cell_metadata_#_235df3b2591fa7b9f8fc94a5d66638f3.csv\n"
     ]
    },
    {
     "name": "stderr",
     "output_type": "stream",
     "text": [
      "/home/francesco.massaini/.local/lib/python3.10/site-packages/pandas/core/indexes/base.py:7834: RuntimeWarning: invalid value encountered in cast\n",
      "  values = values.astype(str)\n"
     ]
    },
    {
     "name": "stdout",
     "output_type": "stream",
     "text": [
      "raw: LUNG-NSCLC2-0692-FIXT-01-IMC1-01_#_IMMUcan_panel_1_1.10_#_raw_counts_#_9d6913ae9db56f9c2967b732e5f367f2.csv \n",
      "        Corresponding sample: LUNG-NSCLC2-0692-FIXT-01-IMC1-01_#_IMMUcan_panel_1_1.10\n",
      " Corresponding metadata file: LUNG-NSCLC2-0692-FIXT-01-IMC1-01_#_IMMUcan_panel_1_1.10_#_cell_metadata_#_8383629848658c6496b0326c04ab54c7.csv\n"
     ]
    },
    {
     "name": "stderr",
     "output_type": "stream",
     "text": [
      "/home/francesco.massaini/.local/lib/python3.10/site-packages/pandas/core/indexes/base.py:7834: RuntimeWarning: invalid value encountered in cast\n",
      "  values = values.astype(str)\n"
     ]
    },
    {
     "name": "stdout",
     "output_type": "stream",
     "text": [
      "raw: LUNG-NSCLC2-0602-FIXT-01-IMC1-01_#_IMMUcan_panel_1_1.10_#_raw_counts_#_629496052475c25ff4d80214f4f4fa79.csv \n",
      "        Corresponding sample: LUNG-NSCLC2-0602-FIXT-01-IMC1-01_#_IMMUcan_panel_1_1.10\n",
      " Corresponding metadata file: LUNG-NSCLC2-0602-FIXT-01-IMC1-01_#_IMMUcan_panel_1_1.10_#_cell_metadata_#_8f94d7d225225b31e639ebba0a2e7a55.csv\n"
     ]
    },
    {
     "name": "stderr",
     "output_type": "stream",
     "text": [
      "/home/francesco.massaini/.local/lib/python3.10/site-packages/pandas/core/indexes/base.py:7834: RuntimeWarning: invalid value encountered in cast\n",
      "  values = values.astype(str)\n"
     ]
    },
    {
     "name": "stdout",
     "output_type": "stream",
     "text": [
      "raw: LUNG-NSCLC2-0710-FIXT-01-IMC1-01_#_IMMUcan_panel_1_1.10_#_raw_counts_#_7b73a296c8770fcc5b3fd7f63dca79f3.csv \n",
      "        Corresponding sample: LUNG-NSCLC2-0710-FIXT-01-IMC1-01_#_IMMUcan_panel_1_1.10\n",
      " Corresponding metadata file: LUNG-NSCLC2-0710-FIXT-01-IMC1-01_#_IMMUcan_panel_1_1.10_#_cell_metadata_#_296586709318fdc742697857e9a30253.csv\n"
     ]
    },
    {
     "name": "stderr",
     "output_type": "stream",
     "text": [
      "/home/francesco.massaini/.local/lib/python3.10/site-packages/pandas/core/indexes/base.py:7834: RuntimeWarning: invalid value encountered in cast\n",
      "  values = values.astype(str)\n"
     ]
    },
    {
     "name": "stdout",
     "output_type": "stream",
     "text": [
      "raw: LUNG-NSCLC2-0729-FIXT-01-IMC1-01_#_IMMUcan_panel_1_1.10_#_raw_counts_#_bf53612fcb49a035bed0ce9f23175d71.csv \n",
      "        Corresponding sample: LUNG-NSCLC2-0729-FIXT-01-IMC1-01_#_IMMUcan_panel_1_1.10\n",
      " Corresponding metadata file: LUNG-NSCLC2-0729-FIXT-01-IMC1-01_#_IMMUcan_panel_1_1.10_#_cell_metadata_#_d9c51eea50bec7e93369f103d58675d6.csv\n"
     ]
    },
    {
     "name": "stderr",
     "output_type": "stream",
     "text": [
      "/home/francesco.massaini/.local/lib/python3.10/site-packages/pandas/core/indexes/base.py:7834: RuntimeWarning: invalid value encountered in cast\n",
      "  values = values.astype(str)\n"
     ]
    },
    {
     "name": "stdout",
     "output_type": "stream",
     "text": [
      "raw: LUNG-NSCLC2-0614-FIXT-01-IMC1-01_#_IMMUcan_panel_1_1.10_#_raw_counts_#_c289a3fdb40f2c3644fc48dbe1ea9c53.csv \n",
      "        Corresponding sample: LUNG-NSCLC2-0614-FIXT-01-IMC1-01_#_IMMUcan_panel_1_1.10\n",
      " Corresponding metadata file: LUNG-NSCLC2-0614-FIXT-01-IMC1-01_#_IMMUcan_panel_1_1.10_#_cell_metadata_#_26b6a96b111d573753807d97d07c23ee.csv\n"
     ]
    },
    {
     "name": "stderr",
     "output_type": "stream",
     "text": [
      "/home/francesco.massaini/.local/lib/python3.10/site-packages/pandas/core/indexes/base.py:7834: RuntimeWarning: invalid value encountered in cast\n",
      "  values = values.astype(str)\n"
     ]
    },
    {
     "name": "stdout",
     "output_type": "stream",
     "text": [
      "raw: LUNG-NSCLC2-0577-FIXT-01-IMC1-01_#_IMMUcan_panel_1_1.10_#_raw_counts_#_2cbd06b12728db99161a3c7dbe1be419.csv \n",
      "        Corresponding sample: LUNG-NSCLC2-0577-FIXT-01-IMC1-01_#_IMMUcan_panel_1_1.10\n",
      " Corresponding metadata file: LUNG-NSCLC2-0577-FIXT-01-IMC1-01_#_IMMUcan_panel_1_1.10_#_cell_metadata_#_413f2a6092fbae7b2e42333b7b367bdd.csv\n"
     ]
    },
    {
     "name": "stderr",
     "output_type": "stream",
     "text": [
      "/home/francesco.massaini/.local/lib/python3.10/site-packages/pandas/core/indexes/base.py:7834: RuntimeWarning: invalid value encountered in cast\n",
      "  values = values.astype(str)\n"
     ]
    },
    {
     "name": "stdout",
     "output_type": "stream",
     "text": [
      "raw: LUNG-NSCLC2-0649-FIXT-01-IMC1-01_#_IMMUcan_panel_1_1.10_#_raw_counts_#_915dfdaf3365ef350cdca3c149bc1efb.csv \n",
      "        Corresponding sample: LUNG-NSCLC2-0649-FIXT-01-IMC1-01_#_IMMUcan_panel_1_1.10\n",
      " Corresponding metadata file: LUNG-NSCLC2-0649-FIXT-01-IMC1-01_#_IMMUcan_panel_1_1.10_#_cell_metadata_#_5b294a7b09ea4511c6462e9f876c87e5.csv\n"
     ]
    },
    {
     "name": "stderr",
     "output_type": "stream",
     "text": [
      "/home/francesco.massaini/.local/lib/python3.10/site-packages/pandas/core/indexes/base.py:7834: RuntimeWarning: invalid value encountered in cast\n",
      "  values = values.astype(str)\n"
     ]
    },
    {
     "name": "stdout",
     "output_type": "stream",
     "text": [
      "raw: LUNG-NSCLC2-0615-FIXT-01-IMC1-01_#_IMMUcan_panel_1_1.10_#_raw_counts_#_acede669b21e4935d8bd13bfe829a3a9.csv \n",
      "        Corresponding sample: LUNG-NSCLC2-0615-FIXT-01-IMC1-01_#_IMMUcan_panel_1_1.10\n",
      " Corresponding metadata file: LUNG-NSCLC2-0615-FIXT-01-IMC1-01_#_IMMUcan_panel_1_1.10_#_cell_metadata_#_4cc81b3d39e38608965f624b5aff820c.csv\n",
      "raw: LUNG-NSCLC2-0647-FIXT-01-IMC1-01_#_IMMUcan_panel_1_1.10_#_raw_counts_#_b76f47250bd8e49b8da1910e5719f42f.csv \n",
      "        Corresponding sample: LUNG-NSCLC2-0647-FIXT-01-IMC1-01_#_IMMUcan_panel_1_1.10\n",
      " Corresponding metadata file: LUNG-NSCLC2-0647-FIXT-01-IMC1-01_#_IMMUcan_panel_1_1.10_#_cell_metadata_#_ff73fbfc06a2ee6a6b9ed8b5f0c8cee2.csv\n"
     ]
    },
    {
     "name": "stderr",
     "output_type": "stream",
     "text": [
      "/home/francesco.massaini/.local/lib/python3.10/site-packages/pandas/core/indexes/base.py:7834: RuntimeWarning: invalid value encountered in cast\n",
      "  values = values.astype(str)\n",
      "/home/francesco.massaini/.local/lib/python3.10/site-packages/pandas/core/indexes/base.py:7834: RuntimeWarning: invalid value encountered in cast\n",
      "  values = values.astype(str)\n"
     ]
    },
    {
     "name": "stdout",
     "output_type": "stream",
     "text": [
      "raw: LUNG-NSCLC2-0611-FIXT-01-IMC1-01_#_IMMUcan_panel_1_1.10_#_raw_counts_#_200a48d7625edb3b2ed0e229bdda87d3.csv \n",
      "        Corresponding sample: LUNG-NSCLC2-0611-FIXT-01-IMC1-01_#_IMMUcan_panel_1_1.10\n",
      " Corresponding metadata file: LUNG-NSCLC2-0611-FIXT-01-IMC1-01_#_IMMUcan_panel_1_1.10_#_cell_metadata_#_04d43f60e85657a9583fa71b09560615.csv\n"
     ]
    },
    {
     "name": "stderr",
     "output_type": "stream",
     "text": [
      "/home/francesco.massaini/.local/lib/python3.10/site-packages/pandas/core/indexes/base.py:7834: RuntimeWarning: invalid value encountered in cast\n",
      "  values = values.astype(str)\n"
     ]
    },
    {
     "name": "stdout",
     "output_type": "stream",
     "text": [
      "raw: LUNG-NSCLC2-0676-FIXT-01-IMC1-01_#_IMMUcan_panel_1_1.10_#_raw_counts_#_03a37c947e0c94441e3d07a8ef8fb445.csv \n",
      "        Corresponding sample: LUNG-NSCLC2-0676-FIXT-01-IMC1-01_#_IMMUcan_panel_1_1.10\n",
      " Corresponding metadata file: LUNG-NSCLC2-0676-FIXT-01-IMC1-01_#_IMMUcan_panel_1_1.10_#_cell_metadata_#_a1b0bb9865ceffe0e8657c860451958d.csv\n"
     ]
    },
    {
     "name": "stderr",
     "output_type": "stream",
     "text": [
      "/home/francesco.massaini/.local/lib/python3.10/site-packages/pandas/core/indexes/base.py:7834: RuntimeWarning: invalid value encountered in cast\n",
      "  values = values.astype(str)\n"
     ]
    },
    {
     "name": "stdout",
     "output_type": "stream",
     "text": [
      "raw: LUNG-NSCLC2-0627-FIXT-01-IMC1-01_#_IMMUcan_panel_1_1.10_#_raw_counts_#_c288cc64f7f4f068df090048ff45a4a3.csv \n",
      "        Corresponding sample: LUNG-NSCLC2-0627-FIXT-01-IMC1-01_#_IMMUcan_panel_1_1.10\n",
      " Corresponding metadata file: LUNG-NSCLC2-0627-FIXT-01-IMC1-01_#_IMMUcan_panel_1_1.10_#_cell_metadata_#_22bef5c8360b618f6e4af6f25f4aa821.csv\n"
     ]
    },
    {
     "name": "stderr",
     "output_type": "stream",
     "text": [
      "/home/francesco.massaini/.local/lib/python3.10/site-packages/pandas/core/indexes/base.py:7834: RuntimeWarning: invalid value encountered in cast\n",
      "  values = values.astype(str)\n"
     ]
    },
    {
     "name": "stdout",
     "output_type": "stream",
     "text": [
      "raw: LUNG-NSCLC2-0633-FIXT-01-IMC1-01_#_IMMUcan_panel_1_1.10_#_raw_counts_#_13260b10295253756c53a857ca8e744d.csv \n",
      "        Corresponding sample: LUNG-NSCLC2-0633-FIXT-01-IMC1-01_#_IMMUcan_panel_1_1.10\n",
      " Corresponding metadata file: LUNG-NSCLC2-0633-FIXT-01-IMC1-01_#_IMMUcan_panel_1_1.10_#_cell_metadata_#_ea0448ac79a6a53e7528608c31de99f3.csv\n"
     ]
    },
    {
     "name": "stderr",
     "output_type": "stream",
     "text": [
      "/home/francesco.massaini/.local/lib/python3.10/site-packages/pandas/core/indexes/base.py:7834: RuntimeWarning: invalid value encountered in cast\n",
      "  values = values.astype(str)\n"
     ]
    },
    {
     "name": "stdout",
     "output_type": "stream",
     "text": [
      "raw: LUNG-NSCLC2-0555-FIXT-01-IMC1-01_#_IMMUcan_panel_1_1.10_#_raw_counts_#_320aca4d58a770a5590d1a094da3610c.csv \n",
      "        Corresponding sample: LUNG-NSCLC2-0555-FIXT-01-IMC1-01_#_IMMUcan_panel_1_1.10\n",
      " Corresponding metadata file: LUNG-NSCLC2-0555-FIXT-01-IMC1-01_#_IMMUcan_panel_1_1.10_#_cell_metadata_#_cb857da5b3f2cec003a422daf5c19768.csv\n"
     ]
    },
    {
     "name": "stderr",
     "output_type": "stream",
     "text": [
      "/home/francesco.massaini/.local/lib/python3.10/site-packages/pandas/core/indexes/base.py:7834: RuntimeWarning: invalid value encountered in cast\n",
      "  values = values.astype(str)\n"
     ]
    },
    {
     "name": "stdout",
     "output_type": "stream",
     "text": [
      "raw: LUNG-NSCLC2-0635-FIXT-01-IMC1-01_#_IMMUcan_panel_1_1.10_#_raw_counts_#_99c52098491f6602a145bbc165aa6a72.csv \n",
      "        Corresponding sample: LUNG-NSCLC2-0635-FIXT-01-IMC1-01_#_IMMUcan_panel_1_1.10\n",
      " Corresponding metadata file: LUNG-NSCLC2-0635-FIXT-01-IMC1-01_#_IMMUcan_panel_1_1.10_#_cell_metadata_#_8a621029d5e0488026a3739b2e2c983f.csv\n"
     ]
    },
    {
     "name": "stderr",
     "output_type": "stream",
     "text": [
      "/home/francesco.massaini/.local/lib/python3.10/site-packages/pandas/core/indexes/base.py:7834: RuntimeWarning: invalid value encountered in cast\n",
      "  values = values.astype(str)\n"
     ]
    },
    {
     "name": "stdout",
     "output_type": "stream",
     "text": [
      "raw: LUNG-NSCLC2-0712-FIXT-01-IMC1-01_#_IMMUcan_panel_1_1.10_#_raw_counts_#_bbdc6fd66c2d1b7fed6b20d3bab4076c.csv \n",
      "        Corresponding sample: LUNG-NSCLC2-0712-FIXT-01-IMC1-01_#_IMMUcan_panel_1_1.10\n",
      " Corresponding metadata file: LUNG-NSCLC2-0712-FIXT-01-IMC1-01_#_IMMUcan_panel_1_1.10_#_cell_metadata_#_0d5fe47445540c8774d7baf2661ee2fc.csv\n"
     ]
    },
    {
     "name": "stderr",
     "output_type": "stream",
     "text": [
      "/home/francesco.massaini/.local/lib/python3.10/site-packages/pandas/core/indexes/base.py:7834: RuntimeWarning: invalid value encountered in cast\n",
      "  values = values.astype(str)\n"
     ]
    },
    {
     "name": "stdout",
     "output_type": "stream",
     "text": [
      "raw: LUNG-NSCLC2-0713-FIXT-01-IMC1-01_#_IMMUcan_panel_1_1.10_#_raw_counts_#_f066b3a742c4625072fdcc1da59bda4d.csv \n",
      "        Corresponding sample: LUNG-NSCLC2-0713-FIXT-01-IMC1-01_#_IMMUcan_panel_1_1.10\n",
      " Corresponding metadata file: LUNG-NSCLC2-0713-FIXT-01-IMC1-01_#_IMMUcan_panel_1_1.10_#_cell_metadata_#_a770abb1190595b347c01d7d496585b5.csv\n"
     ]
    },
    {
     "name": "stderr",
     "output_type": "stream",
     "text": [
      "/home/francesco.massaini/.local/lib/python3.10/site-packages/pandas/core/indexes/base.py:7834: RuntimeWarning: invalid value encountered in cast\n",
      "  values = values.astype(str)\n"
     ]
    },
    {
     "name": "stdout",
     "output_type": "stream",
     "text": [
      "raw: LUNG-NSCLC2-0699-FIXT-01-IMC1-01_#_IMMUcan_panel_1_1.10_#_raw_counts_#_c870ca3edfaecbf005034e8b828105eb.csv \n",
      "        Corresponding sample: LUNG-NSCLC2-0699-FIXT-01-IMC1-01_#_IMMUcan_panel_1_1.10\n",
      " Corresponding metadata file: LUNG-NSCLC2-0699-FIXT-01-IMC1-01_#_IMMUcan_panel_1_1.10_#_cell_metadata_#_e490a31072150563f30e3098f1b87d1c.csv\n"
     ]
    },
    {
     "name": "stderr",
     "output_type": "stream",
     "text": [
      "/home/francesco.massaini/.local/lib/python3.10/site-packages/pandas/core/indexes/base.py:7834: RuntimeWarning: invalid value encountered in cast\n",
      "  values = values.astype(str)\n"
     ]
    },
    {
     "name": "stdout",
     "output_type": "stream",
     "text": [
      "raw: LUNG-NSCLC2-0722-FIXT-01-IMC1-01_#_IMMUcan_panel_1_1.10_#_raw_counts_#_6a13fcff4cb684228326de67ac9e1ec9.csv \n",
      "        Corresponding sample: LUNG-NSCLC2-0722-FIXT-01-IMC1-01_#_IMMUcan_panel_1_1.10\n",
      " Corresponding metadata file: LUNG-NSCLC2-0722-FIXT-01-IMC1-01_#_IMMUcan_panel_1_1.10_#_cell_metadata_#_819f4a81adecf18f4429e61e29071e42.csv\n"
     ]
    },
    {
     "name": "stderr",
     "output_type": "stream",
     "text": [
      "/home/francesco.massaini/.local/lib/python3.10/site-packages/pandas/core/indexes/base.py:7834: RuntimeWarning: invalid value encountered in cast\n",
      "  values = values.astype(str)\n"
     ]
    },
    {
     "name": "stdout",
     "output_type": "stream",
     "text": [
      "raw: LUNG-NSCLC2-0739-FIXT-01-IMC1-01_#_IMMUcan_panel_1_1.10_#_raw_counts_#_668421e5bb0ed6ac6efea14d1cd1b988.csv \n",
      "        Corresponding sample: LUNG-NSCLC2-0739-FIXT-01-IMC1-01_#_IMMUcan_panel_1_1.10\n",
      " Corresponding metadata file: LUNG-NSCLC2-0739-FIXT-01-IMC1-01_#_IMMUcan_panel_1_1.10_#_cell_metadata_#_3875dddcf6c3d8d7c4367ccc2aceb24a.csv\n"
     ]
    },
    {
     "name": "stderr",
     "output_type": "stream",
     "text": [
      "/home/francesco.massaini/.local/lib/python3.10/site-packages/pandas/core/indexes/base.py:7834: RuntimeWarning: invalid value encountered in cast\n",
      "  values = values.astype(str)\n"
     ]
    },
    {
     "name": "stdout",
     "output_type": "stream",
     "text": [
      "raw: LUNG-NSCLC2-0566-FIXT-01-IMC1-01_#_IMMUcan_panel_1_1.10_#_raw_counts_#_d716be2319a78f8b29a03d61955a305d.csv \n",
      "        Corresponding sample: LUNG-NSCLC2-0566-FIXT-01-IMC1-01_#_IMMUcan_panel_1_1.10\n",
      " Corresponding metadata file: LUNG-NSCLC2-0566-FIXT-01-IMC1-01_#_IMMUcan_panel_1_1.10_#_cell_metadata_#_2fac2bd72ec6d56f132529ce1ee3296d.csv\n"
     ]
    },
    {
     "name": "stderr",
     "output_type": "stream",
     "text": [
      "/home/francesco.massaini/.local/lib/python3.10/site-packages/pandas/core/indexes/base.py:7834: RuntimeWarning: invalid value encountered in cast\n",
      "  values = values.astype(str)\n"
     ]
    },
    {
     "name": "stdout",
     "output_type": "stream",
     "text": [
      "raw: LUNG-NSCLC2-0689-FIXT-01-IMC1-01_#_IMMUcan_panel_1_1.10_#_raw_counts_#_590881c742f40be87d8717b043e0c2b1.csv \n",
      "        Corresponding sample: LUNG-NSCLC2-0689-FIXT-01-IMC1-01_#_IMMUcan_panel_1_1.10\n",
      " Corresponding metadata file: LUNG-NSCLC2-0689-FIXT-01-IMC1-01_#_IMMUcan_panel_1_1.10_#_cell_metadata_#_ff55f7d47eb33e5a4eb37a7e8a3301a9.csv\n"
     ]
    },
    {
     "name": "stderr",
     "output_type": "stream",
     "text": [
      "/home/francesco.massaini/.local/lib/python3.10/site-packages/pandas/core/indexes/base.py:7834: RuntimeWarning: invalid value encountered in cast\n",
      "  values = values.astype(str)\n"
     ]
    },
    {
     "name": "stdout",
     "output_type": "stream",
     "text": [
      "raw: LUNG-NSCLC2-0579-FIXT-01-IMC1-01_#_IMMUcan_panel_1_1.10_#_raw_counts_#_be23da49cf81124afe5f3945e9f6bcc0.csv \n",
      "        Corresponding sample: LUNG-NSCLC2-0579-FIXT-01-IMC1-01_#_IMMUcan_panel_1_1.10\n",
      " Corresponding metadata file: LUNG-NSCLC2-0579-FIXT-01-IMC1-01_#_IMMUcan_panel_1_1.10_#_cell_metadata_#_c015b1f40f711796f4d709849bdb8ca1.csv\n"
     ]
    },
    {
     "name": "stderr",
     "output_type": "stream",
     "text": [
      "/home/francesco.massaini/.local/lib/python3.10/site-packages/pandas/core/indexes/base.py:7834: RuntimeWarning: invalid value encountered in cast\n",
      "  values = values.astype(str)\n"
     ]
    },
    {
     "name": "stdout",
     "output_type": "stream",
     "text": [
      "raw: LUNG-NSCLC2-0603-FIXT-01-IMC1-01_#_IMMUcan_panel_1_1.10_#_raw_counts_#_c3d613b3996d3cbf23fbd249d586a354.csv \n",
      "        Corresponding sample: LUNG-NSCLC2-0603-FIXT-01-IMC1-01_#_IMMUcan_panel_1_1.10\n",
      " Corresponding metadata file: LUNG-NSCLC2-0603-FIXT-01-IMC1-01_#_IMMUcan_panel_1_1.10_#_cell_metadata_#_15ad897d84158297f8bc6751f799ab71.csv\n"
     ]
    },
    {
     "name": "stderr",
     "output_type": "stream",
     "text": [
      "/home/francesco.massaini/.local/lib/python3.10/site-packages/pandas/core/indexes/base.py:7834: RuntimeWarning: invalid value encountered in cast\n",
      "  values = values.astype(str)\n"
     ]
    },
    {
     "name": "stdout",
     "output_type": "stream",
     "text": [
      "raw: LUNG-NSCLC2-0657-FIXT-01-IMC1-01_#_IMMUcan_panel_1_1.10_#_raw_counts_#_2c30884e3a957add4390cb72e7ed335c.csv \n",
      "        Corresponding sample: LUNG-NSCLC2-0657-FIXT-01-IMC1-01_#_IMMUcan_panel_1_1.10\n",
      " Corresponding metadata file: LUNG-NSCLC2-0657-FIXT-01-IMC1-01_#_IMMUcan_panel_1_1.10_#_cell_metadata_#_bb2d19e4af46b86026d93b4dd23d5345.csv\n"
     ]
    },
    {
     "name": "stderr",
     "output_type": "stream",
     "text": [
      "/home/francesco.massaini/.local/lib/python3.10/site-packages/pandas/core/indexes/base.py:7834: RuntimeWarning: invalid value encountered in cast\n",
      "  values = values.astype(str)\n"
     ]
    },
    {
     "name": "stdout",
     "output_type": "stream",
     "text": [
      "raw: LUNG-NSCLC2-0648-FIXT-01-IMC1-01_#_IMMUcan_panel_1_1.10_#_raw_counts_#_0d35b39b39ec5d2982da266d350ed7e7.csv \n",
      "        Corresponding sample: LUNG-NSCLC2-0648-FIXT-01-IMC1-01_#_IMMUcan_panel_1_1.10\n",
      " Corresponding metadata file: LUNG-NSCLC2-0648-FIXT-01-IMC1-01_#_IMMUcan_panel_1_1.10_#_cell_metadata_#_3cc58f33bf3819b86443fc553094dbd9.csv\n"
     ]
    },
    {
     "name": "stderr",
     "output_type": "stream",
     "text": [
      "/home/francesco.massaini/.local/lib/python3.10/site-packages/pandas/core/indexes/base.py:7834: RuntimeWarning: invalid value encountered in cast\n",
      "  values = values.astype(str)\n"
     ]
    },
    {
     "name": "stdout",
     "output_type": "stream",
     "text": [
      "raw: LUNG-NSCLC2-0594-FIXT-01-IMC1-01_#_IMMUcan_panel_1_1.10_#_raw_counts_#_e11de7152fae3502b20fb1da17a72e4b.csv \n",
      "        Corresponding sample: LUNG-NSCLC2-0594-FIXT-01-IMC1-01_#_IMMUcan_panel_1_1.10\n",
      " Corresponding metadata file: LUNG-NSCLC2-0594-FIXT-01-IMC1-01_#_IMMUcan_panel_1_1.10_#_cell_metadata_#_e78a6dd3bceecf2b710109555385745a.csv\n"
     ]
    },
    {
     "name": "stderr",
     "output_type": "stream",
     "text": [
      "/home/francesco.massaini/.local/lib/python3.10/site-packages/pandas/core/indexes/base.py:7834: RuntimeWarning: invalid value encountered in cast\n",
      "  values = values.astype(str)\n"
     ]
    },
    {
     "name": "stdout",
     "output_type": "stream",
     "text": [
      "raw: LUNG-NSCLC2-0623-FIXT-01-IMC1-01_#_IMMUcan_panel_1_1.10_#_raw_counts_#_d0e9f0413d5c3cee4ba4bdcd488bc2a4.csv \n",
      "        Corresponding sample: LUNG-NSCLC2-0623-FIXT-01-IMC1-01_#_IMMUcan_panel_1_1.10\n",
      " Corresponding metadata file: LUNG-NSCLC2-0623-FIXT-01-IMC1-01_#_IMMUcan_panel_1_1.10_#_cell_metadata_#_ba219f077df38f89c2d18c65788d8bc6.csv\n"
     ]
    },
    {
     "name": "stderr",
     "output_type": "stream",
     "text": [
      "/home/francesco.massaini/.local/lib/python3.10/site-packages/pandas/core/indexes/base.py:7834: RuntimeWarning: invalid value encountered in cast\n",
      "  values = values.astype(str)\n"
     ]
    },
    {
     "name": "stdout",
     "output_type": "stream",
     "text": [
      "raw: LUNG-NSCLC2-0743-FIXT-01-IMC1-01_#_IMMUcan_panel_1_1.10_#_raw_counts_#_e1fb93fd9f172f6d39a94e3e73ff1b40.csv \n",
      "        Corresponding sample: LUNG-NSCLC2-0743-FIXT-01-IMC1-01_#_IMMUcan_panel_1_1.10\n",
      " Corresponding metadata file: LUNG-NSCLC2-0743-FIXT-01-IMC1-01_#_IMMUcan_panel_1_1.10_#_cell_metadata_#_475c7e8fa35530b658f80c60d7038bcf.csv\n"
     ]
    },
    {
     "name": "stderr",
     "output_type": "stream",
     "text": [
      "/home/francesco.massaini/.local/lib/python3.10/site-packages/pandas/core/indexes/base.py:7834: RuntimeWarning: invalid value encountered in cast\n",
      "  values = values.astype(str)\n"
     ]
    },
    {
     "name": "stdout",
     "output_type": "stream",
     "text": [
      "raw: LUNG-NSCLC2-0725-FIXT-01-IMC1-01_#_IMMUcan_panel_1_1.10_#_raw_counts_#_4acf37aac46c3060e9dc0ab74108d54f.csv \n",
      "        Corresponding sample: LUNG-NSCLC2-0725-FIXT-01-IMC1-01_#_IMMUcan_panel_1_1.10\n",
      " Corresponding metadata file: LUNG-NSCLC2-0725-FIXT-01-IMC1-01_#_IMMUcan_panel_1_1.10_#_cell_metadata_#_150137568945f35147c4746056e96a8e.csv\n"
     ]
    },
    {
     "name": "stderr",
     "output_type": "stream",
     "text": [
      "/home/francesco.massaini/.local/lib/python3.10/site-packages/pandas/core/indexes/base.py:7834: RuntimeWarning: invalid value encountered in cast\n",
      "  values = values.astype(str)\n"
     ]
    },
    {
     "name": "stdout",
     "output_type": "stream",
     "text": [
      "raw: LUNG-NSCLC2-0553-FIXT-01-IMC1-01_#_IMMUcan_panel_1_1.10_#_raw_counts_#_242cb3c2fd0ebcb4f53643d24f630547.csv \n",
      "        Corresponding sample: LUNG-NSCLC2-0553-FIXT-01-IMC1-01_#_IMMUcan_panel_1_1.10\n",
      " Corresponding metadata file: LUNG-NSCLC2-0553-FIXT-01-IMC1-01_#_IMMUcan_panel_1_1.10_#_cell_metadata_#_9c00405ddafaed708b78507c82a240b2.csv\n"
     ]
    },
    {
     "name": "stderr",
     "output_type": "stream",
     "text": [
      "/home/francesco.massaini/.local/lib/python3.10/site-packages/pandas/core/indexes/base.py:7834: RuntimeWarning: invalid value encountered in cast\n",
      "  values = values.astype(str)\n"
     ]
    },
    {
     "name": "stdout",
     "output_type": "stream",
     "text": [
      "raw: LUNG-NSCLC2-0568-FIXT-01-IMC1-01_#_IMMUcan_panel_1_1.10_#_raw_counts_#_4663ec90ada06cf6bfcc020c26d1fcd5.csv \n",
      "        Corresponding sample: LUNG-NSCLC2-0568-FIXT-01-IMC1-01_#_IMMUcan_panel_1_1.10\n",
      " Corresponding metadata file: LUNG-NSCLC2-0568-FIXT-01-IMC1-01_#_IMMUcan_panel_1_1.10_#_cell_metadata_#_b0160a087f42b7aa8afdccde944cf729.csv\n"
     ]
    },
    {
     "name": "stderr",
     "output_type": "stream",
     "text": [
      "/home/francesco.massaini/.local/lib/python3.10/site-packages/pandas/core/indexes/base.py:7834: RuntimeWarning: invalid value encountered in cast\n",
      "  values = values.astype(str)\n"
     ]
    },
    {
     "name": "stdout",
     "output_type": "stream",
     "text": [
      "raw: LUNG-NSCLC2-0731-FIXT-01-IMC1-01_#_IMMUcan_panel_1_1.10_#_raw_counts_#_d20b6223fa5a1517e99ae3af90ad1126.csv \n",
      "        Corresponding sample: LUNG-NSCLC2-0731-FIXT-01-IMC1-01_#_IMMUcan_panel_1_1.10\n",
      " Corresponding metadata file: LUNG-NSCLC2-0731-FIXT-01-IMC1-01_#_IMMUcan_panel_1_1.10_#_cell_metadata_#_6df5c7809c08ebfcb2c3a532babb5189.csv\n"
     ]
    },
    {
     "name": "stderr",
     "output_type": "stream",
     "text": [
      "/home/francesco.massaini/.local/lib/python3.10/site-packages/pandas/core/indexes/base.py:7834: RuntimeWarning: invalid value encountered in cast\n",
      "  values = values.astype(str)\n"
     ]
    },
    {
     "name": "stdout",
     "output_type": "stream",
     "text": [
      "raw: LUNG-NSCLC2-0572-FIXT-01-IMC1-01_#_IMMUcan_panel_1_1.10_#_raw_counts_#_632cb8b525c085f53a1db3d27b59c428.csv \n",
      "        Corresponding sample: LUNG-NSCLC2-0572-FIXT-01-IMC1-01_#_IMMUcan_panel_1_1.10\n",
      " Corresponding metadata file: LUNG-NSCLC2-0572-FIXT-01-IMC1-01_#_IMMUcan_panel_1_1.10_#_cell_metadata_#_f3b9d2f7fac45eebd6e720ae0971d191.csv\n"
     ]
    },
    {
     "name": "stderr",
     "output_type": "stream",
     "text": [
      "/home/francesco.massaini/.local/lib/python3.10/site-packages/pandas/core/indexes/base.py:7834: RuntimeWarning: invalid value encountered in cast\n",
      "  values = values.astype(str)\n"
     ]
    },
    {
     "name": "stdout",
     "output_type": "stream",
     "text": [
      "raw: LUNG-NSCLC2-0686-FIXT-01-IMC1-01_#_IMMUcan_panel_1_1.10_#_raw_counts_#_a7d7370d56b6d9ecc4cb20faad1c1cf9.csv \n",
      "        Corresponding sample: LUNG-NSCLC2-0686-FIXT-01-IMC1-01_#_IMMUcan_panel_1_1.10\n",
      " Corresponding metadata file: LUNG-NSCLC2-0686-FIXT-01-IMC1-01_#_IMMUcan_panel_1_1.10_#_cell_metadata_#_25ac13cb105a06446c52542d09c70b85.csv\n"
     ]
    },
    {
     "name": "stderr",
     "output_type": "stream",
     "text": [
      "/home/francesco.massaini/.local/lib/python3.10/site-packages/pandas/core/indexes/base.py:7834: RuntimeWarning: invalid value encountered in cast\n",
      "  values = values.astype(str)\n"
     ]
    },
    {
     "name": "stdout",
     "output_type": "stream",
     "text": [
      "raw: LUNG-NSCLC2-0705-FIXT-01-IMC1-01_#_IMMUcan_panel_1_1.10_#_raw_counts_#_444914130036efaa76ec2eee4e775038.csv \n",
      "        Corresponding sample: LUNG-NSCLC2-0705-FIXT-01-IMC1-01_#_IMMUcan_panel_1_1.10\n",
      " Corresponding metadata file: LUNG-NSCLC2-0705-FIXT-01-IMC1-01_#_IMMUcan_panel_1_1.10_#_cell_metadata_#_0d52224cd13a860d58f5374841d44c48.csv\n"
     ]
    },
    {
     "name": "stderr",
     "output_type": "stream",
     "text": [
      "/home/francesco.massaini/.local/lib/python3.10/site-packages/pandas/core/indexes/base.py:7834: RuntimeWarning: invalid value encountered in cast\n",
      "  values = values.astype(str)\n"
     ]
    },
    {
     "name": "stdout",
     "output_type": "stream",
     "text": [
      "raw: LUNG-NSCLC2-0598-FIXT-01-IMC1-01_#_IMMUcan_panel_1_1.10_#_raw_counts_#_3db74a632b584fa9917d5c24e9c6f07e.csv \n",
      "        Corresponding sample: LUNG-NSCLC2-0598-FIXT-01-IMC1-01_#_IMMUcan_panel_1_1.10\n",
      " Corresponding metadata file: LUNG-NSCLC2-0598-FIXT-01-IMC1-01_#_IMMUcan_panel_1_1.10_#_cell_metadata_#_0786080cbb5608b44585690476341a49.csv\n"
     ]
    },
    {
     "name": "stderr",
     "output_type": "stream",
     "text": [
      "/home/francesco.massaini/.local/lib/python3.10/site-packages/pandas/core/indexes/base.py:7834: RuntimeWarning: invalid value encountered in cast\n",
      "  values = values.astype(str)\n"
     ]
    },
    {
     "name": "stdout",
     "output_type": "stream",
     "text": [
      "raw: LUNG-NSCLC2-0668-FIXT-01-IMC1-01_#_IMMUcan_panel_1_1.10_#_raw_counts_#_0b54d2a5847b1878694213ebc44f8aca.csv \n",
      "        Corresponding sample: LUNG-NSCLC2-0668-FIXT-01-IMC1-01_#_IMMUcan_panel_1_1.10\n",
      " Corresponding metadata file: LUNG-NSCLC2-0668-FIXT-01-IMC1-01_#_IMMUcan_panel_1_1.10_#_cell_metadata_#_ea20ae77a922d9500ca6aae3196c3a66.csv\n"
     ]
    },
    {
     "name": "stderr",
     "output_type": "stream",
     "text": [
      "/home/francesco.massaini/.local/lib/python3.10/site-packages/pandas/core/indexes/base.py:7834: RuntimeWarning: invalid value encountered in cast\n",
      "  values = values.astype(str)\n"
     ]
    },
    {
     "name": "stdout",
     "output_type": "stream",
     "text": [
      "raw: LUNG-NSCLC2-0631-FIXT-01-IMC1-01_#_IMMUcan_panel_1_1.10_#_raw_counts_#_6d007ed5188fb090aa1ca3effe7cd776.csv \n",
      "        Corresponding sample: LUNG-NSCLC2-0631-FIXT-01-IMC1-01_#_IMMUcan_panel_1_1.10\n",
      " Corresponding metadata file: LUNG-NSCLC2-0631-FIXT-01-IMC1-01_#_IMMUcan_panel_1_1.10_#_cell_metadata_#_96f75827e2b97c3c94de368197763a4d.csv\n"
     ]
    },
    {
     "name": "stderr",
     "output_type": "stream",
     "text": [
      "/home/francesco.massaini/.local/lib/python3.10/site-packages/pandas/core/indexes/base.py:7834: RuntimeWarning: invalid value encountered in cast\n",
      "  values = values.astype(str)\n"
     ]
    },
    {
     "name": "stdout",
     "output_type": "stream",
     "text": [
      "raw: LUNG-NSCLC2-0583-FIXT-01-IMC1-01_#_IMMUcan_panel_1_1.10_#_raw_counts_#_019494df2076d20ba89f0c3b72bfdbbe.csv \n",
      "        Corresponding sample: LUNG-NSCLC2-0583-FIXT-01-IMC1-01_#_IMMUcan_panel_1_1.10\n",
      " Corresponding metadata file: LUNG-NSCLC2-0583-FIXT-01-IMC1-01_#_IMMUcan_panel_1_1.10_#_cell_metadata_#_edaa7c7f58768ab3293d2cd1db108346.csv\n"
     ]
    },
    {
     "name": "stderr",
     "output_type": "stream",
     "text": [
      "/home/francesco.massaini/.local/lib/python3.10/site-packages/pandas/core/indexes/base.py:7834: RuntimeWarning: invalid value encountered in cast\n",
      "  values = values.astype(str)\n"
     ]
    },
    {
     "name": "stdout",
     "output_type": "stream",
     "text": [
      "raw: LUNG-NSCLC2-0716-FIXT-01-IMC1-01_#_IMMUcan_panel_1_1.10_#_raw_counts_#_66f476f3e56a3c637daf3587470bc849.csv \n",
      "        Corresponding sample: LUNG-NSCLC2-0716-FIXT-01-IMC1-01_#_IMMUcan_panel_1_1.10\n",
      " Corresponding metadata file: LUNG-NSCLC2-0716-FIXT-01-IMC1-01_#_IMMUcan_panel_1_1.10_#_cell_metadata_#_6dd97c0c474a9fed97f80572b84bbb9b.csv\n"
     ]
    },
    {
     "name": "stderr",
     "output_type": "stream",
     "text": [
      "/home/francesco.massaini/.local/lib/python3.10/site-packages/pandas/core/indexes/base.py:7834: RuntimeWarning: invalid value encountered in cast\n",
      "  values = values.astype(str)\n"
     ]
    },
    {
     "name": "stdout",
     "output_type": "stream",
     "text": [
      "raw: LUNG-NSCLC2-0677-FIXT-01-IMC1-01_#_IMMUcan_panel_1_1.10_#_raw_counts_#_199e12dc5dc45d3196de030042810e0a.csv \n",
      "        Corresponding sample: LUNG-NSCLC2-0677-FIXT-01-IMC1-01_#_IMMUcan_panel_1_1.10\n",
      " Corresponding metadata file: LUNG-NSCLC2-0677-FIXT-01-IMC1-01_#_IMMUcan_panel_1_1.10_#_cell_metadata_#_1d9fa7652f3f812ea3f6a733f026d018.csv\n"
     ]
    },
    {
     "name": "stderr",
     "output_type": "stream",
     "text": [
      "/home/francesco.massaini/.local/lib/python3.10/site-packages/pandas/core/indexes/base.py:7834: RuntimeWarning: invalid value encountered in cast\n",
      "  values = values.astype(str)\n"
     ]
    },
    {
     "name": "stdout",
     "output_type": "stream",
     "text": [
      "raw: LUNG-NSCLC2-0653-FIXT-01-IMC1-01_#_IMMUcan_panel_1_1.10_#_raw_counts_#_4e5eeb950edd084a2c05393d2f02727a.csv \n",
      "        Corresponding sample: LUNG-NSCLC2-0653-FIXT-01-IMC1-01_#_IMMUcan_panel_1_1.10\n",
      " Corresponding metadata file: LUNG-NSCLC2-0653-FIXT-01-IMC1-01_#_IMMUcan_panel_1_1.10_#_cell_metadata_#_9bf757c75ef4f40b62f8d24e362504c3.csv\n"
     ]
    },
    {
     "name": "stderr",
     "output_type": "stream",
     "text": [
      "/home/francesco.massaini/.local/lib/python3.10/site-packages/pandas/core/indexes/base.py:7834: RuntimeWarning: invalid value encountered in cast\n",
      "  values = values.astype(str)\n"
     ]
    },
    {
     "name": "stdout",
     "output_type": "stream",
     "text": [
      "raw: LUNG-NSCLC2-0578-FIXT-01-IMC1-01_#_IMMUcan_panel_1_1.10_#_raw_counts_#_aee9b67ec88c802544b7bc8235840147.csv \n",
      "        Corresponding sample: LUNG-NSCLC2-0578-FIXT-01-IMC1-01_#_IMMUcan_panel_1_1.10\n",
      " Corresponding metadata file: LUNG-NSCLC2-0578-FIXT-01-IMC1-01_#_IMMUcan_panel_1_1.10_#_cell_metadata_#_b4fe10cf319fd7860796c78cac7d0526.csv\n"
     ]
    },
    {
     "name": "stderr",
     "output_type": "stream",
     "text": [
      "/home/francesco.massaini/.local/lib/python3.10/site-packages/pandas/core/indexes/base.py:7834: RuntimeWarning: invalid value encountered in cast\n",
      "  values = values.astype(str)\n"
     ]
    },
    {
     "name": "stdout",
     "output_type": "stream",
     "text": [
      "raw: LUNG-NSCLC2-0678-FIXT-01-IMC1-01_#_IMMUcan_panel_1_1.10_#_raw_counts_#_ce0b9cec025ece7c59b4eb204426a2c4.csv \n",
      "        Corresponding sample: LUNG-NSCLC2-0678-FIXT-01-IMC1-01_#_IMMUcan_panel_1_1.10\n",
      " Corresponding metadata file: LUNG-NSCLC2-0678-FIXT-01-IMC1-01_#_IMMUcan_panel_1_1.10_#_cell_metadata_#_cc7ea446d4bf8ccdbf1a194554b0547d.csv\n"
     ]
    },
    {
     "name": "stderr",
     "output_type": "stream",
     "text": [
      "/home/francesco.massaini/.local/lib/python3.10/site-packages/pandas/core/indexes/base.py:7834: RuntimeWarning: invalid value encountered in cast\n",
      "  values = values.astype(str)\n"
     ]
    },
    {
     "name": "stdout",
     "output_type": "stream",
     "text": [
      "raw: LUNG-NSCLC2-0619-FIXT-01-IMC1-01_#_IMMUcan_panel_1_1.10_#_raw_counts_#_fecdf01e7df64825f12419ad9cec774b.csv \n",
      "        Corresponding sample: LUNG-NSCLC2-0619-FIXT-01-IMC1-01_#_IMMUcan_panel_1_1.10\n",
      " Corresponding metadata file: LUNG-NSCLC2-0619-FIXT-01-IMC1-01_#_IMMUcan_panel_1_1.10_#_cell_metadata_#_0217c73b6641c07956c992ac87d04346.csv\n"
     ]
    },
    {
     "name": "stderr",
     "output_type": "stream",
     "text": [
      "/home/francesco.massaini/.local/lib/python3.10/site-packages/pandas/core/indexes/base.py:7834: RuntimeWarning: invalid value encountered in cast\n",
      "  values = values.astype(str)\n"
     ]
    },
    {
     "name": "stdout",
     "output_type": "stream",
     "text": [
      "raw: LUNG-NSCLC2-0691-FIXT-01-IMC1-01_#_IMMUcan_panel_1_1.10_#_raw_counts_#_cd92041510633e24697f311d2eac659f.csv \n",
      "        Corresponding sample: LUNG-NSCLC2-0691-FIXT-01-IMC1-01_#_IMMUcan_panel_1_1.10\n",
      " Corresponding metadata file: LUNG-NSCLC2-0691-FIXT-01-IMC1-01_#_IMMUcan_panel_1_1.10_#_cell_metadata_#_f737bf63d9bacc57dafcab896dcc5488.csv\n"
     ]
    },
    {
     "name": "stderr",
     "output_type": "stream",
     "text": [
      "/home/francesco.massaini/.local/lib/python3.10/site-packages/pandas/core/indexes/base.py:7834: RuntimeWarning: invalid value encountered in cast\n",
      "  values = values.astype(str)\n"
     ]
    },
    {
     "name": "stdout",
     "output_type": "stream",
     "text": [
      "raw: LUNG-NSCLC2-0599-FIXT-01-IMC1-01_#_IMMUcan_panel_1_1.10_#_raw_counts_#_b07dad1dffb334442fbb6bb8e3310ba5.csv \n",
      "        Corresponding sample: LUNG-NSCLC2-0599-FIXT-01-IMC1-01_#_IMMUcan_panel_1_1.10\n",
      " Corresponding metadata file: LUNG-NSCLC2-0599-FIXT-01-IMC1-01_#_IMMUcan_panel_1_1.10_#_cell_metadata_#_1be8b0ca3993e3839f410c5845f1818e.csv\n"
     ]
    },
    {
     "name": "stderr",
     "output_type": "stream",
     "text": [
      "/home/francesco.massaini/.local/lib/python3.10/site-packages/pandas/core/indexes/base.py:7834: RuntimeWarning: invalid value encountered in cast\n",
      "  values = values.astype(str)\n"
     ]
    },
    {
     "name": "stdout",
     "output_type": "stream",
     "text": [
      "raw: LUNG-NSCLC2-0554-FIXT-01-IMC1-01_#_IMMUcan_panel_1_1.10_#_raw_counts_#_92b2155a724df359b8b255e36e1bcada.csv \n",
      "        Corresponding sample: LUNG-NSCLC2-0554-FIXT-01-IMC1-01_#_IMMUcan_panel_1_1.10\n",
      " Corresponding metadata file: LUNG-NSCLC2-0554-FIXT-01-IMC1-01_#_IMMUcan_panel_1_1.10_#_cell_metadata_#_8ecb8381727f3b64533763c1009196e3.csv\n"
     ]
    },
    {
     "name": "stderr",
     "output_type": "stream",
     "text": [
      "/home/francesco.massaini/.local/lib/python3.10/site-packages/pandas/core/indexes/base.py:7834: RuntimeWarning: invalid value encountered in cast\n",
      "  values = values.astype(str)\n"
     ]
    },
    {
     "name": "stdout",
     "output_type": "stream",
     "text": [
      "raw: LUNG-NSCLC2-0617-FIXT-01-IMC1-01_#_IMMUcan_panel_1_1.10_#_raw_counts_#_8ba004af3097b15018742615ffe90158.csv \n",
      "        Corresponding sample: LUNG-NSCLC2-0617-FIXT-01-IMC1-01_#_IMMUcan_panel_1_1.10\n",
      " Corresponding metadata file: LUNG-NSCLC2-0617-FIXT-01-IMC1-01_#_IMMUcan_panel_1_1.10_#_cell_metadata_#_ddcd30c97de05276905ab39b98fbf2c8.csv\n"
     ]
    },
    {
     "name": "stderr",
     "output_type": "stream",
     "text": [
      "/home/francesco.massaini/.local/lib/python3.10/site-packages/pandas/core/indexes/base.py:7834: RuntimeWarning: invalid value encountered in cast\n",
      "  values = values.astype(str)\n"
     ]
    },
    {
     "name": "stdout",
     "output_type": "stream",
     "text": [
      "raw: LUNG-NSCLC2-0740-FIXT-01-IMC1-01_#_IMMUcan_panel_1_1.10_#_raw_counts_#_8e7a5e3fad1ad22a3ab400bff108b187.csv \n",
      "        Corresponding sample: LUNG-NSCLC2-0740-FIXT-01-IMC1-01_#_IMMUcan_panel_1_1.10\n",
      " Corresponding metadata file: LUNG-NSCLC2-0740-FIXT-01-IMC1-01_#_IMMUcan_panel_1_1.10_#_cell_metadata_#_c083013f83bdde2b3a4294d7a86161fc.csv\n"
     ]
    },
    {
     "name": "stderr",
     "output_type": "stream",
     "text": [
      "/home/francesco.massaini/.local/lib/python3.10/site-packages/pandas/core/indexes/base.py:7834: RuntimeWarning: invalid value encountered in cast\n",
      "  values = values.astype(str)\n"
     ]
    },
    {
     "name": "stdout",
     "output_type": "stream",
     "text": [
      "raw: LUNG-NSCLC2-0557-FIXT-01-IMC1-01_#_IMMUcan_panel_1_1.10_#_raw_counts_#_d9c3ec780df7220b77abacd88c6c0534.csv \n",
      "        Corresponding sample: LUNG-NSCLC2-0557-FIXT-01-IMC1-01_#_IMMUcan_panel_1_1.10\n",
      " Corresponding metadata file: LUNG-NSCLC2-0557-FIXT-01-IMC1-01_#_IMMUcan_panel_1_1.10_#_cell_metadata_#_74cf11ac8be834d80ce801d89b220ba8.csv\n",
      "raw: LUNG-NSCLC2-0626-FIXT-01-IMC1-01_#_IMMUcan_panel_1_1.10_#_raw_counts_#_0e09ee5e9c07245dc2b57942595a6145.csv \n",
      "        Corresponding sample: LUNG-NSCLC2-0626-FIXT-01-IMC1-01_#_IMMUcan_panel_1_1.10\n"
     ]
    },
    {
     "name": "stderr",
     "output_type": "stream",
     "text": [
      "/home/francesco.massaini/.local/lib/python3.10/site-packages/pandas/core/indexes/base.py:7834: RuntimeWarning: invalid value encountered in cast\n",
      "  values = values.astype(str)\n"
     ]
    },
    {
     "name": "stdout",
     "output_type": "stream",
     "text": [
      " Corresponding metadata file: LUNG-NSCLC2-0626-FIXT-01-IMC1-01_#_IMMUcan_panel_1_1.10_#_cell_metadata_#_2b9d9816aac35d6c7e3a939fd8ccdcba.csv\n"
     ]
    },
    {
     "name": "stderr",
     "output_type": "stream",
     "text": [
      "/home/francesco.massaini/.local/lib/python3.10/site-packages/pandas/core/indexes/base.py:7834: RuntimeWarning: invalid value encountered in cast\n",
      "  values = values.astype(str)\n"
     ]
    },
    {
     "name": "stdout",
     "output_type": "stream",
     "text": [
      "raw: LUNG-NSCLC2-0735-FIXT-01-IMC1-01_#_IMMUcan_panel_1_1.10_#_raw_counts_#_fd676948ffdaa41c5bc6e5420a4d060a.csv \n",
      "        Corresponding sample: LUNG-NSCLC2-0735-FIXT-01-IMC1-01_#_IMMUcan_panel_1_1.10\n",
      " Corresponding metadata file: LUNG-NSCLC2-0735-FIXT-01-IMC1-01_#_IMMUcan_panel_1_1.10_#_cell_metadata_#_61405b223d4c882be747844be5825314.csv\n"
     ]
    },
    {
     "name": "stderr",
     "output_type": "stream",
     "text": [
      "/home/francesco.massaini/.local/lib/python3.10/site-packages/pandas/core/indexes/base.py:7834: RuntimeWarning: invalid value encountered in cast\n",
      "  values = values.astype(str)\n"
     ]
    },
    {
     "name": "stdout",
     "output_type": "stream",
     "text": [
      "raw: LUNG-NSCLC2-0688-FIXT-01-IMC1-01_#_IMMUcan_panel_1_1.10_#_raw_counts_#_e1f44a62b395bafdc06fe4a86f4a7b1b.csv \n",
      "        Corresponding sample: LUNG-NSCLC2-0688-FIXT-01-IMC1-01_#_IMMUcan_panel_1_1.10\n",
      " Corresponding metadata file: LUNG-NSCLC2-0688-FIXT-01-IMC1-01_#_IMMUcan_panel_1_1.10_#_cell_metadata_#_f817e42d1561d17986daed118da63342.csv\n"
     ]
    },
    {
     "name": "stderr",
     "output_type": "stream",
     "text": [
      "/home/francesco.massaini/.local/lib/python3.10/site-packages/pandas/core/indexes/base.py:7834: RuntimeWarning: invalid value encountered in cast\n",
      "  values = values.astype(str)\n"
     ]
    },
    {
     "name": "stdout",
     "output_type": "stream",
     "text": [
      "raw: LUNG-NSCLC2-0671-FIXT-01-IMC1-01_#_IMMUcan_panel_1_1.10_#_raw_counts_#_30b84f213d8a7b6280f5e1494c35f839.csv \n",
      "        Corresponding sample: LUNG-NSCLC2-0671-FIXT-01-IMC1-01_#_IMMUcan_panel_1_1.10\n",
      " Corresponding metadata file: LUNG-NSCLC2-0671-FIXT-01-IMC1-01_#_IMMUcan_panel_1_1.10_#_cell_metadata_#_8329d20a9d31a65b65b7e04f61785386.csv\n"
     ]
    },
    {
     "name": "stderr",
     "output_type": "stream",
     "text": [
      "/home/francesco.massaini/.local/lib/python3.10/site-packages/pandas/core/indexes/base.py:7834: RuntimeWarning: invalid value encountered in cast\n",
      "  values = values.astype(str)\n"
     ]
    },
    {
     "name": "stdout",
     "output_type": "stream",
     "text": [
      "raw: LUNG-NSCLC2-0670-FIXT-01-IMC1-01_#_IMMUcan_panel_1_1.10_#_raw_counts_#_0cfb4eb69b879c53eea78d4d63c62123.csv \n",
      "        Corresponding sample: LUNG-NSCLC2-0670-FIXT-01-IMC1-01_#_IMMUcan_panel_1_1.10\n",
      " Corresponding metadata file: LUNG-NSCLC2-0670-FIXT-01-IMC1-01_#_IMMUcan_panel_1_1.10_#_cell_metadata_#_9216e3744ab8f3b7c5ad9226c9ca9e69.csv\n"
     ]
    },
    {
     "name": "stderr",
     "output_type": "stream",
     "text": [
      "/home/francesco.massaini/.local/lib/python3.10/site-packages/pandas/core/indexes/base.py:7834: RuntimeWarning: invalid value encountered in cast\n",
      "  values = values.astype(str)\n"
     ]
    },
    {
     "name": "stdout",
     "output_type": "stream",
     "text": [
      "raw: LUNG-NSCLC2-0642-FIXT-01-IMC1-01_#_IMMUcan_panel_1_1.10_#_raw_counts_#_995188593a7f4e6b5bab7daadc77cdb0.csv \n",
      "        Corresponding sample: LUNG-NSCLC2-0642-FIXT-01-IMC1-01_#_IMMUcan_panel_1_1.10\n",
      " Corresponding metadata file: LUNG-NSCLC2-0642-FIXT-01-IMC1-01_#_IMMUcan_panel_1_1.10_#_cell_metadata_#_37b879fd9214c649a971a5ef31d01a4e.csv\n"
     ]
    },
    {
     "name": "stderr",
     "output_type": "stream",
     "text": [
      "/home/francesco.massaini/.local/lib/python3.10/site-packages/pandas/core/indexes/base.py:7834: RuntimeWarning: invalid value encountered in cast\n",
      "  values = values.astype(str)\n"
     ]
    },
    {
     "name": "stdout",
     "output_type": "stream",
     "text": [
      "raw: LUNG-NSCLC2-0667-FIXT-01-IMC1-01_#_IMMUcan_panel_1_1.10_#_raw_counts_#_91337b1fe032a2294777ee8e01a46b60.csv \n",
      "        Corresponding sample: LUNG-NSCLC2-0667-FIXT-01-IMC1-01_#_IMMUcan_panel_1_1.10\n",
      " Corresponding metadata file: LUNG-NSCLC2-0667-FIXT-01-IMC1-01_#_IMMUcan_panel_1_1.10_#_cell_metadata_#_db8d0f8b11f6567b66b62075a97131ce.csv\n"
     ]
    },
    {
     "name": "stderr",
     "output_type": "stream",
     "text": [
      "/home/francesco.massaini/.local/lib/python3.10/site-packages/pandas/core/indexes/base.py:7834: RuntimeWarning: invalid value encountered in cast\n",
      "  values = values.astype(str)\n"
     ]
    },
    {
     "name": "stdout",
     "output_type": "stream",
     "text": [
      "raw: LUNG-NSCLC2-0562-FIXT-01-IMC1-01_#_IMMUcan_panel_1_1.10_#_raw_counts_#_aa6c278dc4022d89a6a8ee01f91aa641.csv \n",
      "        Corresponding sample: LUNG-NSCLC2-0562-FIXT-01-IMC1-01_#_IMMUcan_panel_1_1.10\n",
      " Corresponding metadata file: LUNG-NSCLC2-0562-FIXT-01-IMC1-01_#_IMMUcan_panel_1_1.10_#_cell_metadata_#_39eb91c05e2bd9d1dc14f2aba8add0a6.csv\n"
     ]
    },
    {
     "name": "stderr",
     "output_type": "stream",
     "text": [
      "/home/francesco.massaini/.local/lib/python3.10/site-packages/pandas/core/indexes/base.py:7834: RuntimeWarning: invalid value encountered in cast\n",
      "  values = values.astype(str)\n"
     ]
    },
    {
     "name": "stdout",
     "output_type": "stream",
     "text": [
      "raw: LUNG-NSCLC2-0741-FIXT-01-IMC1-01_#_IMMUcan_panel_1_1.10_#_raw_counts_#_d9d8579467ab83babfe0e62a2f4864f6.csv \n",
      "        Corresponding sample: LUNG-NSCLC2-0741-FIXT-01-IMC1-01_#_IMMUcan_panel_1_1.10\n",
      " Corresponding metadata file: LUNG-NSCLC2-0741-FIXT-01-IMC1-01_#_IMMUcan_panel_1_1.10_#_cell_metadata_#_3d650c847f9682e7ce7edfe3b4280ad1.csv\n"
     ]
    },
    {
     "name": "stderr",
     "output_type": "stream",
     "text": [
      "/home/francesco.massaini/.local/lib/python3.10/site-packages/pandas/core/indexes/base.py:7834: RuntimeWarning: invalid value encountered in cast\n",
      "  values = values.astype(str)\n"
     ]
    },
    {
     "name": "stdout",
     "output_type": "stream",
     "text": [
      "raw: LUNG-NSCLC2-0685-FIXT-01-IMC1-01_#_IMMUcan_panel_1_1.10_#_raw_counts_#_b319984eb843ccbbd6b2bbc5f6f47cc0.csv \n",
      "        Corresponding sample: LUNG-NSCLC2-0685-FIXT-01-IMC1-01_#_IMMUcan_panel_1_1.10\n",
      " Corresponding metadata file: LUNG-NSCLC2-0685-FIXT-01-IMC1-01_#_IMMUcan_panel_1_1.10_#_cell_metadata_#_6c9a8274e9a0c7885ef83e3aa1d50c6b.csv\n"
     ]
    },
    {
     "name": "stderr",
     "output_type": "stream",
     "text": [
      "/home/francesco.massaini/.local/lib/python3.10/site-packages/pandas/core/indexes/base.py:7834: RuntimeWarning: invalid value encountered in cast\n",
      "  values = values.astype(str)\n"
     ]
    },
    {
     "name": "stdout",
     "output_type": "stream",
     "text": [
      "raw: LUNG-NSCLC2-0630-FIXT-01-IMC1-01_#_IMMUcan_panel_1_1.10_#_raw_counts_#_b25e2ff7a8c74d3c0c09cb9a136d380d.csv \n",
      "        Corresponding sample: LUNG-NSCLC2-0630-FIXT-01-IMC1-01_#_IMMUcan_panel_1_1.10\n",
      " Corresponding metadata file: LUNG-NSCLC2-0630-FIXT-01-IMC1-01_#_IMMUcan_panel_1_1.10_#_cell_metadata_#_df1d3291bd76535011358bd6385258be.csv\n"
     ]
    },
    {
     "name": "stderr",
     "output_type": "stream",
     "text": [
      "/home/francesco.massaini/.local/lib/python3.10/site-packages/pandas/core/indexes/base.py:7834: RuntimeWarning: invalid value encountered in cast\n",
      "  values = values.astype(str)\n"
     ]
    },
    {
     "name": "stdout",
     "output_type": "stream",
     "text": [
      "raw: LUNG-NSCLC2-0582-FIXT-01-IMC1-01_#_IMMUcan_panel_1_1.10_#_raw_counts_#_3ac8cd4703373932339aa4504494462d.csv \n",
      "        Corresponding sample: LUNG-NSCLC2-0582-FIXT-01-IMC1-01_#_IMMUcan_panel_1_1.10\n",
      " Corresponding metadata file: LUNG-NSCLC2-0582-FIXT-01-IMC1-01_#_IMMUcan_panel_1_1.10_#_cell_metadata_#_4ae31a13becbd70d115ea21997ccf017.csv\n"
     ]
    },
    {
     "name": "stderr",
     "output_type": "stream",
     "text": [
      "/home/francesco.massaini/.local/lib/python3.10/site-packages/pandas/core/indexes/base.py:7834: RuntimeWarning: invalid value encountered in cast\n",
      "  values = values.astype(str)\n"
     ]
    },
    {
     "name": "stdout",
     "output_type": "stream",
     "text": [
      "raw: LUNG-NSCLC2-0650-FIXT-01-IMC1-01_#_IMMUcan_panel_1_1.10_#_raw_counts_#_384527270c5f811f95bcc8f55b652264.csv \n",
      "        Corresponding sample: LUNG-NSCLC2-0650-FIXT-01-IMC1-01_#_IMMUcan_panel_1_1.10\n",
      " Corresponding metadata file: LUNG-NSCLC2-0650-FIXT-01-IMC1-01_#_IMMUcan_panel_1_1.10_#_cell_metadata_#_09342eccd94d84cc88cf05139e293ae0.csv\n"
     ]
    },
    {
     "name": "stderr",
     "output_type": "stream",
     "text": [
      "/home/francesco.massaini/.local/lib/python3.10/site-packages/pandas/core/indexes/base.py:7834: RuntimeWarning: invalid value encountered in cast\n",
      "  values = values.astype(str)\n"
     ]
    },
    {
     "name": "stdout",
     "output_type": "stream",
     "text": [
      "raw: LUNG-NSCLC2-0661-FIXT-01-IMC1-01_#_IMMUcan_panel_1_1.10_#_raw_counts_#_bf6c6a5ed1ec42dbe3761fd44ff5d72c.csv \n",
      "        Corresponding sample: LUNG-NSCLC2-0661-FIXT-01-IMC1-01_#_IMMUcan_panel_1_1.10\n",
      " Corresponding metadata file: LUNG-NSCLC2-0661-FIXT-01-IMC1-01_#_IMMUcan_panel_1_1.10_#_cell_metadata_#_e92775d87e4b3db7da8a7c6cda3e6280.csv\n"
     ]
    },
    {
     "name": "stderr",
     "output_type": "stream",
     "text": [
      "/home/francesco.massaini/.local/lib/python3.10/site-packages/pandas/core/indexes/base.py:7834: RuntimeWarning: invalid value encountered in cast\n",
      "  values = values.astype(str)\n"
     ]
    },
    {
     "name": "stdout",
     "output_type": "stream",
     "text": [
      "raw: LUNG-NSCLC2-0609-FIXT-01-IMC1-01_#_IMMUcan_panel_1_1.10_#_raw_counts_#_1f0888b193a5bb5427c7538d7f0f2121.csv \n",
      "        Corresponding sample: LUNG-NSCLC2-0609-FIXT-01-IMC1-01_#_IMMUcan_panel_1_1.10\n",
      " Corresponding metadata file: LUNG-NSCLC2-0609-FIXT-01-IMC1-01_#_IMMUcan_panel_1_1.10_#_cell_metadata_#_292be7795eeeb9421c96a643adca91b3.csv\n"
     ]
    },
    {
     "name": "stderr",
     "output_type": "stream",
     "text": [
      "/home/francesco.massaini/.local/lib/python3.10/site-packages/pandas/core/indexes/base.py:7834: RuntimeWarning: invalid value encountered in cast\n",
      "  values = values.astype(str)\n"
     ]
    },
    {
     "name": "stdout",
     "output_type": "stream",
     "text": [
      "raw: LUNG-NSCLC2-0704-FIXT-01-IMC1-01_#_IMMUcan_panel_1_1.10_#_raw_counts_#_5098c04b5f916ad463337321a487000f.csv \n",
      "        Corresponding sample: LUNG-NSCLC2-0704-FIXT-01-IMC1-01_#_IMMUcan_panel_1_1.10\n",
      " Corresponding metadata file: LUNG-NSCLC2-0704-FIXT-01-IMC1-01_#_IMMUcan_panel_1_1.10_#_cell_metadata_#_e5b17b82674be648b77907e2e0303165.csv\n"
     ]
    },
    {
     "name": "stderr",
     "output_type": "stream",
     "text": [
      "/home/francesco.massaini/.local/lib/python3.10/site-packages/pandas/core/indexes/base.py:7834: RuntimeWarning: invalid value encountered in cast\n",
      "  values = values.astype(str)\n"
     ]
    },
    {
     "name": "stdout",
     "output_type": "stream",
     "text": [
      "raw: LUNG-NSCLC2-0700-FIXT-01-IMC1-01_#_IMMUcan_panel_1_1.10_#_raw_counts_#_054995188995d288d9e0defae454b01d.csv \n",
      "        Corresponding sample: LUNG-NSCLC2-0700-FIXT-01-IMC1-01_#_IMMUcan_panel_1_1.10\n",
      " Corresponding metadata file: LUNG-NSCLC2-0700-FIXT-01-IMC1-01_#_IMMUcan_panel_1_1.10_#_cell_metadata_#_654e9be774673f73d84f440f00bbe585.csv\n"
     ]
    },
    {
     "name": "stderr",
     "output_type": "stream",
     "text": [
      "/home/francesco.massaini/.local/lib/python3.10/site-packages/pandas/core/indexes/base.py:7834: RuntimeWarning: invalid value encountered in cast\n",
      "  values = values.astype(str)\n"
     ]
    },
    {
     "name": "stdout",
     "output_type": "stream",
     "text": [
      "raw: LUNG-NSCLC2-0612-FIXT-01-IMC1-01_#_IMMUcan_panel_1_1.10_#_raw_counts_#_4e251777191f8683c00fbec6a38bbb17.csv \n",
      "        Corresponding sample: LUNG-NSCLC2-0612-FIXT-01-IMC1-01_#_IMMUcan_panel_1_1.10\n",
      " Corresponding metadata file: LUNG-NSCLC2-0612-FIXT-01-IMC1-01_#_IMMUcan_panel_1_1.10_#_cell_metadata_#_02130fd698940b4eca721b0b72514470.csv\n"
     ]
    },
    {
     "name": "stderr",
     "output_type": "stream",
     "text": [
      "/home/francesco.massaini/.local/lib/python3.10/site-packages/pandas/core/indexes/base.py:7834: RuntimeWarning: invalid value encountered in cast\n",
      "  values = values.astype(str)\n"
     ]
    },
    {
     "name": "stdout",
     "output_type": "stream",
     "text": [
      "raw: LUNG-NSCLC2-0666-FIXT-01-IMC1-01_#_IMMUcan_panel_1_1.10_#_raw_counts_#_88dc623c51b5e4b9500d89e5b7aef90f.csv \n",
      "        Corresponding sample: LUNG-NSCLC2-0666-FIXT-01-IMC1-01_#_IMMUcan_panel_1_1.10\n",
      " Corresponding metadata file: LUNG-NSCLC2-0666-FIXT-01-IMC1-01_#_IMMUcan_panel_1_1.10_#_cell_metadata_#_f96a1a90ede7e8589067038c4c678d0e.csv\n"
     ]
    },
    {
     "name": "stderr",
     "output_type": "stream",
     "text": [
      "/home/francesco.massaini/.local/lib/python3.10/site-packages/pandas/core/indexes/base.py:7834: RuntimeWarning: invalid value encountered in cast\n",
      "  values = values.astype(str)\n"
     ]
    },
    {
     "name": "stdout",
     "output_type": "stream",
     "text": [
      "raw: LUNG-NSCLC2-0720-FIXT-01-IMC1-01_#_IMMUcan_panel_1_1.10_#_raw_counts_#_f77a7199fa696cbf4aa6b744bd239cdc.csv \n",
      "        Corresponding sample: LUNG-NSCLC2-0720-FIXT-01-IMC1-01_#_IMMUcan_panel_1_1.10\n",
      " Corresponding metadata file: LUNG-NSCLC2-0720-FIXT-01-IMC1-01_#_IMMUcan_panel_1_1.10_#_cell_metadata_#_5106f568e3d9614964a5be92e6db46d6.csv\n"
     ]
    },
    {
     "name": "stderr",
     "output_type": "stream",
     "text": [
      "/home/francesco.massaini/.local/lib/python3.10/site-packages/pandas/core/indexes/base.py:7834: RuntimeWarning: invalid value encountered in cast\n",
      "  values = values.astype(str)\n"
     ]
    },
    {
     "name": "stdout",
     "output_type": "stream",
     "text": [
      "raw: LUNG-NSCLC2-0732-FIXT-01-IMC1-01_#_IMMUcan_panel_1_1.10_#_raw_counts_#_45215f7a6c949bc219e36d7a158b52ae.csv \n",
      "        Corresponding sample: LUNG-NSCLC2-0732-FIXT-01-IMC1-01_#_IMMUcan_panel_1_1.10\n",
      " Corresponding metadata file: LUNG-NSCLC2-0732-FIXT-01-IMC1-01_#_IMMUcan_panel_1_1.10_#_cell_metadata_#_bf6305ba0c0a758f112ab3eb9af6baa5.csv\n"
     ]
    },
    {
     "name": "stderr",
     "output_type": "stream",
     "text": [
      "/home/francesco.massaini/.local/lib/python3.10/site-packages/pandas/core/indexes/base.py:7834: RuntimeWarning: invalid value encountered in cast\n",
      "  values = values.astype(str)\n"
     ]
    },
    {
     "name": "stdout",
     "output_type": "stream",
     "text": [
      "raw: LUNG-NSCLC2-0595-FIXT-01-IMC1-01_#_IMMUcan_panel_1_1.10_#_raw_counts_#_6ba2bbbc0b1ede08ce2eb94bfa68b66d.csv \n",
      "        Corresponding sample: LUNG-NSCLC2-0595-FIXT-01-IMC1-01_#_IMMUcan_panel_1_1.10\n",
      " Corresponding metadata file: LUNG-NSCLC2-0595-FIXT-01-IMC1-01_#_IMMUcan_panel_1_1.10_#_cell_metadata_#_d5239c783dda94e73e6a27709d70dd28.csv\n"
     ]
    },
    {
     "name": "stderr",
     "output_type": "stream",
     "text": [
      "/home/francesco.massaini/.local/lib/python3.10/site-packages/pandas/core/indexes/base.py:7834: RuntimeWarning: invalid value encountered in cast\n",
      "  values = values.astype(str)\n"
     ]
    },
    {
     "name": "stdout",
     "output_type": "stream",
     "text": [
      "raw: LUNG-NSCLC2-0643-FIXT-01-IMC1-01_#_IMMUcan_panel_1_1.10_#_raw_counts_#_15d2720008282b100d6427fe6936c929.csv \n",
      "        Corresponding sample: LUNG-NSCLC2-0643-FIXT-01-IMC1-01_#_IMMUcan_panel_1_1.10\n",
      " Corresponding metadata file: LUNG-NSCLC2-0643-FIXT-01-IMC1-01_#_IMMUcan_panel_1_1.10_#_cell_metadata_#_43b431fb126a2cb17ae366babfba1591.csv\n"
     ]
    },
    {
     "name": "stderr",
     "output_type": "stream",
     "text": [
      "/home/francesco.massaini/.local/lib/python3.10/site-packages/pandas/core/indexes/base.py:7834: RuntimeWarning: invalid value encountered in cast\n",
      "  values = values.astype(str)\n"
     ]
    },
    {
     "name": "stdout",
     "output_type": "stream",
     "text": [
      "raw: LUNG-NSCLC2-0721-FIXT-01-IMC1-01_#_IMMUcan_panel_1_1.10_#_raw_counts_#_580396babf8b8357756649090aade5c2.csv \n",
      "        Corresponding sample: LUNG-NSCLC2-0721-FIXT-01-IMC1-01_#_IMMUcan_panel_1_1.10\n",
      " Corresponding metadata file: LUNG-NSCLC2-0721-FIXT-01-IMC1-01_#_IMMUcan_panel_1_1.10_#_cell_metadata_#_e390c27b47bb81354976fb85da0a7383.csv\n"
     ]
    },
    {
     "name": "stderr",
     "output_type": "stream",
     "text": [
      "/home/francesco.massaini/.local/lib/python3.10/site-packages/pandas/core/indexes/base.py:7834: RuntimeWarning: invalid value encountered in cast\n",
      "  values = values.astype(str)\n"
     ]
    },
    {
     "name": "stdout",
     "output_type": "stream",
     "text": [
      "raw: LUNG-NSCLC2-0565-FIXT-01-IMC1-01_#_IMMUcan_panel_1_1.10_#_raw_counts_#_d88eeeb4baf33be19d91ade2ab6b61b9.csv \n",
      "        Corresponding sample: LUNG-NSCLC2-0565-FIXT-01-IMC1-01_#_IMMUcan_panel_1_1.10\n",
      " Corresponding metadata file: LUNG-NSCLC2-0565-FIXT-01-IMC1-01_#_IMMUcan_panel_1_1.10_#_cell_metadata_#_ce5dd3ab461b27240fbb88c62f9a0532.csv\n"
     ]
    },
    {
     "name": "stderr",
     "output_type": "stream",
     "text": [
      "/home/francesco.massaini/.local/lib/python3.10/site-packages/pandas/core/indexes/base.py:7834: RuntimeWarning: invalid value encountered in cast\n",
      "  values = values.astype(str)\n"
     ]
    },
    {
     "name": "stdout",
     "output_type": "stream",
     "text": [
      "raw: LUNG-NSCLC2-0607-FIXT-01-IMC1-01_#_IMMUcan_panel_1_1.10_#_raw_counts_#_6ed8aa8b54c169cd01a936af12b57239.csv \n",
      "        Corresponding sample: LUNG-NSCLC2-0607-FIXT-01-IMC1-01_#_IMMUcan_panel_1_1.10\n",
      " Corresponding metadata file: LUNG-NSCLC2-0607-FIXT-01-IMC1-01_#_IMMUcan_panel_1_1.10_#_cell_metadata_#_1805084650c02112783a03cb4fd0d6df.csv\n"
     ]
    },
    {
     "name": "stderr",
     "output_type": "stream",
     "text": [
      "/home/francesco.massaini/.local/lib/python3.10/site-packages/pandas/core/indexes/base.py:7834: RuntimeWarning: invalid value encountered in cast\n",
      "  values = values.astype(str)\n"
     ]
    },
    {
     "name": "stdout",
     "output_type": "stream",
     "text": [
      "raw: LUNG-NSCLC2-0674-FIXT-01-IMC1-01_#_IMMUcan_panel_1_1.10_#_raw_counts_#_7fc86a8a4ca661b9c94fa5c9ccfe4637.csv \n",
      "        Corresponding sample: LUNG-NSCLC2-0674-FIXT-01-IMC1-01_#_IMMUcan_panel_1_1.10\n",
      " Corresponding metadata file: LUNG-NSCLC2-0674-FIXT-01-IMC1-01_#_IMMUcan_panel_1_1.10_#_cell_metadata_#_aa18369cc4f5b20c29e6281d4d79b92c.csv\n"
     ]
    },
    {
     "name": "stderr",
     "output_type": "stream",
     "text": [
      "/home/francesco.massaini/.local/lib/python3.10/site-packages/pandas/core/indexes/base.py:7834: RuntimeWarning: invalid value encountered in cast\n",
      "  values = values.astype(str)\n"
     ]
    },
    {
     "name": "stdout",
     "output_type": "stream",
     "text": [
      "raw: LUNG-NSCLC2-0605-FIXT-01-IMC1-01_#_IMMUcan_panel_1_1.10_#_raw_counts_#_7ccdef619600b05dc68046bfbed43156.csv \n",
      "        Corresponding sample: LUNG-NSCLC2-0605-FIXT-01-IMC1-01_#_IMMUcan_panel_1_1.10\n",
      " Corresponding metadata file: LUNG-NSCLC2-0605-FIXT-01-IMC1-01_#_IMMUcan_panel_1_1.10_#_cell_metadata_#_1cb2257a9f4f408475e912a855929cf2.csv\n"
     ]
    },
    {
     "name": "stderr",
     "output_type": "stream",
     "text": [
      "/home/francesco.massaini/.local/lib/python3.10/site-packages/pandas/core/indexes/base.py:7834: RuntimeWarning: invalid value encountered in cast\n",
      "  values = values.astype(str)\n"
     ]
    },
    {
     "name": "stdout",
     "output_type": "stream",
     "text": [
      "raw: LUNG-NSCLC2-0598-FIXT-02-IMC1-01_#_IMMUcan_panel_1_1.10_#_raw_counts_#_43419f511789877b1b5e0c2f8d8a77c4.csv \n",
      "        Corresponding sample: LUNG-NSCLC2-0598-FIXT-02-IMC1-01_#_IMMUcan_panel_1_1.10\n",
      " Corresponding metadata file: LUNG-NSCLC2-0598-FIXT-02-IMC1-01_#_IMMUcan_panel_1_1.10_#_cell_metadata_#_29052d7af48a3f8e31294643d6a1f9ee.csv\n"
     ]
    },
    {
     "name": "stderr",
     "output_type": "stream",
     "text": [
      "/home/francesco.massaini/.local/lib/python3.10/site-packages/pandas/core/indexes/base.py:7834: RuntimeWarning: invalid value encountered in cast\n",
      "  values = values.astype(str)\n"
     ]
    },
    {
     "name": "stdout",
     "output_type": "stream",
     "text": [
      "raw: LUNG-NSCLC2-0570-FIXT-01-IMC1-01_#_IMMUcan_panel_1_1.10_#_raw_counts_#_34688ad1edafa4a2eb66451fbc55cf11.csv \n",
      "        Corresponding sample: LUNG-NSCLC2-0570-FIXT-01-IMC1-01_#_IMMUcan_panel_1_1.10\n",
      " Corresponding metadata file: LUNG-NSCLC2-0570-FIXT-01-IMC1-01_#_IMMUcan_panel_1_1.10_#_cell_metadata_#_99d1865ad6a32874c88874838dd31103.csv\n"
     ]
    },
    {
     "name": "stderr",
     "output_type": "stream",
     "text": [
      "/home/francesco.massaini/.local/lib/python3.10/site-packages/pandas/core/indexes/base.py:7834: RuntimeWarning: invalid value encountered in cast\n",
      "  values = values.astype(str)\n"
     ]
    },
    {
     "name": "stdout",
     "output_type": "stream",
     "text": [
      "raw: LUNG-NSCLC2-0669-FIXT-01-IMC1-01_#_IMMUcan_panel_1_1.10_#_raw_counts_#_5250ca9a2245939a7ca7f828b5ef0e08.csv \n",
      "        Corresponding sample: LUNG-NSCLC2-0669-FIXT-01-IMC1-01_#_IMMUcan_panel_1_1.10\n",
      " Corresponding metadata file: LUNG-NSCLC2-0669-FIXT-01-IMC1-01_#_IMMUcan_panel_1_1.10_#_cell_metadata_#_3a56d9828819db3dfcec7aff4ba886f3.csv\n"
     ]
    },
    {
     "name": "stderr",
     "output_type": "stream",
     "text": [
      "/home/francesco.massaini/.local/lib/python3.10/site-packages/pandas/core/indexes/base.py:7834: RuntimeWarning: invalid value encountered in cast\n",
      "  values = values.astype(str)\n"
     ]
    },
    {
     "name": "stdout",
     "output_type": "stream",
     "text": [
      "raw: LUNG-NSCLC2-0726-FIXT-01-IMC1-01_#_IMMUcan_panel_1_1.10_#_raw_counts_#_cbc01285d95b40837705ba9b09f49f3e.csv \n",
      "        Corresponding sample: LUNG-NSCLC2-0726-FIXT-01-IMC1-01_#_IMMUcan_panel_1_1.10\n",
      " Corresponding metadata file: LUNG-NSCLC2-0726-FIXT-01-IMC1-01_#_IMMUcan_panel_1_1.10_#_cell_metadata_#_c2eab8b7bd69999c8ffd76947ab3797d.csv\n"
     ]
    },
    {
     "name": "stderr",
     "output_type": "stream",
     "text": [
      "/home/francesco.massaini/.local/lib/python3.10/site-packages/pandas/core/indexes/base.py:7834: RuntimeWarning: invalid value encountered in cast\n",
      "  values = values.astype(str)\n"
     ]
    },
    {
     "name": "stdout",
     "output_type": "stream",
     "text": [
      "raw: LUNG-NSCLC2-0645-FIXT-01-IMC1-01_#_IMMUcan_panel_1_1.10_#_raw_counts_#_1848ba0bf23124fe0d7fe978cf60fad5.csv \n",
      "        Corresponding sample: LUNG-NSCLC2-0645-FIXT-01-IMC1-01_#_IMMUcan_panel_1_1.10\n",
      " Corresponding metadata file: LUNG-NSCLC2-0645-FIXT-01-IMC1-01_#_IMMUcan_panel_1_1.10_#_cell_metadata_#_ef2770b44c000676a77f1b916c1c6415.csv\n"
     ]
    },
    {
     "name": "stderr",
     "output_type": "stream",
     "text": [
      "/home/francesco.massaini/.local/lib/python3.10/site-packages/pandas/core/indexes/base.py:7834: RuntimeWarning: invalid value encountered in cast\n",
      "  values = values.astype(str)\n"
     ]
    },
    {
     "name": "stdout",
     "output_type": "stream",
     "text": [
      "raw: LUNG-NSCLC2-0707-FIXT-01-IMC1-01_#_IMMUcan_panel_1_1.10_#_raw_counts_#_b97bc6cc7066be71e7c899eaf47f1b27.csv \n",
      "        Corresponding sample: LUNG-NSCLC2-0707-FIXT-01-IMC1-01_#_IMMUcan_panel_1_1.10\n",
      " Corresponding metadata file: LUNG-NSCLC2-0707-FIXT-01-IMC1-01_#_IMMUcan_panel_1_1.10_#_cell_metadata_#_65fc77563144bb16412680cf8a5061f2.csv\n"
     ]
    },
    {
     "name": "stderr",
     "output_type": "stream",
     "text": [
      "/home/francesco.massaini/.local/lib/python3.10/site-packages/pandas/core/indexes/base.py:7834: RuntimeWarning: invalid value encountered in cast\n",
      "  values = values.astype(str)\n"
     ]
    },
    {
     "name": "stdout",
     "output_type": "stream",
     "text": [
      "raw: LUNG-NSCLC2-0608-FIXT-01-IMC1-01_#_IMMUcan_panel_1_1.10_#_raw_counts_#_abbf4923e093ff4bd133477ef486c0a4.csv \n",
      "        Corresponding sample: LUNG-NSCLC2-0608-FIXT-01-IMC1-01_#_IMMUcan_panel_1_1.10\n",
      " Corresponding metadata file: LUNG-NSCLC2-0608-FIXT-01-IMC1-01_#_IMMUcan_panel_1_1.10_#_cell_metadata_#_b7b529f3567958f6f5d8138ff847f97c.csv\n"
     ]
    },
    {
     "name": "stderr",
     "output_type": "stream",
     "text": [
      "/home/francesco.massaini/.local/lib/python3.10/site-packages/pandas/core/indexes/base.py:7834: RuntimeWarning: invalid value encountered in cast\n",
      "  values = values.astype(str)\n"
     ]
    },
    {
     "name": "stdout",
     "output_type": "stream",
     "text": [
      "raw: LUNG-NSCLC2-0698-FIXT-01-IMC1-01_#_IMMUcan_panel_1_1.10_#_raw_counts_#_0654f381857f19604f54cfe736730822.csv \n",
      "        Corresponding sample: LUNG-NSCLC2-0698-FIXT-01-IMC1-01_#_IMMUcan_panel_1_1.10\n",
      " Corresponding metadata file: LUNG-NSCLC2-0698-FIXT-01-IMC1-01_#_IMMUcan_panel_1_1.10_#_cell_metadata_#_2e9a69b6de8a3be4db03d707697b4469.csv\n"
     ]
    },
    {
     "name": "stderr",
     "output_type": "stream",
     "text": [
      "/home/francesco.massaini/.local/lib/python3.10/site-packages/pandas/core/indexes/base.py:7834: RuntimeWarning: invalid value encountered in cast\n",
      "  values = values.astype(str)\n"
     ]
    },
    {
     "name": "stdout",
     "output_type": "stream",
     "text": [
      "raw: LUNG-NSCLC2-0558-FIXT-01-IMC1-01_#_IMMUcan_panel_1_1.10_#_raw_counts_#_0b452baf54914c17a875153cc837a505.csv \n",
      "        Corresponding sample: LUNG-NSCLC2-0558-FIXT-01-IMC1-01_#_IMMUcan_panel_1_1.10\n",
      " Corresponding metadata file: LUNG-NSCLC2-0558-FIXT-01-IMC1-01_#_IMMUcan_panel_1_1.10_#_cell_metadata_#_83089435c8e488e8316398025665ff8b.csv\n"
     ]
    },
    {
     "name": "stderr",
     "output_type": "stream",
     "text": [
      "/home/francesco.massaini/.local/lib/python3.10/site-packages/pandas/core/indexes/base.py:7834: RuntimeWarning: invalid value encountered in cast\n",
      "  values = values.astype(str)\n"
     ]
    },
    {
     "name": "stdout",
     "output_type": "stream",
     "text": [
      "raw: LUNG-NSCLC2-0665-FIXT-01-IMC1-01_#_IMMUcan_panel_1_1.10_#_raw_counts_#_380013e51fe0ec881cdf994fb481613a.csv \n",
      "        Corresponding sample: LUNG-NSCLC2-0665-FIXT-01-IMC1-01_#_IMMUcan_panel_1_1.10\n",
      " Corresponding metadata file: LUNG-NSCLC2-0665-FIXT-01-IMC1-01_#_IMMUcan_panel_1_1.10_#_cell_metadata_#_967fe39a1356110f35676a8721f5f559.csv\n"
     ]
    },
    {
     "name": "stderr",
     "output_type": "stream",
     "text": [
      "/home/francesco.massaini/.local/lib/python3.10/site-packages/pandas/core/indexes/base.py:7834: RuntimeWarning: invalid value encountered in cast\n",
      "  values = values.astype(str)\n"
     ]
    },
    {
     "name": "stdout",
     "output_type": "stream",
     "text": [
      "raw: LUNG-NSCLC2-0640-FIXT-01-IMC1-01_#_IMMUcan_panel_1_1.10_#_raw_counts_#_265195b630573dcf1a570e2d21ff4bb1.csv \n",
      "        Corresponding sample: LUNG-NSCLC2-0640-FIXT-01-IMC1-01_#_IMMUcan_panel_1_1.10\n",
      " Corresponding metadata file: LUNG-NSCLC2-0640-FIXT-01-IMC1-01_#_IMMUcan_panel_1_1.10_#_cell_metadata_#_89960310a979bc1d2c6ea79eb5e52b44.csv\n"
     ]
    },
    {
     "name": "stderr",
     "output_type": "stream",
     "text": [
      "/home/francesco.massaini/.local/lib/python3.10/site-packages/pandas/core/indexes/base.py:7834: RuntimeWarning: invalid value encountered in cast\n",
      "  values = values.astype(str)\n"
     ]
    },
    {
     "name": "stdout",
     "output_type": "stream",
     "text": [
      "raw: LUNG-NSCLC2-0736-FIXT-01-IMC1-01_#_IMMUcan_panel_1_1.10_#_raw_counts_#_a655efd47af96c11cdae30615076d10b.csv \n",
      "        Corresponding sample: LUNG-NSCLC2-0736-FIXT-01-IMC1-01_#_IMMUcan_panel_1_1.10\n",
      " Corresponding metadata file: LUNG-NSCLC2-0736-FIXT-01-IMC1-01_#_IMMUcan_panel_1_1.10_#_cell_metadata_#_5da4a7813bda34b0c74b8acd313243e9.csv\n"
     ]
    },
    {
     "name": "stderr",
     "output_type": "stream",
     "text": [
      "/home/francesco.massaini/.local/lib/python3.10/site-packages/pandas/core/indexes/base.py:7834: RuntimeWarning: invalid value encountered in cast\n",
      "  values = values.astype(str)\n"
     ]
    },
    {
     "name": "stdout",
     "output_type": "stream",
     "text": [
      "raw: LUNG-NSCLC2-0683-FIXT-01-IMC1-01_#_IMMUcan_panel_1_1.10_#_raw_counts_#_08b2eb46ce0302f29951e98af930959c.csv \n",
      "        Corresponding sample: LUNG-NSCLC2-0683-FIXT-01-IMC1-01_#_IMMUcan_panel_1_1.10\n",
      " Corresponding metadata file: LUNG-NSCLC2-0683-FIXT-01-IMC1-01_#_IMMUcan_panel_1_1.10_#_cell_metadata_#_29b2713af80887ef4548c82b469c268e.csv\n"
     ]
    },
    {
     "name": "stderr",
     "output_type": "stream",
     "text": [
      "/home/francesco.massaini/.local/lib/python3.10/site-packages/pandas/core/indexes/base.py:7834: RuntimeWarning: invalid value encountered in cast\n",
      "  values = values.astype(str)\n"
     ]
    },
    {
     "name": "stdout",
     "output_type": "stream",
     "text": [
      "raw: LUNG-NSCLC2-0621-FIXT-01-IMC1-01_#_IMMUcan_panel_1_1.10_#_raw_counts_#_1af66f63b3d13454f1e9c343b0aa79a9.csv \n",
      "        Corresponding sample: LUNG-NSCLC2-0621-FIXT-01-IMC1-01_#_IMMUcan_panel_1_1.10\n",
      " Corresponding metadata file: LUNG-NSCLC2-0621-FIXT-01-IMC1-01_#_IMMUcan_panel_1_1.10_#_cell_metadata_#_132e4a1e1881c74bb73a5bba19a0cb88.csv\n"
     ]
    },
    {
     "name": "stderr",
     "output_type": "stream",
     "text": [
      "/home/francesco.massaini/.local/lib/python3.10/site-packages/pandas/core/indexes/base.py:7834: RuntimeWarning: invalid value encountered in cast\n",
      "  values = values.astype(str)\n"
     ]
    },
    {
     "name": "stdout",
     "output_type": "stream",
     "text": [
      "raw: LUNG-NSCLC2-0584-FIXT-01-IMC1-01_#_IMMUcan_panel_1_1.10_#_raw_counts_#_57377e0c13fe5990cbb59a2b73ae5dee.csv \n",
      "        Corresponding sample: LUNG-NSCLC2-0584-FIXT-01-IMC1-01_#_IMMUcan_panel_1_1.10\n",
      " Corresponding metadata file: LUNG-NSCLC2-0584-FIXT-01-IMC1-01_#_IMMUcan_panel_1_1.10_#_cell_metadata_#_25c477d9cd14c3e8f3eb96eaa32ea849.csv\n"
     ]
    },
    {
     "name": "stderr",
     "output_type": "stream",
     "text": [
      "/home/francesco.massaini/.local/lib/python3.10/site-packages/pandas/core/indexes/base.py:7834: RuntimeWarning: invalid value encountered in cast\n",
      "  values = values.astype(str)\n"
     ]
    },
    {
     "name": "stdout",
     "output_type": "stream",
     "text": [
      "raw: LUNG-NSCLC2-0693-FIXT-01-IMC1-01_#_IMMUcan_panel_1_1.10_#_raw_counts_#_92442212db3642734f721c6541bc3ec5.csv \n",
      "        Corresponding sample: LUNG-NSCLC2-0693-FIXT-01-IMC1-01_#_IMMUcan_panel_1_1.10\n",
      " Corresponding metadata file: LUNG-NSCLC2-0693-FIXT-01-IMC1-01_#_IMMUcan_panel_1_1.10_#_cell_metadata_#_6a6ec1a36288f0c9058293c00fbaa59d.csv\n"
     ]
    },
    {
     "name": "stderr",
     "output_type": "stream",
     "text": [
      "/home/francesco.massaini/.local/lib/python3.10/site-packages/pandas/core/indexes/base.py:7834: RuntimeWarning: invalid value encountered in cast\n",
      "  values = values.astype(str)\n"
     ]
    },
    {
     "name": "stdout",
     "output_type": "stream",
     "text": [
      "raw: LUNG-NSCLC2-0580-FIXT-01-IMC1-01_#_IMMUcan_panel_1_1.10_#_raw_counts_#_c08c8a278fc172e4acd46db897a5ab8f.csv \n",
      "        Corresponding sample: LUNG-NSCLC2-0580-FIXT-01-IMC1-01_#_IMMUcan_panel_1_1.10\n",
      " Corresponding metadata file: LUNG-NSCLC2-0580-FIXT-01-IMC1-01_#_IMMUcan_panel_1_1.10_#_cell_metadata_#_3f8b3ea10f04d8b9c0328aa56c02a8e4.csv\n"
     ]
    },
    {
     "name": "stderr",
     "output_type": "stream",
     "text": [
      "/home/francesco.massaini/.local/lib/python3.10/site-packages/pandas/core/indexes/base.py:7834: RuntimeWarning: invalid value encountered in cast\n",
      "  values = values.astype(str)\n"
     ]
    },
    {
     "name": "stdout",
     "output_type": "stream",
     "text": [
      "raw: LUNG-NSCLC2-0610-FIXT-01-IMC1-01_#_IMMUcan_panel_1_1.10_#_raw_counts_#_00f65fb3d0ddc32428fb00f7042a2490.csv \n",
      "        Corresponding sample: LUNG-NSCLC2-0610-FIXT-01-IMC1-01_#_IMMUcan_panel_1_1.10\n",
      " Corresponding metadata file: LUNG-NSCLC2-0610-FIXT-01-IMC1-01_#_IMMUcan_panel_1_1.10_#_cell_metadata_#_d41a9468f34152da3b8bab8bde69f524.csv\n"
     ]
    },
    {
     "name": "stderr",
     "output_type": "stream",
     "text": [
      "/home/francesco.massaini/.local/lib/python3.10/site-packages/pandas/core/indexes/base.py:7834: RuntimeWarning: invalid value encountered in cast\n",
      "  values = values.astype(str)\n"
     ]
    },
    {
     "name": "stdout",
     "output_type": "stream",
     "text": [
      "raw: LUNG-NSCLC2-0556-FIXT-01-IMC1-01_#_IMMUcan_panel_1_1.10_#_raw_counts_#_9014257fb3302a4f68df55b8c379cb6a.csv \n",
      "        Corresponding sample: LUNG-NSCLC2-0556-FIXT-01-IMC1-01_#_IMMUcan_panel_1_1.10\n",
      " Corresponding metadata file: LUNG-NSCLC2-0556-FIXT-01-IMC1-01_#_IMMUcan_panel_1_1.10_#_cell_metadata_#_a6a82e211a067829c84285dabb1537ab.csv\n"
     ]
    },
    {
     "name": "stderr",
     "output_type": "stream",
     "text": [
      "/home/francesco.massaini/.local/lib/python3.10/site-packages/pandas/core/indexes/base.py:7834: RuntimeWarning: invalid value encountered in cast\n",
      "  values = values.astype(str)\n"
     ]
    },
    {
     "name": "stdout",
     "output_type": "stream",
     "text": [
      "raw: LUNG-NSCLC2-0573-FIXT-01-IMC1-01_#_IMMUcan_panel_1_1.10_#_raw_counts_#_6fac0b7d10154f55b43db8a2a01911b4.csv \n",
      "        Corresponding sample: LUNG-NSCLC2-0573-FIXT-01-IMC1-01_#_IMMUcan_panel_1_1.10\n",
      " Corresponding metadata file: LUNG-NSCLC2-0573-FIXT-01-IMC1-01_#_IMMUcan_panel_1_1.10_#_cell_metadata_#_01ab02df872211167f1f255a82fd0cda.csv\n"
     ]
    },
    {
     "name": "stderr",
     "output_type": "stream",
     "text": [
      "/home/francesco.massaini/.local/lib/python3.10/site-packages/pandas/core/indexes/base.py:7834: RuntimeWarning: invalid value encountered in cast\n",
      "  values = values.astype(str)\n"
     ]
    },
    {
     "name": "stdout",
     "output_type": "stream",
     "text": [
      "raw: LUNG-NSCLC2-0682-FIXT-01-IMC1-01_#_IMMUcan_panel_1_1.10_#_raw_counts_#_520420d8a2d75f2e0b7f738ae80c4171.csv \n",
      "        Corresponding sample: LUNG-NSCLC2-0682-FIXT-01-IMC1-01_#_IMMUcan_panel_1_1.10\n",
      " Corresponding metadata file: LUNG-NSCLC2-0682-FIXT-01-IMC1-01_#_IMMUcan_panel_1_1.10_#_cell_metadata_#_e55f97a31f4e3c2e7c17a0be9f4d021b.csv\n"
     ]
    },
    {
     "name": "stderr",
     "output_type": "stream",
     "text": [
      "/home/francesco.massaini/.local/lib/python3.10/site-packages/pandas/core/indexes/base.py:7834: RuntimeWarning: invalid value encountered in cast\n",
      "  values = values.astype(str)\n"
     ]
    },
    {
     "name": "stdout",
     "output_type": "stream",
     "text": [
      "raw: LUNG-NSCLC2-0641-FIXT-01-IMC1-01_#_IMMUcan_panel_1_1.10_#_raw_counts_#_d78ac78761b6b0774c7b648beb8eaf95.csv \n",
      "        Corresponding sample: LUNG-NSCLC2-0641-FIXT-01-IMC1-01_#_IMMUcan_panel_1_1.10\n",
      " Corresponding metadata file: LUNG-NSCLC2-0641-FIXT-01-IMC1-01_#_IMMUcan_panel_1_1.10_#_cell_metadata_#_5afa8d0906a41b21ae4624a03f200a72.csv\n"
     ]
    },
    {
     "name": "stderr",
     "output_type": "stream",
     "text": [
      "/home/francesco.massaini/.local/lib/python3.10/site-packages/pandas/core/indexes/base.py:7834: RuntimeWarning: invalid value encountered in cast\n",
      "  values = values.astype(str)\n"
     ]
    },
    {
     "name": "stdout",
     "output_type": "stream",
     "text": [
      "raw: LUNG-NSCLC2-0561-FIXT-01-IMC1-01_#_IMMUcan_panel_1_1.10_#_raw_counts_#_f48abaaefbbb3e3eabe5caea0411ff38.csv \n",
      "        Corresponding sample: LUNG-NSCLC2-0561-FIXT-01-IMC1-01_#_IMMUcan_panel_1_1.10\n",
      " Corresponding metadata file: LUNG-NSCLC2-0561-FIXT-01-IMC1-01_#_IMMUcan_panel_1_1.10_#_cell_metadata_#_d2cc1eb81ffbb1c59dd00c465ca75760.csv\n"
     ]
    },
    {
     "name": "stderr",
     "output_type": "stream",
     "text": [
      "/home/francesco.massaini/.local/lib/python3.10/site-packages/pandas/core/indexes/base.py:7834: RuntimeWarning: invalid value encountered in cast\n",
      "  values = values.astype(str)\n"
     ]
    },
    {
     "name": "stdout",
     "output_type": "stream",
     "text": [
      "raw: LUNG-NSCLC2-0680-FIXT-01-IMC1-01_#_IMMUcan_panel_1_1.10_#_raw_counts_#_5ffae7c3af856820f293c942bb98968d.csv \n",
      "        Corresponding sample: LUNG-NSCLC2-0680-FIXT-01-IMC1-01_#_IMMUcan_panel_1_1.10\n",
      " Corresponding metadata file: LUNG-NSCLC2-0680-FIXT-01-IMC1-01_#_IMMUcan_panel_1_1.10_#_cell_metadata_#_9313935169fe1cc974c416608288435a.csv\n"
     ]
    },
    {
     "name": "stderr",
     "output_type": "stream",
     "text": [
      "/home/francesco.massaini/.local/lib/python3.10/site-packages/pandas/core/indexes/base.py:7834: RuntimeWarning: invalid value encountered in cast\n",
      "  values = values.astype(str)\n"
     ]
    },
    {
     "name": "stdout",
     "output_type": "stream",
     "text": [
      "raw: LUNG-NSCLC2-0601-FIXT-01-IMC1-01_#_IMMUcan_panel_1_1.10_#_raw_counts_#_60e6c0711392ac0c480b5457977f15db.csv \n",
      "        Corresponding sample: LUNG-NSCLC2-0601-FIXT-01-IMC1-01_#_IMMUcan_panel_1_1.10\n",
      " Corresponding metadata file: LUNG-NSCLC2-0601-FIXT-01-IMC1-01_#_IMMUcan_panel_1_1.10_#_cell_metadata_#_3884fb90b48964250c6f155ef1aebe93.csv\n"
     ]
    },
    {
     "name": "stderr",
     "output_type": "stream",
     "text": [
      "/home/francesco.massaini/.local/lib/python3.10/site-packages/pandas/core/indexes/base.py:7834: RuntimeWarning: invalid value encountered in cast\n",
      "  values = values.astype(str)\n"
     ]
    },
    {
     "name": "stdout",
     "output_type": "stream",
     "text": [
      "raw: LUNG-NSCLC2-0604-FIXT-01-IMC1-01_#_IMMUcan_panel_1_1.10_#_raw_counts_#_66fe09ad57fc615cfe1207887978ba71.csv \n",
      "        Corresponding sample: LUNG-NSCLC2-0604-FIXT-01-IMC1-01_#_IMMUcan_panel_1_1.10\n",
      " Corresponding metadata file: LUNG-NSCLC2-0604-FIXT-01-IMC1-01_#_IMMUcan_panel_1_1.10_#_cell_metadata_#_daf0346177ce7ca2a19b5fc2835bf1c2.csv\n"
     ]
    },
    {
     "name": "stderr",
     "output_type": "stream",
     "text": [
      "/home/francesco.massaini/.local/lib/python3.10/site-packages/pandas/core/indexes/base.py:7834: RuntimeWarning: invalid value encountered in cast\n",
      "  values = values.astype(str)\n"
     ]
    },
    {
     "name": "stdout",
     "output_type": "stream",
     "text": [
      "raw: LUNG-NSCLC2-0576-FIXT-01-IMC1-01_#_IMMUcan_panel_1_1.10_#_raw_counts_#_53708055694d7049d476881205749c13.csv \n",
      "        Corresponding sample: LUNG-NSCLC2-0576-FIXT-01-IMC1-01_#_IMMUcan_panel_1_1.10\n",
      " Corresponding metadata file: LUNG-NSCLC2-0576-FIXT-01-IMC1-01_#_IMMUcan_panel_1_1.10_#_cell_metadata_#_ec307d884119e8e9a985bc3eecba2051.csv\n"
     ]
    },
    {
     "name": "stderr",
     "output_type": "stream",
     "text": [
      "/home/francesco.massaini/.local/lib/python3.10/site-packages/pandas/core/indexes/base.py:7834: RuntimeWarning: invalid value encountered in cast\n",
      "  values = values.astype(str)\n"
     ]
    },
    {
     "name": "stdout",
     "output_type": "stream",
     "text": [
      "raw: LUNG-NSCLC2-0738-FIXT-01-IMC1-01_#_IMMUcan_panel_1_1.10_#_raw_counts_#_c61736edf2016fbb3080dff341cd4dfe.csv \n",
      "        Corresponding sample: LUNG-NSCLC2-0738-FIXT-01-IMC1-01_#_IMMUcan_panel_1_1.10\n",
      " Corresponding metadata file: LUNG-NSCLC2-0738-FIXT-01-IMC1-01_#_IMMUcan_panel_1_1.10_#_cell_metadata_#_c91b300579a756041bcac5c840e8b6dc.csv\n"
     ]
    },
    {
     "name": "stderr",
     "output_type": "stream",
     "text": [
      "/home/francesco.massaini/.local/lib/python3.10/site-packages/pandas/core/indexes/base.py:7834: RuntimeWarning: invalid value encountered in cast\n",
      "  values = values.astype(str)\n"
     ]
    },
    {
     "name": "stdout",
     "output_type": "stream",
     "text": [
      "raw: LUNG-NSCLC2-0664-FIXT-01-IMC1-01_#_IMMUcan_panel_1_1.10_#_raw_counts_#_7c167f001130c109b954204a65ee59c1.csv \n",
      "        Corresponding sample: LUNG-NSCLC2-0664-FIXT-01-IMC1-01_#_IMMUcan_panel_1_1.10\n",
      " Corresponding metadata file: LUNG-NSCLC2-0664-FIXT-01-IMC1-01_#_IMMUcan_panel_1_1.10_#_cell_metadata_#_f223bd884a15caf072aa880d0c2fa518.csv\n"
     ]
    },
    {
     "name": "stderr",
     "output_type": "stream",
     "text": [
      "/home/francesco.massaini/.local/lib/python3.10/site-packages/pandas/core/indexes/base.py:7834: RuntimeWarning: invalid value encountered in cast\n",
      "  values = values.astype(str)\n"
     ]
    },
    {
     "name": "stdout",
     "output_type": "stream",
     "text": [
      "raw: LUNG-NSCLC2-0637-FIXT-01-IMC1-01_#_IMMUcan_panel_1_1.10_#_raw_counts_#_80ead65f2573a11cfb55fb24c1d4e982.csv \n",
      "        Corresponding sample: LUNG-NSCLC2-0637-FIXT-01-IMC1-01_#_IMMUcan_panel_1_1.10\n",
      " Corresponding metadata file: LUNG-NSCLC2-0637-FIXT-01-IMC1-01_#_IMMUcan_panel_1_1.10_#_cell_metadata_#_ba0898be52bf7091c5db6d084948b19f.csv\n"
     ]
    },
    {
     "name": "stderr",
     "output_type": "stream",
     "text": [
      "/home/francesco.massaini/.local/lib/python3.10/site-packages/pandas/core/indexes/base.py:7834: RuntimeWarning: invalid value encountered in cast\n",
      "  values = values.astype(str)\n"
     ]
    },
    {
     "name": "stdout",
     "output_type": "stream",
     "text": [
      "raw: LUNG-NSCLC2-0655-FIXT-01-IMC1-01_#_IMMUcan_panel_1_1.10_#_raw_counts_#_4acd83851206202822b69073ee9c4073.csv \n",
      "        Corresponding sample: LUNG-NSCLC2-0655-FIXT-01-IMC1-01_#_IMMUcan_panel_1_1.10\n",
      " Corresponding metadata file: LUNG-NSCLC2-0655-FIXT-01-IMC1-01_#_IMMUcan_panel_1_1.10_#_cell_metadata_#_6d8e47f3f2e934292c39b3aaf578432a.csv\n"
     ]
    },
    {
     "name": "stderr",
     "output_type": "stream",
     "text": [
      "/home/francesco.massaini/.local/lib/python3.10/site-packages/pandas/core/indexes/base.py:7834: RuntimeWarning: invalid value encountered in cast\n",
      "  values = values.astype(str)\n"
     ]
    },
    {
     "name": "stdout",
     "output_type": "stream",
     "text": [
      "raw: LUNG-NSCLC2-0673-FIXT-01-IMC1-01_#_IMMUcan_panel_1_1.10_#_raw_counts_#_29bbc5740795aad716cbf918aa82fadf.csv \n",
      "        Corresponding sample: LUNG-NSCLC2-0673-FIXT-01-IMC1-01_#_IMMUcan_panel_1_1.10\n",
      " Corresponding metadata file: LUNG-NSCLC2-0673-FIXT-01-IMC1-01_#_IMMUcan_panel_1_1.10_#_cell_metadata_#_6f639bf59d620b91a12a64fc84a69713.csv\n"
     ]
    },
    {
     "name": "stderr",
     "output_type": "stream",
     "text": [
      "/home/francesco.massaini/.local/lib/python3.10/site-packages/pandas/core/indexes/base.py:7834: RuntimeWarning: invalid value encountered in cast\n",
      "  values = values.astype(str)\n"
     ]
    },
    {
     "name": "stdout",
     "output_type": "stream",
     "text": [
      "raw: LUNG-NSCLC2-0658-FIXT-01-IMC1-01_#_IMMUcan_panel_1_1.10_#_raw_counts_#_8991d64b8394a58efc592003089052ef.csv \n",
      "        Corresponding sample: LUNG-NSCLC2-0658-FIXT-01-IMC1-01_#_IMMUcan_panel_1_1.10\n",
      " Corresponding metadata file: LUNG-NSCLC2-0658-FIXT-01-IMC1-01_#_IMMUcan_panel_1_1.10_#_cell_metadata_#_1938712356cd554cbba472805790d66a.csv\n"
     ]
    },
    {
     "name": "stderr",
     "output_type": "stream",
     "text": [
      "/home/francesco.massaini/.local/lib/python3.10/site-packages/pandas/core/indexes/base.py:7834: RuntimeWarning: invalid value encountered in cast\n",
      "  values = values.astype(str)\n"
     ]
    },
    {
     "name": "stdout",
     "output_type": "stream",
     "text": [
      "raw: LUNG-NSCLC2-0600-FIXT-01-IMC1-01_#_IMMUcan_panel_1_1.10_#_raw_counts_#_b8fbf7fa4febf46089fb1382c90756a2.csv \n",
      "        Corresponding sample: LUNG-NSCLC2-0600-FIXT-01-IMC1-01_#_IMMUcan_panel_1_1.10\n",
      " Corresponding metadata file: LUNG-NSCLC2-0600-FIXT-01-IMC1-01_#_IMMUcan_panel_1_1.10_#_cell_metadata_#_74ff829cf6fa9fe3f050aeb17e7be5d9.csv\n"
     ]
    },
    {
     "name": "stderr",
     "output_type": "stream",
     "text": [
      "/home/francesco.massaini/.local/lib/python3.10/site-packages/pandas/core/indexes/base.py:7834: RuntimeWarning: invalid value encountered in cast\n",
      "  values = values.astype(str)\n"
     ]
    },
    {
     "name": "stdout",
     "output_type": "stream",
     "text": [
      "raw: LUNG-NSCLC2-0625-FIXT-01-IMC1-01_#_IMMUcan_panel_1_1.10_#_raw_counts_#_b33bb00befdcdf2c3f35933abd431cf6.csv \n",
      "        Corresponding sample: LUNG-NSCLC2-0625-FIXT-01-IMC1-01_#_IMMUcan_panel_1_1.10\n",
      " Corresponding metadata file: LUNG-NSCLC2-0625-FIXT-01-IMC1-01_#_IMMUcan_panel_1_1.10_#_cell_metadata_#_74388d50a67e9814c846b33151cb5903.csv\n"
     ]
    },
    {
     "name": "stderr",
     "output_type": "stream",
     "text": [
      "/home/francesco.massaini/.local/lib/python3.10/site-packages/pandas/core/indexes/base.py:7834: RuntimeWarning: invalid value encountered in cast\n",
      "  values = values.astype(str)\n"
     ]
    },
    {
     "name": "stdout",
     "output_type": "stream",
     "text": [
      "raw: LUNG-NSCLC2-0675-FIXT-01-IMC1-01_#_IMMUcan_panel_1_1.10_#_raw_counts_#_696a9be50dab247a662215ca9fc66bc3.csv \n",
      "        Corresponding sample: LUNG-NSCLC2-0675-FIXT-01-IMC1-01_#_IMMUcan_panel_1_1.10\n",
      " Corresponding metadata file: LUNG-NSCLC2-0675-FIXT-01-IMC1-01_#_IMMUcan_panel_1_1.10_#_cell_metadata_#_b737d58d6a42316244bb6c30f65e6cd5.csv\n"
     ]
    },
    {
     "name": "stderr",
     "output_type": "stream",
     "text": [
      "/home/francesco.massaini/.local/lib/python3.10/site-packages/pandas/core/indexes/base.py:7834: RuntimeWarning: invalid value encountered in cast\n",
      "  values = values.astype(str)\n"
     ]
    },
    {
     "name": "stdout",
     "output_type": "stream",
     "text": [
      "raw: LUNG-NSCLC2-0717-FIXT-01-IMC1-01_#_IMMUcan_panel_1_1.10_#_raw_counts_#_e3db8b4070431c0cad996f5c61cbfd72.csv \n",
      "        Corresponding sample: LUNG-NSCLC2-0717-FIXT-01-IMC1-01_#_IMMUcan_panel_1_1.10\n",
      " Corresponding metadata file: LUNG-NSCLC2-0717-FIXT-01-IMC1-01_#_IMMUcan_panel_1_1.10_#_cell_metadata_#_f25f823d4c28f8ea42b34ff7eb0fea23.csv\n"
     ]
    },
    {
     "name": "stderr",
     "output_type": "stream",
     "text": [
      "/home/francesco.massaini/.local/lib/python3.10/site-packages/pandas/core/indexes/base.py:7834: RuntimeWarning: invalid value encountered in cast\n",
      "  values = values.astype(str)\n"
     ]
    },
    {
     "name": "stdout",
     "output_type": "stream",
     "text": [
      "raw: LUNG-NSCLC2-0727-FIXT-01-IMC1-01_#_IMMUcan_panel_1_1.10_#_raw_counts_#_6c434fe5d4385642e134b919e28c5b89.csv \n",
      "        Corresponding sample: LUNG-NSCLC2-0727-FIXT-01-IMC1-01_#_IMMUcan_panel_1_1.10\n",
      " Corresponding metadata file: LUNG-NSCLC2-0727-FIXT-01-IMC1-01_#_IMMUcan_panel_1_1.10_#_cell_metadata_#_2b2732d3bda78b141b79efcc0e466e84.csv\n"
     ]
    },
    {
     "name": "stderr",
     "output_type": "stream",
     "text": [
      "/home/francesco.massaini/.local/lib/python3.10/site-packages/pandas/core/indexes/base.py:7834: RuntimeWarning: invalid value encountered in cast\n",
      "  values = values.astype(str)\n"
     ]
    },
    {
     "name": "stdout",
     "output_type": "stream",
     "text": [
      "raw: LUNG-NSCLC2-0587-FIXT-01-IMC1-01_#_IMMUcan_panel_1_1.10_#_raw_counts_#_02a7793cda49343c8461501f24aa6b01.csv \n",
      "        Corresponding sample: LUNG-NSCLC2-0587-FIXT-01-IMC1-01_#_IMMUcan_panel_1_1.10\n",
      " Corresponding metadata file: LUNG-NSCLC2-0587-FIXT-01-IMC1-01_#_IMMUcan_panel_1_1.10_#_cell_metadata_#_ae8cc593b7bd719932174d38837813e1.csv\n"
     ]
    },
    {
     "name": "stderr",
     "output_type": "stream",
     "text": [
      "/home/francesco.massaini/.local/lib/python3.10/site-packages/pandas/core/indexes/base.py:7834: RuntimeWarning: invalid value encountered in cast\n",
      "  values = values.astype(str)\n"
     ]
    },
    {
     "name": "stdout",
     "output_type": "stream",
     "text": [
      "raw: LUNG-NSCLC2-0656-FIXT-01-IMC1-01_#_IMMUcan_panel_1_1.10_#_raw_counts_#_8310935ed3d6ea8096d644b339b14264.csv \n",
      "        Corresponding sample: LUNG-NSCLC2-0656-FIXT-01-IMC1-01_#_IMMUcan_panel_1_1.10\n",
      " Corresponding metadata file: LUNG-NSCLC2-0656-FIXT-01-IMC1-01_#_IMMUcan_panel_1_1.10_#_cell_metadata_#_7d0f9222bd162b8844e1f4a80798d2e8.csv\n"
     ]
    },
    {
     "name": "stderr",
     "output_type": "stream",
     "text": [
      "/home/francesco.massaini/.local/lib/python3.10/site-packages/pandas/core/indexes/base.py:7834: RuntimeWarning: invalid value encountered in cast\n",
      "  values = values.astype(str)\n"
     ]
    },
    {
     "name": "stdout",
     "output_type": "stream",
     "text": [
      "raw: LUNG-NSCLC2-0651-FIXT-01-IMC1-01_#_IMMUcan_panel_1_1.10_#_raw_counts_#_5d89870728be4495404a8c7de269bd0c.csv \n",
      "        Corresponding sample: LUNG-NSCLC2-0651-FIXT-01-IMC1-01_#_IMMUcan_panel_1_1.10\n",
      " Corresponding metadata file: LUNG-NSCLC2-0651-FIXT-01-IMC1-01_#_IMMUcan_panel_1_1.10_#_cell_metadata_#_1f0aba382a3530bf6c961fa1a0c17489.csv\n"
     ]
    },
    {
     "name": "stderr",
     "output_type": "stream",
     "text": [
      "/home/francesco.massaini/.local/lib/python3.10/site-packages/pandas/core/indexes/base.py:7834: RuntimeWarning: invalid value encountered in cast\n",
      "  values = values.astype(str)\n"
     ]
    }
   ],
   "source": [
    "# IDs of raw and metadata files stored in the file name  \n",
    "raw_ids = [s.split('_#_raw_counts')[0] for s in raw_files]\n",
    "raw_ids.sort()\n",
    "print(raw_ids)\n",
    "\n",
    "metadata_ids = [s.split('_#_cell_metadata')[0] for s in metadata_files]\n",
    "metadata_ids.sort()\n",
    "print(metadata_ids)\n",
    "\n",
    "# Ideally, these ids should be the same\n",
    "print(raw_ids == metadata_ids)\n",
    "\n",
    "# Since we have checked they are equal, we can merge files based on their name\n",
    "IMCs_all_TLS = [] # empty list to store all the final combined dfs\n",
    "IMCs_all_otherROIs = [] # empty list to store all the final combined dfs\n",
    "\n",
    "marker_columns = pd.read_csv(raw_counts_path/raw_files[0], index_col=0).columns.tolist() # Required to keep only relevant columns for Mosna in the final step\n",
    "index_cd4 = marker_columns.index('CD4')\n",
    "index_hladr = marker_columns.index('HLADR')\n",
    "\n",
    "# Modify selected indices (later these raw colmns will be renamed to avoid duplicated columns in the hot-encoded columns creation step) \n",
    "marker_columns[index_cd4] = 'CD4_marker_col'\n",
    "marker_columns[index_hladr] = 'HLADR_marker_col'\n",
    "\n",
    "relevant_metadata_columns = [\"Pos_X\", \"Pos_Y\", \"celltypes\", \"ROI\", \"tumor_patches\"]\n",
    "columns_to_select = relevant_metadata_columns + marker_columns\n",
    "\n",
    "ROI_TLS = 4 # Set ROI_TLS to the ROI number that contains TLS\n",
    "\n",
    "for raw_file in raw_files:\n",
    "    # Attempt to read the raw data file, handle exceptions if file read fails\n",
    "    try:\n",
    "        df_raw = pd.read_csv(raw_counts_path/raw_file, index_col=0)  # First column is used as index for both dataframes\n",
    "        df_raw.rename(columns={\"CD4\":\"CD4_marker_col\", \"HLADR\":\"HLADR_marker_col\"} , inplace=True) # To avoid duplicated columns during the hot-encoded columns creation   \n",
    "    except Exception as e:\n",
    "        print(f\"Error reading {raw_file}: {e}\")\n",
    "        #continue\n",
    "    \n",
    "    \n",
    "    # Extract the sample ID from the filename\n",
    "    sample_id = raw_file.split('_#_raw_counts')[0]\n",
    "    print(\"raw:\", raw_file, \"\\n        Corresponding sample:\", sample_id)\n",
    "    \n",
    "    # Filter metadata files to find the one starting with the sample_id\n",
    "    matching_files = [f for f in metadata_files if f.startswith(sample_id)]\n",
    "    \n",
    "    if len(matching_files) == 1:\n",
    "        metadata_file = matching_files[0]\n",
    "        \n",
    "        # Attempt to read the metadata file, handle exceptions if file read fails\n",
    "        try:\n",
    "            df_metadata = pd.read_csv(cell_metadata_path/metadata_file, index_col=0)\n",
    "        except Exception as e:\n",
    "            print(f\"Error reading metadata file {metadata_file}: {e}\")\n",
    "            #continue\n",
    "        \n",
    "        print(\" Corresponding metadata file:\", metadata_file)\n",
    "\n",
    "        # Further level of check: merge only if the number of rows (cells) matches\n",
    "        if df_raw.shape[0] == df_metadata.shape[0]:\n",
    "            try:\n",
    "                df_combined = pd.merge(df_raw, df_metadata, left_index=True, right_index=True)\n",
    "                file_name = sample_id + \"_combined_raw_and_metadata.csv\"\n",
    "                df_combined.to_csv(output_folder / file_name)\n",
    "                \n",
    "                df_copy = df_combined[columns_to_select].copy()\n",
    "                df_forMosna = pd.get_dummies(df_copy, columns=['celltypes'], drop_first=False, prefix=None) # one hot encoded cell types, as required by Mosna. Columns mustn't have any prefix in their name\n",
    "                \n",
    "                # Add back celltypes column used for the last step \n",
    "                if 'celltypes' not in df_forMosna.columns:\n",
    "                    df_forMosna['celltypes'] = df_copy['celltypes']\n",
    "\n",
    "                # Add some useful columns    \n",
    "                df_forMosna['filename'] = file_name\n",
    "                df_forMosna['sample'] = df_forMosna['filename'].str.split('-IMC').str[0]\n",
    "                df_forMosna['patient'] = df_forMosna['filename'].str.split('-FIXT').str[0]    \n",
    "\n",
    "                df_forMosna_TLS = df_forMosna[df_forMosna[\"ROI\"] == ROI_TLS] # subset the df to analyze separatly the different ROIs\n",
    "                df_forMosna_otherROIs = df_forMosna[df_forMosna[\"ROI\"] != ROI_TLS]\n",
    "                \n",
    "                IMCs_all_TLS.append(df_forMosna_TLS)\n",
    "                IMCs_all_otherROIs.append(df_forMosna_otherROIs)\n",
    "\n",
    "                \n",
    "            except Exception as e:\n",
    "                print(f\"Error during merging or saving the file: {e}\")\n",
    "    else:\n",
    "        if len(matching_files) == 0:\n",
    "            print(f\"No matching metadata file found for {sample_id}\")\n",
    "        else:\n",
    "            print(f\"Multiple matching metadata files found for {sample_id}, please check data.\")\n",
    "\n",
    "# Here we concatenate in a single file all the dfs stored in the list \"IMCs_all.*\" \n",
    "IMC_all_TLS = pd.concat(IMCs_all_TLS)\n",
    "IMC_all_TLS.to_parquet(output_folder / \"IMC_all_TLS.parquet\") # save in parquet format to store efficiently big amount of data \n",
    "\n",
    "IMC_all_otherROIs = pd.concat(IMCs_all_otherROIs)\n",
    "IMC_all_otherROIs.to_parquet(output_folder / \"IMC_all_otherROIs.parquet\") \n",
    "    "
   ]
  }
 ],
 "metadata": {
  "colab": {
   "provenance": []
  },
  "kernelspec": {
   "display_name": "Python 3 (ipykernel)",
   "language": "python",
   "name": "python3"
  },
  "language_info": {
   "codemirror_mode": {
    "name": "ipython",
    "version": 3
   },
   "file_extension": ".py",
   "mimetype": "text/x-python",
   "name": "python",
   "nbconvert_exporter": "python",
   "pygments_lexer": "ipython3",
   "version": "3.10.13"
  }
 },
 "nbformat": 4,
 "nbformat_minor": 4
}
