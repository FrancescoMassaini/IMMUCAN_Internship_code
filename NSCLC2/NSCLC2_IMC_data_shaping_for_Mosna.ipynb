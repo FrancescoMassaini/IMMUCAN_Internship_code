{
 "cells": [
  {
   "cell_type": "code",
   "execution_count": 2,
   "metadata": {
    "id": "JKhcAxA5hV3e"
   },
   "outputs": [],
   "source": [
    "import pandas as pd\n",
    "import os\n",
    "import seaborn as sns\n",
    "import matplotlib.pyplot as plt\n",
    "from pathlib import Path\n",
    "import re\n",
    "import numpy as np"
   ]
  },
  {
   "cell_type": "markdown",
   "metadata": {},
   "source": [
    "# Prepare input data for Mosna analysis"
   ]
  },
  {
   "cell_type": "markdown",
   "metadata": {},
   "source": [
    "Mosna require an input file with cells coordinates, marker levels (expression as counts or protein levels) and both a column with cell type for each cell and a set of columns one hot encoded for celltypes\n",
    "\n",
    "In IMMUCAN, IMC files for NSCLC2 are composed of two separate files:\n",
    "- raw count files with protein levels \n",
    "- cell metadata files with celltypes, coordinates and lot more.\n",
    "\n",
    "Moreover, Mosna suppose to start with one sigle file with all the samples and patients inside. In later steps, this initial file will be processed into single nodes and edges files with .parquet extention"
   ]
  },
  {
   "cell_type": "code",
   "execution_count": 3,
   "metadata": {},
   "outputs": [],
   "source": [
    "############# FILLED WITH TEST FOLDER ##########################\n",
    "\n",
    "raw_counts_path = Path(\"/home/francesco.massaini/Desktop/IMMUCAN_data/NSCLC2/01_Imaging/IMC/test_samples/raw_counts\")\n",
    "cell_metadata_path = Path(\"/home/francesco.massaini/Desktop/IMMUCAN_data/NSCLC2/01_Imaging/IMC/test_samples/cell_metadata\")\n",
    "\n",
    "output_folder = Path(\"/home/francesco.massaini/Desktop/IMMUCAN_data/NSCLC2/01_Imaging/IMC/test_samples/combined_files\")\n",
    "############# FILLED WITH TEST FOLDER ##########################"
   ]
  },
  {
   "cell_type": "code",
   "execution_count": 4,
   "metadata": {},
   "outputs": [],
   "source": [
    "raw_files = os.listdir(raw_counts_path)\n",
    "metadata_files = os.listdir(cell_metadata_path)"
   ]
  },
  {
   "cell_type": "code",
   "execution_count": 38,
   "metadata": {},
   "outputs": [
    {
     "name": "stdout",
     "output_type": "stream",
     "text": [
      "['LUNG-NSCLC2-0620-FIXT-01-IMC1-01_#_IMMUcan_panel_1_1.10', 'LUNG-NSCLC2-0632-FIXT-01-IMC1-01_#_IMMUcan_panel_1_1.10', 'LUNG-NSCLC2-0633-FIXT-01-IMC1-01_#_IMMUcan_panel_1_1.10', 'LUNG-NSCLC2-0654-FIXT-01-IMC1-01_#_IMMUcan_panel_1_1.10', 'LUNG-NSCLC2-0685-FIXT-01-IMC1-01_#_IMMUcan_panel_1_1.10', 'LUNG-NSCLC2-0690-FIXT-01-IMC1-01_#_IMMUcan_panel_1_1.10', 'LUNG-NSCLC2-0692-FIXT-01-IMC1-01_#_IMMUcan_panel_1_1.10', 'LUNG-NSCLC2-0703-FIXT-01-IMC1-01_#_IMMUcan_panel_1_1.10', 'LUNG-NSCLC2-0704-FIXT-01-IMC1-01_#_IMMUcan_panel_1_1.10', 'LUNG-NSCLC2-0743-FIXT-01-IMC1-01_#_IMMUcan_panel_1_1.10']\n",
      "['LUNG-NSCLC2-0620-FIXT-01-IMC1-01_#_IMMUcan_panel_1_1.10', 'LUNG-NSCLC2-0632-FIXT-01-IMC1-01_#_IMMUcan_panel_1_1.10', 'LUNG-NSCLC2-0633-FIXT-01-IMC1-01_#_IMMUcan_panel_1_1.10', 'LUNG-NSCLC2-0654-FIXT-01-IMC1-01_#_IMMUcan_panel_1_1.10', 'LUNG-NSCLC2-0685-FIXT-01-IMC1-01_#_IMMUcan_panel_1_1.10', 'LUNG-NSCLC2-0690-FIXT-01-IMC1-01_#_IMMUcan_panel_1_1.10', 'LUNG-NSCLC2-0692-FIXT-01-IMC1-01_#_IMMUcan_panel_1_1.10', 'LUNG-NSCLC2-0703-FIXT-01-IMC1-01_#_IMMUcan_panel_1_1.10', 'LUNG-NSCLC2-0704-FIXT-01-IMC1-01_#_IMMUcan_panel_1_1.10', 'LUNG-NSCLC2-0743-FIXT-01-IMC1-01_#_IMMUcan_panel_1_1.10']\n",
      "True\n",
      "raw: LUNG-NSCLC2-0690-FIXT-01-IMC1-01_#_IMMUcan_panel_1_1.10_#_raw_counts_#_ff461814ca756885df79cbb80c911046.csv \n",
      "        Corresponding sample: LUNG-NSCLC2-0690-FIXT-01-IMC1-01_#_IMMUcan_panel_1_1.10\n",
      " Corresponding metadata file: LUNG-NSCLC2-0690-FIXT-01-IMC1-01_#_IMMUcan_panel_1_1.10_#_cell_metadata_#_ec092a450aada0b4f38bd1f778199ca0.csv\n"
     ]
    },
    {
     "name": "stderr",
     "output_type": "stream",
     "text": [
      "/home/francesco.massaini/.local/lib/python3.10/site-packages/pandas/core/indexes/base.py:7834: RuntimeWarning: invalid value encountered in cast\n",
      "  values = values.astype(str)\n"
     ]
    },
    {
     "name": "stdout",
     "output_type": "stream",
     "text": [
      "raw: LUNG-NSCLC2-0620-FIXT-01-IMC1-01_#_IMMUcan_panel_1_1.10_#_raw_counts_#_e18fda5fdecfd4e71948936ced26c944.csv \n",
      "        Corresponding sample: LUNG-NSCLC2-0620-FIXT-01-IMC1-01_#_IMMUcan_panel_1_1.10\n",
      " Corresponding metadata file: LUNG-NSCLC2-0620-FIXT-01-IMC1-01_#_IMMUcan_panel_1_1.10_#_cell_metadata_#_c96f181b417ceedf372f4d3263a917f5.csv\n"
     ]
    },
    {
     "name": "stderr",
     "output_type": "stream",
     "text": [
      "/home/francesco.massaini/.local/lib/python3.10/site-packages/pandas/core/indexes/base.py:7834: RuntimeWarning: invalid value encountered in cast\n",
      "  values = values.astype(str)\n"
     ]
    },
    {
     "name": "stdout",
     "output_type": "stream",
     "text": [
      "raw: LUNG-NSCLC2-0654-FIXT-01-IMC1-01_#_IMMUcan_panel_1_1.10_#_raw_counts_#_7dc081927735ca8105ddc4b7bed0cdc9.csv \n",
      "        Corresponding sample: LUNG-NSCLC2-0654-FIXT-01-IMC1-01_#_IMMUcan_panel_1_1.10\n",
      " Corresponding metadata file: LUNG-NSCLC2-0654-FIXT-01-IMC1-01_#_IMMUcan_panel_1_1.10_#_cell_metadata_#_38df0b46011881758ed93e5e90e40248.csv\n"
     ]
    },
    {
     "name": "stderr",
     "output_type": "stream",
     "text": [
      "/home/francesco.massaini/.local/lib/python3.10/site-packages/pandas/core/indexes/base.py:7834: RuntimeWarning: invalid value encountered in cast\n",
      "  values = values.astype(str)\n"
     ]
    },
    {
     "name": "stdout",
     "output_type": "stream",
     "text": [
      "raw: LUNG-NSCLC2-0703-FIXT-01-IMC1-01_#_IMMUcan_panel_1_1.10_#_raw_counts_#_3bdc76183b659bfc20481cd98bdae562.csv \n",
      "        Corresponding sample: LUNG-NSCLC2-0703-FIXT-01-IMC1-01_#_IMMUcan_panel_1_1.10\n",
      " Corresponding metadata file: LUNG-NSCLC2-0703-FIXT-01-IMC1-01_#_IMMUcan_panel_1_1.10_#_cell_metadata_#_17b7519b9ceef8f6534c03cfa32a97d6.csv\n"
     ]
    },
    {
     "name": "stderr",
     "output_type": "stream",
     "text": [
      "/home/francesco.massaini/.local/lib/python3.10/site-packages/pandas/core/indexes/base.py:7834: RuntimeWarning: invalid value encountered in cast\n",
      "  values = values.astype(str)\n"
     ]
    },
    {
     "name": "stdout",
     "output_type": "stream",
     "text": [
      "raw: LUNG-NSCLC2-0632-FIXT-01-IMC1-01_#_IMMUcan_panel_1_1.10_#_raw_counts_#_26ed6c84f93eb31906d943efaa28de2f.csv \n",
      "        Corresponding sample: LUNG-NSCLC2-0632-FIXT-01-IMC1-01_#_IMMUcan_panel_1_1.10\n",
      " Corresponding metadata file: LUNG-NSCLC2-0632-FIXT-01-IMC1-01_#_IMMUcan_panel_1_1.10_#_cell_metadata_#_6f6112ae900050d0856595b27a45d25d.csv\n"
     ]
    },
    {
     "name": "stderr",
     "output_type": "stream",
     "text": [
      "/home/francesco.massaini/.local/lib/python3.10/site-packages/pandas/core/indexes/base.py:7834: RuntimeWarning: invalid value encountered in cast\n",
      "  values = values.astype(str)\n"
     ]
    },
    {
     "name": "stdout",
     "output_type": "stream",
     "text": [
      "raw: LUNG-NSCLC2-0692-FIXT-01-IMC1-01_#_IMMUcan_panel_1_1.10_#_raw_counts_#_9d6913ae9db56f9c2967b732e5f367f2.csv \n",
      "        Corresponding sample: LUNG-NSCLC2-0692-FIXT-01-IMC1-01_#_IMMUcan_panel_1_1.10\n",
      " Corresponding metadata file: LUNG-NSCLC2-0692-FIXT-01-IMC1-01_#_IMMUcan_panel_1_1.10_#_cell_metadata_#_8383629848658c6496b0326c04ab54c7.csv\n"
     ]
    },
    {
     "name": "stderr",
     "output_type": "stream",
     "text": [
      "/home/francesco.massaini/.local/lib/python3.10/site-packages/pandas/core/indexes/base.py:7834: RuntimeWarning: invalid value encountered in cast\n",
      "  values = values.astype(str)\n"
     ]
    },
    {
     "name": "stdout",
     "output_type": "stream",
     "text": [
      "raw: LUNG-NSCLC2-0633-FIXT-01-IMC1-01_#_IMMUcan_panel_1_1.10_#_raw_counts_#_13260b10295253756c53a857ca8e744d.csv \n",
      "        Corresponding sample: LUNG-NSCLC2-0633-FIXT-01-IMC1-01_#_IMMUcan_panel_1_1.10\n",
      " Corresponding metadata file: LUNG-NSCLC2-0633-FIXT-01-IMC1-01_#_IMMUcan_panel_1_1.10_#_cell_metadata_#_ea0448ac79a6a53e7528608c31de99f3.csv\n"
     ]
    },
    {
     "name": "stderr",
     "output_type": "stream",
     "text": [
      "/home/francesco.massaini/.local/lib/python3.10/site-packages/pandas/core/indexes/base.py:7834: RuntimeWarning: invalid value encountered in cast\n",
      "  values = values.astype(str)\n"
     ]
    },
    {
     "name": "stdout",
     "output_type": "stream",
     "text": [
      "raw: LUNG-NSCLC2-0743-FIXT-01-IMC1-01_#_IMMUcan_panel_1_1.10_#_raw_counts_#_e1fb93fd9f172f6d39a94e3e73ff1b40.csv \n",
      "        Corresponding sample: LUNG-NSCLC2-0743-FIXT-01-IMC1-01_#_IMMUcan_panel_1_1.10\n",
      " Corresponding metadata file: LUNG-NSCLC2-0743-FIXT-01-IMC1-01_#_IMMUcan_panel_1_1.10_#_cell_metadata_#_475c7e8fa35530b658f80c60d7038bcf.csv\n"
     ]
    },
    {
     "name": "stderr",
     "output_type": "stream",
     "text": [
      "/home/francesco.massaini/.local/lib/python3.10/site-packages/pandas/core/indexes/base.py:7834: RuntimeWarning: invalid value encountered in cast\n",
      "  values = values.astype(str)\n"
     ]
    },
    {
     "name": "stdout",
     "output_type": "stream",
     "text": [
      "raw: LUNG-NSCLC2-0685-FIXT-01-IMC1-01_#_IMMUcan_panel_1_1.10_#_raw_counts_#_b319984eb843ccbbd6b2bbc5f6f47cc0.csv \n",
      "        Corresponding sample: LUNG-NSCLC2-0685-FIXT-01-IMC1-01_#_IMMUcan_panel_1_1.10\n",
      " Corresponding metadata file: LUNG-NSCLC2-0685-FIXT-01-IMC1-01_#_IMMUcan_panel_1_1.10_#_cell_metadata_#_6c9a8274e9a0c7885ef83e3aa1d50c6b.csv\n"
     ]
    },
    {
     "name": "stderr",
     "output_type": "stream",
     "text": [
      "/home/francesco.massaini/.local/lib/python3.10/site-packages/pandas/core/indexes/base.py:7834: RuntimeWarning: invalid value encountered in cast\n",
      "  values = values.astype(str)\n"
     ]
    },
    {
     "name": "stdout",
     "output_type": "stream",
     "text": [
      "raw: LUNG-NSCLC2-0704-FIXT-01-IMC1-01_#_IMMUcan_panel_1_1.10_#_raw_counts_#_5098c04b5f916ad463337321a487000f.csv \n",
      "        Corresponding sample: LUNG-NSCLC2-0704-FIXT-01-IMC1-01_#_IMMUcan_panel_1_1.10\n",
      " Corresponding metadata file: LUNG-NSCLC2-0704-FIXT-01-IMC1-01_#_IMMUcan_panel_1_1.10_#_cell_metadata_#_e5b17b82674be648b77907e2e0303165.csv\n"
     ]
    },
    {
     "name": "stderr",
     "output_type": "stream",
     "text": [
      "/home/francesco.massaini/.local/lib/python3.10/site-packages/pandas/core/indexes/base.py:7834: RuntimeWarning: invalid value encountered in cast\n",
      "  values = values.astype(str)\n"
     ]
    }
   ],
   "source": [
    "raw_ids = [s.split('_#_raw_counts')[0] for s in raw_files]\n",
    "raw_ids.sort()\n",
    "print(raw_ids)\n",
    "\n",
    "metadata_ids = [s.split('_#_cell_metadata')[0] for s in metadata_files]\n",
    "metadata_ids.sort()\n",
    "print(metadata_ids)\n",
    "\n",
    "# Ideally, these ids should be the same\n",
    "print(raw_ids == metadata_ids)\n",
    "\n",
    "# Since we have checked they are equal, we can merge files based on their name\n",
    "IMCs_all_TLS = [] # empty list to store all the final combined dfs\n",
    "IMCs_all_otherROIs = [] # empty list to store all the final combined dfs\n",
    "\n",
    "marker_columns = pd.read_csv(raw_counts_path/raw_files[0], index_col=0).columns.tolist() # Required to keep only relevant columns for Mosna in the final step\n",
    "relevant_metadata_columns = [\"Pos_X\", \"Pos_Y\", \"celltypes\", \"ROI\", \"tumor_patches\"]\n",
    "columns_to_select = relevant_metadata_columns + marker_columns\n",
    "\n",
    "ROI_TLS = 4 # ROI which contains TLS\n",
    "\n",
    "for raw_file in raw_files:\n",
    "    # Attempt to read the raw data file, handle exceptions if file read fails\n",
    "    try:\n",
    "        df_raw = pd.read_csv(raw_counts_path/raw_file, index_col=0)  # First column is used as index for both dataframes\n",
    "        df_raw.rename (columns={\"CD4\":\"CD4_marker_col\", \"HLADR\":\"HLADR_marker_col\"} , inplace=True) # To avoid duplicated columns during the hot-encoded columns creation   \n",
    "    except Exception as e:\n",
    "        print(f\"Error reading {raw_file}: {e}\")\n",
    "        continue\n",
    "    \n",
    "    \n",
    "    # Extract the sample ID from the filename\n",
    "    sample_id = raw_file.split('_#_raw_counts')[0]\n",
    "    print(\"raw:\", raw_file, \"\\n        Corresponding sample:\", sample_id)\n",
    "    \n",
    "    # Filter metadata files to find the one starting with the sample_id\n",
    "    matching_files = [f for f in metadata_files if f.startswith(sample_id)]\n",
    "    \n",
    "    if len(matching_files) == 1:\n",
    "        metadata_file = matching_files[0]\n",
    "        \n",
    "        # Attempt to read the metadata file, handle exceptions if file read fails\n",
    "        try:\n",
    "            df_metadata = pd.read_csv(cell_metadata_path/metadata_file, index_col=0)\n",
    "        except Exception as e:\n",
    "            print(f\"Error reading metadata file {metadata_file}: {e}\")\n",
    "            continue\n",
    "        \n",
    "        print(\" Corresponding metadata file:\", metadata_file)\n",
    "\n",
    "        # Further level of check: merge only if the number of rows (cells) matches\n",
    "        if df_raw.shape[0] == df_metadata.shape[0]:\n",
    "            try:\n",
    "                df_combined = pd.merge(df_raw, df_metadata, left_index=True, right_index=True)\n",
    "                file_name = sample_id + \"_combined_raw_and_metadata.csv\"\n",
    "                df_combined.to_csv(output_folder / file_name)\n",
    "                \n",
    "                df_copy = df_combined[columns_to_select].copy()\n",
    "                df_forMosna = pd.get_dummies(df_copy, columns=['celltypes'], drop_first=False, prefix=None) # one hot encoded cell types, as required by Mosna. Columns mustn't have any prefix in their name\n",
    "                \n",
    "                # Add back celltypes column used for the last step \n",
    "                if 'celltypes' not in df_forMosna.columns:\n",
    "                    df_forMosna['celltypes'] = df_copy['celltypes']\n",
    "\n",
    "                # Add some useful columns    \n",
    "                df_forMosna['filename'] = file_name\n",
    "                df_forMosna['sample'] = df_forMosna['filename'].str.split('-IMC').str[0]\n",
    "                df_forMosna['patient'] = df_forMosna['filename'].str.split('-FIXT').str[0]    \n",
    "\n",
    "                df_forMosna_TLS = df_forMosna[df_forMosna[\"ROI\"] == ROI_TLS] # subset the df to analyze separatly the different ROIs\n",
    "                df_forMosna_otherROIs = df_forMosna[df_forMosna[\"ROI\"] != ROI_TLS]\n",
    "                \n",
    "                IMCs_all_TLS.append(df_forMosna_TLS)\n",
    "                IMCs_all_otherROIs.append(df_forMosna_otherROIs)\n",
    "\n",
    "                \n",
    "            except Exception as e:\n",
    "                print(f\"Error during merging or saving the file: {e}\")\n",
    "    else:\n",
    "        if len(matching_files) == 0:\n",
    "            print(f\"No matching metadata file found for {sample_id}\")\n",
    "        else:\n",
    "            print(f\"Multiple matching metadata files found for {sample_id}, please check data.\")\n",
    "\n",
    "IMC_all_TLS = pd.concat(IMCs_all_TLS)\n",
    "IMC_all_TLS.to_csv(output_folder.parent / \"IMC_all_TLS_test.csv\") #### TOGLIERE TEST \n",
    "\n",
    "IMC_all_otherROIs = pd.concat(IMCs_all_otherROIs)\n",
    "IMC_all_otherROIs.to_csv(output_folder.parent / \"IMC_all_otherROIs_test.csv\")  #### TOGLIERE TEST\n",
    "    "
   ]
  }
 ],
 "metadata": {
  "colab": {
   "provenance": []
  },
  "kernelspec": {
   "display_name": "Python 3 (ipykernel)",
   "language": "python",
   "name": "python3"
  },
  "language_info": {
   "codemirror_mode": {
    "name": "ipython",
    "version": 3
   },
   "file_extension": ".py",
   "mimetype": "text/x-python",
   "name": "python",
   "nbconvert_exporter": "python",
   "pygments_lexer": "ipython3",
   "version": "3.10.13"
  }
 },
 "nbformat": 4,
 "nbformat_minor": 4
}
