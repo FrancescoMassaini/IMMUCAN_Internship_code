{
 "cells": [
  {
   "cell_type": "code",
   "execution_count": 3,
   "metadata": {
    "id": "JKhcAxA5hV3e"
   },
   "outputs": [],
   "source": [
    "import pandas as pd\n",
    "\n",
    "# One-hot encoding \n",
    "import dask.dataframe as dd\n",
    "\n",
    "IMC = dd.read_csv(\"/home/francesco.massaini/Desktop/IMMUCAN_data/NSCLC2/01_Imaging/IMC/IMC_all_count.csv\")\n",
    "IMC = IMC[[\"celltypes\", \"Pos_X\", \"Pos_Y\", \"id\", \"patient\"]]\n",
    "# Convert 'celltypes' to categorical values\n",
    "IMC = IMC.categorize(columns=['celltypes'])\n",
    "\n",
    "# Create dummies variables\n",
    "dummies = dd.get_dummies(IMC['celltypes'])\n",
    "\n",
    "# Join in a single df\n",
    "obj = IMC.join(dummies)\n",
    "\n",
    "# Compute operation to get a pandas df\n",
    "obj = obj.compute()\n",
    "obj.to_csv('/home/francesco.massaini/Desktop/IMMUCAN_data/NSCLC2/01_Imaging/IMC/IMC_all_count_OneHot.csv', index=False)"
   ]
  }
 ],
 "metadata": {
  "colab": {
   "provenance": []
  },
  "kernelspec": {
   "display_name": "Python 3 (ipykernel)",
   "language": "python",
   "name": "python3"
  },
  "language_info": {
   "codemirror_mode": {
    "name": "ipython",
    "version": 3
   },
   "file_extension": ".py",
   "mimetype": "text/x-python",
   "name": "python",
   "nbconvert_exporter": "python",
   "pygments_lexer": "ipython3",
   "version": "3.10.13"
  }
 },
 "nbformat": 4,
 "nbformat_minor": 4
}
